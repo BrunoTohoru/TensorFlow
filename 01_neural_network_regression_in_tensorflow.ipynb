{
  "nbformat": 4,
  "nbformat_minor": 0,
  "metadata": {
    "colab": {
      "provenance": [],
      "gpuType": "T4",
      "toc_visible": true,
      "mount_file_id": "1PdihaxLbMZXZ55tdZ-DoMgTWzLzv1Au2",
      "authorship_tag": "ABX9TyOaMuxsCtkUgKYu7m8RJJAE",
      "include_colab_link": true
    },
    "kernelspec": {
      "name": "python3",
      "display_name": "Python 3"
    },
    "language_info": {
      "name": "python"
    },
    "accelerator": "GPU",
    "gpuClass": "standard"
  },
  "cells": [
    {
      "cell_type": "markdown",
      "metadata": {
        "id": "view-in-github",
        "colab_type": "text"
      },
      "source": [
        "<a href=\"https://colab.research.google.com/github/BrunoTohoru/TensorFlow/blob/main/01_neural_network_regression_in_tensorflow.ipynb\" target=\"_parent\"><img src=\"https://colab.research.google.com/assets/colab-badge.svg\" alt=\"Open In Colab\"/></a>"
      ]
    },
    {
      "cell_type": "markdown",
      "source": [
        "# Introdução a Regressão com Neural Network no TensorFlow\n",
        "\n",
        "Existem varias definições para ploblemas de regressão, mas nosso caso, vamos simplifica-lo: predição de uma variável de valor numérico baseado em combinações de outras variáveis, mais resumido... predizendo um número."
      ],
      "metadata": {
        "id": "XxQ95zbi1gMy"
      }
    },
    {
      "cell_type": "code",
      "source": [
        "# Import TensorFlow\n",
        "import tensorflow as tf\n",
        "print(tf.__version__)"
      ],
      "metadata": {
        "colab": {
          "base_uri": "https://localhost:8080/"
        },
        "id": "IpFD_2p32ljJ",
        "outputId": "3423b047-2126-46fd-c599-2892f395e9a5"
      },
      "execution_count": null,
      "outputs": [
        {
          "output_type": "stream",
          "name": "stdout",
          "text": [
            "2.12.0\n"
          ]
        }
      ]
    },
    {
      "cell_type": "markdown",
      "source": [
        "## Criando dados para visualizar e adequar"
      ],
      "metadata": {
        "id": "Dyo6P5KH23ZB"
      }
    },
    {
      "cell_type": "code",
      "source": [
        "import numpy as np\n",
        "import matplotlib.pyplot as plt\n",
        "\n",
        "# Criando funções\n",
        "X = np.array([-7.0, -4.0, -1.0, 2.0, 5.0, 8.0, 11.0, 14.0])\n",
        "\n",
        "# Criando rotulos\n",
        "Y = np.array([3.0, 6.0, 9.0, 12.0, 15.0, 18.0, 21.0, 24.0])\n",
        "\n",
        "# Visualizar\n",
        "plt.scatter(X, Y)"
      ],
      "metadata": {
        "colab": {
          "base_uri": "https://localhost:8080/",
          "height": 452
        },
        "id": "lowhiB6l2_kA",
        "outputId": "a42a7e02-3d00-4307-c803-1305b835ea1c"
      },
      "execution_count": null,
      "outputs": [
        {
          "output_type": "execute_result",
          "data": {
            "text/plain": [
              "<matplotlib.collections.PathCollection at 0x7f3f7c79c850>"
            ]
          },
          "metadata": {},
          "execution_count": 2
        },
        {
          "output_type": "display_data",
          "data": {
            "text/plain": [
              "<Figure size 640x480 with 1 Axes>"
            ],
            "image/png": "[encoded data removed]"
          },
          "metadata": {}
        }
      ]
    },
    {
      "cell_type": "markdown",
      "source": [
        "## Formato dos Inputs e Outputs"
      ],
      "metadata": {
        "id": "w9er_p184SCx"
      }
    },
    {
      "cell_type": "code",
      "source": [
        "# Criando uma Tensor demo para nosso exemplo da predição do valor da casa\n",
        "house_info = tf.constant([\"bedroom\", \"bethroom\", \"garage\"])\n",
        "house_price = tf.constant(939700)\n",
        "house_info, house_price"
      ],
      "metadata": {
        "colab": {
          "base_uri": "https://localhost:8080/"
        },
        "id": "0gX3i2iV4Xnb",
        "outputId": "27bfc30a-a7ca-4a6f-f98f-d673868939ed"
      },
      "execution_count": null,
      "outputs": [
        {
          "output_type": "execute_result",
          "data": {
            "text/plain": [
              "(<tf.Tensor: shape=(3,), dtype=string, numpy=array([b'bedroom', b'bethroom', b'garage'], dtype=object)>,\n",
              " <tf.Tensor: shape=(), dtype=int32, numpy=939700>)"
            ]
          },
          "metadata": {},
          "execution_count": 3
        }
      ]
    },
    {
      "cell_type": "code",
      "source": [
        "input_shape = X.shape\n",
        "output_shape = Y.shape\n",
        "input_shape, output_shape"
      ],
      "metadata": {
        "colab": {
          "base_uri": "https://localhost:8080/"
        },
        "id": "HVwo37Sb5vEQ",
        "outputId": "2f67469a-d3ac-41fc-d2f8-69cfc3f47c3b"
      },
      "execution_count": null,
      "outputs": [
        {
          "output_type": "execute_result",
          "data": {
            "text/plain": [
              "((8,), (8,))"
            ]
          },
          "metadata": {},
          "execution_count": 4
        }
      ]
    },
    {
      "cell_type": "code",
      "source": [
        "# Transformando os vetores numpy em Tensors\n",
        "X = tf.constant(X)\n",
        "Y = tf.constant(Y)\n",
        "X, Y"
      ],
      "metadata": {
        "colab": {
          "base_uri": "https://localhost:8080/"
        },
        "id": "K-JNgujn7MfB",
        "outputId": "b74825eb-0c87-42fb-8f72-6bbd29996e5b"
      },
      "execution_count": null,
      "outputs": [
        {
          "output_type": "execute_result",
          "data": {
            "text/plain": [
              "(<tf.Tensor: shape=(8,), dtype=float64, numpy=array([-7., -4., -1.,  2.,  5.,  8., 11., 14.])>,\n",
              " <tf.Tensor: shape=(8,), dtype=float64, numpy=array([ 3.,  6.,  9., 12., 15., 18., 21., 24.])>)"
            ]
          },
          "metadata": {},
          "execution_count": 5
        }
      ]
    },
    {
      "cell_type": "code",
      "source": [
        "input_shape = X[0].shape\n",
        "output_shape = Y[0].shape\n",
        "input_shape, output_shape"
      ],
      "metadata": {
        "colab": {
          "base_uri": "https://localhost:8080/"
        },
        "id": "Gy-nkbwS7f_3",
        "outputId": "a69a7e1b-c7f4-4553-c4b1-bface275c51d"
      },
      "execution_count": null,
      "outputs": [
        {
          "output_type": "execute_result",
          "data": {
            "text/plain": [
              "(TensorShape([]), TensorShape([]))"
            ]
          },
          "metadata": {},
          "execution_count": 6
        }
      ]
    },
    {
      "cell_type": "code",
      "source": [
        "plt.scatter(X, Y)"
      ],
      "metadata": {
        "colab": {
          "base_uri": "https://localhost:8080/",
          "height": 452
        },
        "id": "-iZ4a0dK7sAf",
        "outputId": "37726150-b893-4520-9a30-d33481a70432"
      },
      "execution_count": null,
      "outputs": [
        {
          "output_type": "execute_result",
          "data": {
            "text/plain": [
              "<matplotlib.collections.PathCollection at 0x7f3f7a68f8e0>"
            ]
          },
          "metadata": {},
          "execution_count": 7
        },
        {
          "output_type": "display_data",
          "data": {
            "text/plain": [
              "<Figure size 640x480 with 1 Axes>"
            ],
            "image/png": "[encoded data removed]"
          },
          "metadata": {}
        }
      ]
    },
    {
      "cell_type": "markdown",
      "source": [
        "## Passos de modelagem em TensorFlow\n",
        "1. **Creando um modelo** - define as camadas do input e do output, assim como as camadas escondidas (hidden layers) do modelo de deep learning.\n",
        "2. **Compilando o modelo** - define o loss funtion (em outras palavras, essa função nos diz o quão errado está o nosso modelo) e o optimizer (diz ao nosso modelo como melhorar os padrões de aprendizagem) e avalia as metricas (que podemos usar para interpretar nosso modelo).\n",
        "3. **Fitting a model** - Deixa nosso modelo achar padrões entre X e Y (features and labbles)"
      ],
      "metadata": {
        "id": "NmeLQtbW7yxM"
      }
    },
    {
      "cell_type": "code",
      "source": [
        "# Set random seed\n",
        "tf.random.set_seed(42)\n",
        "\n",
        "# 1. Criando um modelo usando API Sequencial\n",
        "model = tf.keras.Sequential([\n",
        "    tf.keras.layers.Dense(1)\n",
        "])\n",
        "\n",
        "# 2. Comilar o modelo\n",
        "model.compile(loss=tf.keras.losses.mae, # mae -> mean absolut error (loss = mean(abs(y_true - y_pred), axis=-1))\n",
        "              optimizer=tf.keras.optimizers.SGD(), # SGD -> stochastic gradient descent\n",
        "              metrics=[\"mae\"])\n",
        "\n",
        "# Fit the model\n",
        "model.fit(tf.expand_dims(X, axis=-1), Y, epochs=5)"
      ],
      "metadata": {
        "colab": {
          "base_uri": "https://localhost:8080/"
        },
        "id": "Tj4zvty276mY",
        "outputId": "bd1cdfca-745e-4c29-8d46-0dac28c34d9f"
      },
      "execution_count": null,
      "outputs": [
        {
          "output_type": "stream",
          "name": "stdout",
          "text": [
            "Epoch 1/5\n",
            "1/1 [==============================] - 7s 7s/step - loss: 14.3956 - mae: 14.3956\n",
            "Epoch 2/5\n",
            "1/1 [==============================] - 0s 15ms/step - loss: 14.2631 - mae: 14.2631\n",
            "Epoch 3/5\n",
            "1/1 [==============================] - 0s 19ms/step - loss: 14.1306 - mae: 14.1306\n",
            "Epoch 4/5\n",
            "1/1 [==============================] - 0s 12ms/step - loss: 13.9981 - mae: 13.9981\n",
            "Epoch 5/5\n",
            "1/1 [==============================] - 0s 9ms/step - loss: 13.8656 - mae: 13.8656\n"
          ]
        },
        {
          "output_type": "execute_result",
          "data": {
            "text/plain": [
              "<keras.callbacks.History at 0x7f3f5c8f6260>"
            ]
          },
          "metadata": {},
          "execution_count": 8
        }
      ]
    },
    {
      "cell_type": "code",
      "source": [
        "# Verificar X e Y\n",
        "X, Y"
      ],
      "metadata": {
        "colab": {
          "base_uri": "https://localhost:8080/"
        },
        "id": "LvpS3XngCOSK",
        "outputId": "cfeae5af-fd3a-46f3-8812-ae5a825d27b3"
      },
      "execution_count": null,
      "outputs": [
        {
          "output_type": "execute_result",
          "data": {
            "text/plain": [
              "(<tf.Tensor: shape=(8,), dtype=float64, numpy=array([-7., -4., -1.,  2.,  5.,  8., 11., 14.])>,\n",
              " <tf.Tensor: shape=(8,), dtype=float64, numpy=array([ 3.,  6.,  9., 12., 15., 18., 21., 24.])>)"
            ]
          },
          "metadata": {},
          "execution_count": 9
        }
      ]
    },
    {
      "cell_type": "code",
      "source": [
        "# Tantando realizar uma predição usando nosso modelo\n",
        "model.predict([17.0])"
      ],
      "metadata": {
        "colab": {
          "base_uri": "https://localhost:8080/"
        },
        "id": "nqmSw22pCTrI",
        "outputId": "d46be84a-d9f9-4b52-f48a-fa18604580bd"
      },
      "execution_count": null,
      "outputs": [
        {
          "output_type": "stream",
          "name": "stdout",
          "text": [
            "1/1 [==============================] - 0s 166ms/step\n"
          ]
        },
        {
          "output_type": "execute_result",
          "data": {
            "text/plain": [
              "array([[-1.3252866]], dtype=float32)"
            ]
          },
          "metadata": {},
          "execution_count": 10
        }
      ]
    },
    {
      "cell_type": "markdown",
      "source": [
        "## Melhorando nosso modelo\n",
        "\n",
        "Podemos melhorar nosso modelo alterando os passos que realizamos para cria-lo.\n",
        "1. **Creating a model** - aqui podemos adicionar mais layers, aumentar o número de hidden units (neuronios) dentro de cada hidden layers, mudando a função de ativação de cada layer.\n",
        "2. **Compiling a model** - aqui podemos mudar o optimization function, ou talvez o **learning rate** do optimization function.\n",
        "3. **Fitting a model** - aqui podemos aumentar a quantidade de **epochs** (Deixe o menino treinar mais) ou adicionar mais dados."
      ],
      "metadata": {
        "id": "JIE4ve3zC52W"
      }
    },
    {
      "cell_type": "code",
      "source": [
        "# Vamos reconstruir nosso modelo\n",
        "\n",
        "# 1. Criando o modelo\n",
        "model = tf.keras.Sequential([\n",
        "    tf.keras.layers.Dense(1)\n",
        "])\n",
        "\n",
        "# 2. Compilando o modelo\n",
        "model.compile(loss=tf.keras.losses.mae,\n",
        "              optimizer=tf.keras.optimizers.SGD(),\n",
        "              metrics=[\"mae\"])\n",
        "\n",
        "# 3. Fit o modelo (DESTA VEZ COM MAIS TREINO)\n",
        "model.fit(tf.expand_dims(X, axis=-1), Y, epochs=100)"
      ],
      "metadata": {
        "colab": {
          "base_uri": "https://localhost:8080/"
        },
        "id": "BrWqgPEyDLmd",
        "outputId": "52cc4c03-8ca7-41cd-f0dc-408545a39ba0"
      },
      "execution_count": null,
      "outputs": [
        {
          "output_type": "stream",
          "name": "stdout",
          "text": [
            "Epoch 1/100\n",
            "1/1 [==============================] - 1s 699ms/step - loss: 13.3447 - mae: 13.3447\n",
            "Epoch 2/100\n",
            "1/1 [==============================] - 0s 13ms/step - loss: 13.2122 - mae: 13.2122\n",
            "Epoch 3/100\n",
            "1/1 [==============================] - 0s 16ms/step - loss: 13.0797 - mae: 13.0797\n",
            "Epoch 4/100\n",
            "1/1 [==============================] - 0s 13ms/step - loss: 12.9472 - mae: 12.9472\n",
            "Epoch 5/100\n",
            "1/1 [==============================] - 0s 13ms/step - loss: 12.8147 - mae: 12.8147\n",
            "Epoch 6/100\n",
            "1/1 [==============================] - 0s 13ms/step - loss: 12.6822 - mae: 12.6822\n",
            "Epoch 7/100\n",
            "1/1 [==============================] - 0s 13ms/step - loss: 12.5497 - mae: 12.5497\n",
            "Epoch 8/100\n",
            "1/1 [==============================] - 0s 12ms/step - loss: 12.4172 - mae: 12.4172\n",
            "Epoch 9/100\n",
            "1/1 [==============================] - 0s 11ms/step - loss: 12.2847 - mae: 12.2847\n",
            "Epoch 10/100\n",
            "1/1 [==============================] - 0s 12ms/step - loss: 12.1522 - mae: 12.1522\n",
            "Epoch 11/100\n",
            "1/1 [==============================] - 0s 11ms/step - loss: 12.0197 - mae: 12.0197\n",
            "Epoch 12/100\n",
            "1/1 [==============================] - 0s 10ms/step - loss: 11.8872 - mae: 11.8872\n",
            "Epoch 13/100\n",
            "1/1 [==============================] - 0s 11ms/step - loss: 11.7547 - mae: 11.7547\n",
            "Epoch 14/100\n",
            "1/1 [==============================] - 0s 10ms/step - loss: 11.6222 - mae: 11.6222\n",
            "Epoch 15/100\n",
            "1/1 [==============================] - 0s 11ms/step - loss: 11.4897 - mae: 11.4897\n",
            "Epoch 16/100\n",
            "1/1 [==============================] - 0s 16ms/step - loss: 11.3572 - mae: 11.3572\n",
            "Epoch 17/100\n",
            "1/1 [==============================] - 0s 11ms/step - loss: 11.2247 - mae: 11.2247\n",
            "Epoch 18/100\n",
            "1/1 [==============================] - 0s 11ms/step - loss: 11.0922 - mae: 11.0922\n",
            "Epoch 19/100\n",
            "1/1 [==============================] - 0s 36ms/step - loss: 10.9597 - mae: 10.9597\n",
            "Epoch 20/100\n",
            "1/1 [==============================] - 0s 12ms/step - loss: 10.8272 - mae: 10.8272\n",
            "Epoch 21/100\n",
            "1/1 [==============================] - 0s 14ms/step - loss: 10.6947 - mae: 10.6947\n",
            "Epoch 22/100\n",
            "1/1 [==============================] - 0s 16ms/step - loss: 10.5622 - mae: 10.5622\n",
            "Epoch 23/100\n",
            "1/1 [==============================] - 0s 16ms/step - loss: 10.4297 - mae: 10.4297\n",
            "Epoch 24/100\n",
            "1/1 [==============================] - 0s 8ms/step - loss: 10.2972 - mae: 10.2972\n",
            "Epoch 25/100\n",
            "1/1 [==============================] - 0s 20ms/step - loss: 10.1647 - mae: 10.1647\n",
            "Epoch 26/100\n",
            "1/1 [==============================] - 0s 14ms/step - loss: 10.0322 - mae: 10.0322\n",
            "Epoch 27/100\n",
            "1/1 [==============================] - 0s 13ms/step - loss: 9.8997 - mae: 9.8997\n",
            "Epoch 28/100\n",
            "1/1 [==============================] - 0s 21ms/step - loss: 9.7672 - mae: 9.7672\n",
            "Epoch 29/100\n",
            "1/1 [==============================] - 0s 21ms/step - loss: 9.6347 - mae: 9.6347\n",
            "Epoch 30/100\n",
            "1/1 [==============================] - 0s 13ms/step - loss: 9.5022 - mae: 9.5022\n",
            "Epoch 31/100\n",
            "1/1 [==============================] - 0s 30ms/step - loss: 9.3697 - mae: 9.3697\n",
            "Epoch 32/100\n",
            "1/1 [==============================] - 0s 16ms/step - loss: 9.2372 - mae: 9.2372\n",
            "Epoch 33/100\n",
            "1/1 [==============================] - 0s 14ms/step - loss: 9.1047 - mae: 9.1047\n",
            "Epoch 34/100\n",
            "1/1 [==============================] - 0s 14ms/step - loss: 8.9722 - mae: 8.9722\n",
            "Epoch 35/100\n",
            "1/1 [==============================] - 0s 22ms/step - loss: 8.8397 - mae: 8.8397\n",
            "Epoch 36/100\n",
            "1/1 [==============================] - 0s 12ms/step - loss: 8.7072 - mae: 8.7072\n",
            "Epoch 37/100\n",
            "1/1 [==============================] - 0s 14ms/step - loss: 8.5747 - mae: 8.5747\n",
            "Epoch 38/100\n",
            "1/1 [==============================] - 0s 19ms/step - loss: 8.4422 - mae: 8.4422\n",
            "Epoch 39/100\n",
            "1/1 [==============================] - 0s 19ms/step - loss: 8.3097 - mae: 8.3097\n",
            "Epoch 40/100\n",
            "1/1 [==============================] - 0s 12ms/step - loss: 8.1772 - mae: 8.1772\n",
            "Epoch 41/100\n",
            "1/1 [==============================] - 0s 15ms/step - loss: 8.0447 - mae: 8.0447\n",
            "Epoch 42/100\n",
            "1/1 [==============================] - 0s 18ms/step - loss: 7.9122 - mae: 7.9122\n",
            "Epoch 43/100\n",
            "1/1 [==============================] - 0s 20ms/step - loss: 7.7797 - mae: 7.7797\n",
            "Epoch 44/100\n",
            "1/1 [==============================] - 0s 10ms/step - loss: 7.6472 - mae: 7.6472\n",
            "Epoch 45/100\n",
            "1/1 [==============================] - 0s 15ms/step - loss: 7.5147 - mae: 7.5147\n",
            "Epoch 46/100\n",
            "1/1 [==============================] - 0s 10ms/step - loss: 7.3822 - mae: 7.3822\n",
            "Epoch 47/100\n",
            "1/1 [==============================] - 0s 10ms/step - loss: 7.2497 - mae: 7.2497\n",
            "Epoch 48/100\n",
            "1/1 [==============================] - 0s 10ms/step - loss: 7.1475 - mae: 7.1475\n",
            "Epoch 49/100\n",
            "1/1 [==============================] - 0s 10ms/step - loss: 7.1419 - mae: 7.1419\n",
            "Epoch 50/100\n",
            "1/1 [==============================] - 0s 11ms/step - loss: 7.1363 - mae: 7.1363\n",
            "Epoch 51/100\n",
            "1/1 [==============================] - 0s 11ms/step - loss: 7.1306 - mae: 7.1306\n",
            "Epoch 52/100\n",
            "1/1 [==============================] - 0s 24ms/step - loss: 7.1250 - mae: 7.1250\n",
            "Epoch 53/100\n",
            "1/1 [==============================] - 0s 15ms/step - loss: 7.1194 - mae: 7.1194\n",
            "Epoch 54/100\n",
            "1/1 [==============================] - 0s 19ms/step - loss: 7.1138 - mae: 7.1138\n",
            "Epoch 55/100\n",
            "1/1 [==============================] - 0s 12ms/step - loss: 7.1081 - mae: 7.1081\n",
            "Epoch 56/100\n",
            "1/1 [==============================] - 0s 15ms/step - loss: 7.1025 - mae: 7.1025\n",
            "Epoch 57/100\n",
            "1/1 [==============================] - 0s 12ms/step - loss: 7.0969 - mae: 7.0969\n",
            "Epoch 58/100\n",
            "1/1 [==============================] - 0s 12ms/step - loss: 7.0912 - mae: 7.0912\n",
            "Epoch 59/100\n",
            "1/1 [==============================] - 0s 14ms/step - loss: 7.0856 - mae: 7.0856\n",
            "Epoch 60/100\n",
            "1/1 [==============================] - 0s 13ms/step - loss: 7.0800 - mae: 7.0800\n",
            "Epoch 61/100\n",
            "1/1 [==============================] - 0s 13ms/step - loss: 7.0744 - mae: 7.0744\n",
            "Epoch 62/100\n",
            "1/1 [==============================] - 0s 11ms/step - loss: 7.0688 - mae: 7.0688\n",
            "Epoch 63/100\n",
            "1/1 [==============================] - 0s 11ms/step - loss: 7.0631 - mae: 7.0631\n",
            "Epoch 64/100\n",
            "1/1 [==============================] - 0s 11ms/step - loss: 7.0575 - mae: 7.0575\n",
            "Epoch 65/100\n",
            "1/1 [==============================] - 0s 12ms/step - loss: 7.0519 - mae: 7.0519\n",
            "Epoch 66/100\n",
            "1/1 [==============================] - 0s 12ms/step - loss: 7.0463 - mae: 7.0463\n",
            "Epoch 67/100\n",
            "1/1 [==============================] - 0s 22ms/step - loss: 7.0406 - mae: 7.0406\n",
            "Epoch 68/100\n",
            "1/1 [==============================] - 0s 12ms/step - loss: 7.0350 - mae: 7.0350\n",
            "Epoch 69/100\n",
            "1/1 [==============================] - 0s 12ms/step - loss: 7.0294 - mae: 7.0294\n",
            "Epoch 70/100\n",
            "1/1 [==============================] - 0s 18ms/step - loss: 7.0238 - mae: 7.0238\n",
            "Epoch 71/100\n",
            "1/1 [==============================] - 0s 17ms/step - loss: 7.0181 - mae: 7.0181\n",
            "Epoch 72/100\n",
            "1/1 [==============================] - 0s 12ms/step - loss: 7.0125 - mae: 7.0125\n",
            "Epoch 73/100\n",
            "1/1 [==============================] - 0s 25ms/step - loss: 7.0069 - mae: 7.0069\n",
            "Epoch 74/100\n",
            "1/1 [==============================] - 0s 15ms/step - loss: 7.0013 - mae: 7.0013\n",
            "Epoch 75/100\n",
            "1/1 [==============================] - 0s 13ms/step - loss: 6.9956 - mae: 6.9956\n",
            "Epoch 76/100\n",
            "1/1 [==============================] - 0s 14ms/step - loss: 6.9900 - mae: 6.9900\n",
            "Epoch 77/100\n",
            "1/1 [==============================] - 0s 14ms/step - loss: 6.9844 - mae: 6.9844\n",
            "Epoch 78/100\n",
            "1/1 [==============================] - 0s 18ms/step - loss: 6.9788 - mae: 6.9788\n",
            "Epoch 79/100\n",
            "1/1 [==============================] - 0s 18ms/step - loss: 6.9731 - mae: 6.9731\n",
            "Epoch 80/100\n",
            "1/1 [==============================] - 0s 22ms/step - loss: 6.9675 - mae: 6.9675\n",
            "Epoch 81/100\n",
            "1/1 [==============================] - 0s 15ms/step - loss: 6.9619 - mae: 6.9619\n",
            "Epoch 82/100\n",
            "1/1 [==============================] - 0s 20ms/step - loss: 6.9563 - mae: 6.9563\n",
            "Epoch 83/100\n",
            "1/1 [==============================] - 0s 12ms/step - loss: 6.9506 - mae: 6.9506\n",
            "Epoch 84/100\n",
            "1/1 [==============================] - 0s 18ms/step - loss: 6.9450 - mae: 6.9450\n",
            "Epoch 85/100\n",
            "1/1 [==============================] - 0s 11ms/step - loss: 6.9394 - mae: 6.9394\n",
            "Epoch 86/100\n",
            "1/1 [==============================] - 0s 14ms/step - loss: 6.9338 - mae: 6.9338\n",
            "Epoch 87/100\n",
            "1/1 [==============================] - 0s 13ms/step - loss: 6.9281 - mae: 6.9281\n",
            "Epoch 88/100\n",
            "1/1 [==============================] - 0s 20ms/step - loss: 6.9225 - mae: 6.9225\n",
            "Epoch 89/100\n",
            "1/1 [==============================] - 0s 24ms/step - loss: 6.9169 - mae: 6.9169\n",
            "Epoch 90/100\n",
            "1/1 [==============================] - 0s 14ms/step - loss: 6.9113 - mae: 6.9113\n",
            "Epoch 91/100\n",
            "1/1 [==============================] - 0s 21ms/step - loss: 6.9056 - mae: 6.9056\n",
            "Epoch 92/100\n",
            "1/1 [==============================] - 0s 14ms/step - loss: 6.9000 - mae: 6.9000\n",
            "Epoch 93/100\n",
            "1/1 [==============================] - 0s 12ms/step - loss: 6.8944 - mae: 6.8944\n",
            "Epoch 94/100\n",
            "1/1 [==============================] - 0s 22ms/step - loss: 6.8888 - mae: 6.8888\n",
            "Epoch 95/100\n",
            "1/1 [==============================] - 0s 13ms/step - loss: 6.8831 - mae: 6.8831\n",
            "Epoch 96/100\n",
            "1/1 [==============================] - 0s 10ms/step - loss: 6.8775 - mae: 6.8775\n",
            "Epoch 97/100\n",
            "1/1 [==============================] - 0s 10ms/step - loss: 6.8719 - mae: 6.8719\n",
            "Epoch 98/100\n",
            "1/1 [==============================] - 0s 10ms/step - loss: 6.8663 - mae: 6.8663\n",
            "Epoch 99/100\n",
            "1/1 [==============================] - 0s 8ms/step - loss: 6.8606 - mae: 6.8606\n",
            "Epoch 100/100\n",
            "1/1 [==============================] - 0s 13ms/step - loss: 6.8550 - mae: 6.8550\n"
          ]
        },
        {
          "output_type": "execute_result",
          "data": {
            "text/plain": [
              "<keras.callbacks.History at 0x7f3f5c5cd1b0>"
            ]
          },
          "metadata": {},
          "execution_count": 11
        }
      ]
    },
    {
      "cell_type": "code",
      "source": [
        "# Relembrando os dados\n",
        "X, Y"
      ],
      "metadata": {
        "colab": {
          "base_uri": "https://localhost:8080/"
        },
        "id": "3HzsssgbH09c",
        "outputId": "04f6297d-e908-4019-e5a1-7f4d16971d1a"
      },
      "execution_count": null,
      "outputs": [
        {
          "output_type": "execute_result",
          "data": {
            "text/plain": [
              "(<tf.Tensor: shape=(8,), dtype=float64, numpy=array([-7., -4., -1.,  2.,  5.,  8., 11., 14.])>,\n",
              " <tf.Tensor: shape=(8,), dtype=float64, numpy=array([ 3.,  6.,  9., 12., 15., 18., 21., 24.])>)"
            ]
          },
          "metadata": {},
          "execution_count": 12
        }
      ]
    },
    {
      "cell_type": "code",
      "source": [
        "# Vamos veririficar o melhoria\n",
        "model.predict([17.0])"
      ],
      "metadata": {
        "colab": {
          "base_uri": "https://localhost:8080/"
        },
        "id": "p2C1So5_H4-6",
        "outputId": "2b72dc4c-2d58-47ee-9a1c-98e6c7e902dd"
      },
      "execution_count": null,
      "outputs": [
        {
          "output_type": "stream",
          "name": "stdout",
          "text": [
            "1/1 [==============================] - 0s 91ms/step\n"
          ]
        },
        {
          "output_type": "execute_result",
          "data": {
            "text/plain": [
              "array([[29.58704]], dtype=float32)"
            ]
          },
          "metadata": {},
          "execution_count": 13
        }
      ]
    },
    {
      "cell_type": "code",
      "source": [
        "from keras.backend import expand_dims\n",
        "# Adicionando mais hidden layers e neuronios\n",
        "\n",
        "# 1. Criando o modelo (COM MAIS LAYERS E NEURONIOS)\n",
        "tf.keras.Sequential([\n",
        "    tf.keras.layers.Dense(100, activation=\"relu\"),\n",
        "    tf.keras.layers.Dense(100, activation=\"relu\"),\n",
        "    tf.keras.layers.Dense(100, activation=\"relu\"),\n",
        "    tf.keras.layers.Dense(1)\n",
        "])\n",
        "\n",
        "# 2. Compilando o modelo\n",
        "model.compile(loss=tf.keras.losses.mae,\n",
        "              optimizer=tf.keras.optimizers.SGD(),\n",
        "              metrics=[\"mae\"])\n",
        "\n",
        "# 3. Fit o modelo\n",
        "model.fit(tf.expand_dims(X, axis=-1), Y, epochs=100)"
      ],
      "metadata": {
        "colab": {
          "base_uri": "https://localhost:8080/"
        },
        "id": "zjvmwSBjIQK9",
        "outputId": "0a26c552-bc4f-4709-98c8-49515fab6f9d"
      },
      "execution_count": null,
      "outputs": [
        {
          "output_type": "stream",
          "name": "stdout",
          "text": [
            "Epoch 1/100\n",
            "1/1 [==============================] - 1s 1s/step - loss: 6.8494 - mae: 6.8494\n",
            "Epoch 2/100\n",
            "1/1 [==============================] - 0s 30ms/step - loss: 6.8438 - mae: 6.8438\n",
            "Epoch 3/100\n",
            "1/1 [==============================] - 0s 33ms/step - loss: 6.8381 - mae: 6.8381\n",
            "Epoch 4/100\n",
            "1/1 [==============================] - 0s 26ms/step - loss: 6.8325 - mae: 6.8325\n",
            "Epoch 5/100\n",
            "1/1 [==============================] - 0s 29ms/step - loss: 6.8269 - mae: 6.8269\n",
            "Epoch 6/100\n",
            "1/1 [==============================] - 0s 30ms/step - loss: 6.8213 - mae: 6.8213\n",
            "Epoch 7/100\n",
            "1/1 [==============================] - 0s 30ms/step - loss: 6.8156 - mae: 6.8156\n",
            "Epoch 8/100\n",
            "1/1 [==============================] - 0s 27ms/step - loss: 6.8100 - mae: 6.8100\n",
            "Epoch 9/100\n",
            "1/1 [==============================] - 0s 22ms/step - loss: 6.8044 - mae: 6.8044\n",
            "Epoch 10/100\n",
            "1/1 [==============================] - 0s 25ms/step - loss: 6.7988 - mae: 6.7988\n",
            "Epoch 11/100\n",
            "1/1 [==============================] - 0s 23ms/step - loss: 6.7931 - mae: 6.7931\n",
            "Epoch 12/100\n",
            "1/1 [==============================] - 0s 25ms/step - loss: 6.7875 - mae: 6.7875\n",
            "Epoch 13/100\n",
            "1/1 [==============================] - 0s 21ms/step - loss: 6.7819 - mae: 6.7819\n",
            "Epoch 14/100\n",
            "1/1 [==============================] - 0s 40ms/step - loss: 6.7763 - mae: 6.7763\n",
            "Epoch 15/100\n",
            "1/1 [==============================] - 0s 25ms/step - loss: 6.7706 - mae: 6.7706\n",
            "Epoch 16/100\n",
            "1/1 [==============================] - 0s 30ms/step - loss: 6.7650 - mae: 6.7650\n",
            "Epoch 17/100\n",
            "1/1 [==============================] - 0s 32ms/step - loss: 6.7594 - mae: 6.7594\n",
            "Epoch 18/100\n",
            "1/1 [==============================] - 0s 33ms/step - loss: 6.7538 - mae: 6.7538\n",
            "Epoch 19/100\n",
            "1/1 [==============================] - 0s 21ms/step - loss: 6.7481 - mae: 6.7481\n",
            "Epoch 20/100\n",
            "1/1 [==============================] - 0s 15ms/step - loss: 6.7425 - mae: 6.7425\n",
            "Epoch 21/100\n",
            "1/1 [==============================] - 0s 16ms/step - loss: 6.7369 - mae: 6.7369\n",
            "Epoch 22/100\n",
            "1/1 [==============================] - 0s 16ms/step - loss: 6.7313 - mae: 6.7313\n",
            "Epoch 23/100\n",
            "1/1 [==============================] - 0s 16ms/step - loss: 6.7256 - mae: 6.7256\n",
            "Epoch 24/100\n",
            "1/1 [==============================] - 0s 16ms/step - loss: 6.7200 - mae: 6.7200\n",
            "Epoch 25/100\n",
            "1/1 [==============================] - 0s 16ms/step - loss: 6.7144 - mae: 6.7144\n",
            "Epoch 26/100\n",
            "1/1 [==============================] - 0s 16ms/step - loss: 6.7088 - mae: 6.7088\n",
            "Epoch 27/100\n",
            "1/1 [==============================] - 0s 18ms/step - loss: 6.7031 - mae: 6.7031\n",
            "Epoch 28/100\n",
            "1/1 [==============================] - 0s 11ms/step - loss: 6.6975 - mae: 6.6975\n",
            "Epoch 29/100\n",
            "1/1 [==============================] - 0s 15ms/step - loss: 6.6919 - mae: 6.6919\n",
            "Epoch 30/100\n",
            "1/1 [==============================] - 0s 12ms/step - loss: 6.6862 - mae: 6.6862\n",
            "Epoch 31/100\n",
            "1/1 [==============================] - 0s 13ms/step - loss: 6.6806 - mae: 6.6806\n",
            "Epoch 32/100\n",
            "1/1 [==============================] - 0s 14ms/step - loss: 6.6750 - mae: 6.6750\n",
            "Epoch 33/100\n",
            "1/1 [==============================] - 0s 13ms/step - loss: 6.6694 - mae: 6.6694\n",
            "Epoch 34/100\n",
            "1/1 [==============================] - 0s 12ms/step - loss: 6.6638 - mae: 6.6638\n",
            "Epoch 35/100\n",
            "1/1 [==============================] - 0s 12ms/step - loss: 6.6581 - mae: 6.6581\n",
            "Epoch 36/100\n",
            "1/1 [==============================] - 0s 13ms/step - loss: 6.6525 - mae: 6.6525\n",
            "Epoch 37/100\n",
            "1/1 [==============================] - 0s 14ms/step - loss: 6.6469 - mae: 6.6469\n",
            "Epoch 38/100\n",
            "1/1 [==============================] - 0s 12ms/step - loss: 6.6412 - mae: 6.6412\n",
            "Epoch 39/100\n",
            "1/1 [==============================] - 0s 12ms/step - loss: 6.6356 - mae: 6.6356\n",
            "Epoch 40/100\n",
            "1/1 [==============================] - 0s 12ms/step - loss: 6.6300 - mae: 6.6300\n",
            "Epoch 41/100\n",
            "1/1 [==============================] - 0s 15ms/step - loss: 6.6244 - mae: 6.6244\n",
            "Epoch 42/100\n",
            "1/1 [==============================] - 0s 13ms/step - loss: 6.6188 - mae: 6.6188\n",
            "Epoch 43/100\n",
            "1/1 [==============================] - 0s 17ms/step - loss: 6.6131 - mae: 6.6131\n",
            "Epoch 44/100\n",
            "1/1 [==============================] - 0s 13ms/step - loss: 6.6075 - mae: 6.6075\n",
            "Epoch 45/100\n",
            "1/1 [==============================] - 0s 16ms/step - loss: 6.6019 - mae: 6.6019\n",
            "Epoch 46/100\n",
            "1/1 [==============================] - 0s 13ms/step - loss: 6.5962 - mae: 6.5962\n",
            "Epoch 47/100\n",
            "1/1 [==============================] - 0s 14ms/step - loss: 6.5906 - mae: 6.5906\n",
            "Epoch 48/100\n",
            "1/1 [==============================] - 0s 13ms/step - loss: 6.5850 - mae: 6.5850\n",
            "Epoch 49/100\n",
            "1/1 [==============================] - 0s 13ms/step - loss: 6.5794 - mae: 6.5794\n",
            "Epoch 50/100\n",
            "1/1 [==============================] - 0s 11ms/step - loss: 6.5737 - mae: 6.5737\n",
            "Epoch 51/100\n",
            "1/1 [==============================] - 0s 13ms/step - loss: 6.5681 - mae: 6.5681\n",
            "Epoch 52/100\n",
            "1/1 [==============================] - 0s 16ms/step - loss: 6.5625 - mae: 6.5625\n",
            "Epoch 53/100\n",
            "1/1 [==============================] - 0s 18ms/step - loss: 6.5569 - mae: 6.5569\n",
            "Epoch 54/100\n",
            "1/1 [==============================] - 0s 17ms/step - loss: 6.5512 - mae: 6.5512\n",
            "Epoch 55/100\n",
            "1/1 [==============================] - 0s 17ms/step - loss: 6.5456 - mae: 6.5456\n",
            "Epoch 56/100\n",
            "1/1 [==============================] - 0s 17ms/step - loss: 6.5400 - mae: 6.5400\n",
            "Epoch 57/100\n",
            "1/1 [==============================] - 0s 15ms/step - loss: 6.5344 - mae: 6.5344\n",
            "Epoch 58/100\n",
            "1/1 [==============================] - 0s 20ms/step - loss: 6.5287 - mae: 6.5287\n",
            "Epoch 59/100\n",
            "1/1 [==============================] - 0s 15ms/step - loss: 6.5231 - mae: 6.5231\n",
            "Epoch 60/100\n",
            "1/1 [==============================] - 0s 28ms/step - loss: 6.5175 - mae: 6.5175\n",
            "Epoch 61/100\n",
            "1/1 [==============================] - 0s 17ms/step - loss: 6.5119 - mae: 6.5119\n",
            "Epoch 62/100\n",
            "1/1 [==============================] - 0s 11ms/step - loss: 6.5062 - mae: 6.5062\n",
            "Epoch 63/100\n",
            "1/1 [==============================] - 0s 12ms/step - loss: 6.5006 - mae: 6.5006\n",
            "Epoch 64/100\n",
            "1/1 [==============================] - 0s 12ms/step - loss: 6.4950 - mae: 6.4950\n",
            "Epoch 65/100\n",
            "1/1 [==============================] - 0s 15ms/step - loss: 6.4894 - mae: 6.4894\n",
            "Epoch 66/100\n",
            "1/1 [==============================] - 0s 17ms/step - loss: 6.4837 - mae: 6.4837\n",
            "Epoch 67/100\n",
            "1/1 [==============================] - 0s 18ms/step - loss: 6.4781 - mae: 6.4781\n",
            "Epoch 68/100\n",
            "1/1 [==============================] - 0s 17ms/step - loss: 6.4725 - mae: 6.4725\n",
            "Epoch 69/100\n",
            "1/1 [==============================] - 0s 23ms/step - loss: 6.4669 - mae: 6.4669\n",
            "Epoch 70/100\n",
            "1/1 [==============================] - 0s 15ms/step - loss: 6.4612 - mae: 6.4612\n",
            "Epoch 71/100\n",
            "1/1 [==============================] - 0s 13ms/step - loss: 6.4556 - mae: 6.4556\n",
            "Epoch 72/100\n",
            "1/1 [==============================] - 0s 15ms/step - loss: 6.4500 - mae: 6.4500\n",
            "Epoch 73/100\n",
            "1/1 [==============================] - 0s 12ms/step - loss: 6.4444 - mae: 6.4444\n",
            "Epoch 74/100\n",
            "1/1 [==============================] - 0s 13ms/step - loss: 6.4387 - mae: 6.4387\n",
            "Epoch 75/100\n",
            "1/1 [==============================] - 0s 21ms/step - loss: 6.4331 - mae: 6.4331\n",
            "Epoch 76/100\n",
            "1/1 [==============================] - 0s 11ms/step - loss: 6.4275 - mae: 6.4275\n",
            "Epoch 77/100\n",
            "1/1 [==============================] - 0s 16ms/step - loss: 6.4219 - mae: 6.4219\n",
            "Epoch 78/100\n",
            "1/1 [==============================] - 0s 14ms/step - loss: 6.4162 - mae: 6.4162\n",
            "Epoch 79/100\n",
            "1/1 [==============================] - 0s 16ms/step - loss: 6.4106 - mae: 6.4106\n",
            "Epoch 80/100\n",
            "1/1 [==============================] - 0s 15ms/step - loss: 6.4050 - mae: 6.4050\n",
            "Epoch 81/100\n",
            "1/1 [==============================] - 0s 16ms/step - loss: 6.3994 - mae: 6.3994\n",
            "Epoch 82/100\n",
            "1/1 [==============================] - 0s 13ms/step - loss: 6.3937 - mae: 6.3937\n",
            "Epoch 83/100\n",
            "1/1 [==============================] - 0s 16ms/step - loss: 6.3881 - mae: 6.3881\n",
            "Epoch 84/100\n",
            "1/1 [==============================] - 0s 14ms/step - loss: 6.3825 - mae: 6.3825\n",
            "Epoch 85/100\n",
            "1/1 [==============================] - 0s 13ms/step - loss: 6.3769 - mae: 6.3769\n",
            "Epoch 86/100\n",
            "1/1 [==============================] - 0s 14ms/step - loss: 6.3712 - mae: 6.3712\n",
            "Epoch 87/100\n",
            "1/1 [==============================] - 0s 13ms/step - loss: 6.3656 - mae: 6.3656\n",
            "Epoch 88/100\n",
            "1/1 [==============================] - 0s 14ms/step - loss: 6.3600 - mae: 6.3600\n",
            "Epoch 89/100\n",
            "1/1 [==============================] - 0s 15ms/step - loss: 6.3544 - mae: 6.3544\n",
            "Epoch 90/100\n",
            "1/1 [==============================] - 0s 16ms/step - loss: 6.3487 - mae: 6.3487\n",
            "Epoch 91/100\n",
            "1/1 [==============================] - 0s 16ms/step - loss: 6.3431 - mae: 6.3431\n",
            "Epoch 92/100\n",
            "1/1 [==============================] - 0s 14ms/step - loss: 6.3375 - mae: 6.3375\n",
            "Epoch 93/100\n",
            "1/1 [==============================] - 0s 14ms/step - loss: 6.3319 - mae: 6.3319\n",
            "Epoch 94/100\n",
            "1/1 [==============================] - 0s 16ms/step - loss: 6.3262 - mae: 6.3262\n",
            "Epoch 95/100\n",
            "1/1 [==============================] - 0s 13ms/step - loss: 6.3206 - mae: 6.3206\n",
            "Epoch 96/100\n",
            "1/1 [==============================] - 0s 19ms/step - loss: 6.3150 - mae: 6.3150\n",
            "Epoch 97/100\n",
            "1/1 [==============================] - 0s 19ms/step - loss: 6.3094 - mae: 6.3094\n",
            "Epoch 98/100\n",
            "1/1 [==============================] - 0s 20ms/step - loss: 6.3037 - mae: 6.3037\n",
            "Epoch 99/100\n",
            "1/1 [==============================] - 0s 17ms/step - loss: 6.2981 - mae: 6.2981\n",
            "Epoch 100/100\n",
            "1/1 [==============================] - 0s 15ms/step - loss: 6.2925 - mae: 6.2925\n"
          ]
        },
        {
          "output_type": "execute_result",
          "data": {
            "text/plain": [
              "<keras.callbacks.History at 0x7f3ef361a920>"
            ]
          },
          "metadata": {},
          "execution_count": 14
        }
      ]
    },
    {
      "cell_type": "code",
      "source": [
        "model.predict([17.0])"
      ],
      "metadata": {
        "colab": {
          "base_uri": "https://localhost:8080/"
        },
        "id": "eZ45ob1tKUlG",
        "outputId": "0e5effcd-b67f-4959-dbc5-61676c5d6ce4"
      },
      "execution_count": null,
      "outputs": [
        {
          "output_type": "stream",
          "name": "stdout",
          "text": [
            "1/1 [==============================] - 0s 87ms/step\n"
          ]
        },
        {
          "output_type": "execute_result",
          "data": {
            "text/plain": [
              "array([[30.337044]], dtype=float32)"
            ]
          },
          "metadata": {},
          "execution_count": 15
        }
      ]
    },
    {
      "cell_type": "code",
      "source": [
        "# Modificando nosso optimizador\n",
        "\n",
        "# Criando o modelo\n",
        "model = tf.keras.Sequential([\n",
        "    tf.keras.layers.Dense(100, activation=\"relu\"),\n",
        "    tf.keras.layers.Dense(100, activation=\"relu\"),\n",
        "    tf.keras.layers.Dense(100, activation=\"relu\"),\n",
        "    tf.keras.layers.Dense(1)\n",
        "])\n",
        "\n",
        "# Compilando o modelo\n",
        "model.compile(loss=tf.keras.losses.mae,\n",
        "              optimizer=tf.keras.optimizers.Adam(lr=0.01),\n",
        "              metrics=[\"mae\"])\n",
        "\n",
        "#Fit o modelo\n",
        "model.fit(tf.expand_dims(X, axis=-1), Y, epochs=200)"
      ],
      "metadata": {
        "colab": {
          "base_uri": "https://localhost:8080/"
        },
        "id": "obS8WRszKxs7",
        "outputId": "74e686b0-f28a-427c-e587-684a25d81cc1"
      },
      "execution_count": null,
      "outputs": [
        {
          "output_type": "stream",
          "name": "stderr",
          "text": [
            "WARNING:absl:`lr` is deprecated in Keras optimizer, please use `learning_rate` or use the legacy optimizer, e.g.,tf.keras.optimizers.legacy.Adam.\n"
          ]
        },
        {
          "output_type": "stream",
          "name": "stdout",
          "text": [
            "Epoch 1/200\n",
            "1/1 [==============================] - 4s 4s/step - loss: 13.5877 - mae: 13.5877\n",
            "Epoch 2/200\n",
            "1/1 [==============================] - 0s 11ms/step - loss: 13.3192 - mae: 13.3192\n",
            "Epoch 3/200\n",
            "1/1 [==============================] - 0s 11ms/step - loss: 13.0540 - mae: 13.0540\n",
            "Epoch 4/200\n",
            "1/1 [==============================] - 0s 10ms/step - loss: 12.7905 - mae: 12.7905\n",
            "Epoch 5/200\n",
            "1/1 [==============================] - 0s 11ms/step - loss: 12.5351 - mae: 12.5351\n",
            "Epoch 6/200\n",
            "1/1 [==============================] - 0s 10ms/step - loss: 12.2860 - mae: 12.2860\n",
            "Epoch 7/200\n",
            "1/1 [==============================] - 0s 11ms/step - loss: 12.0482 - mae: 12.0482\n",
            "Epoch 8/200\n",
            "1/1 [==============================] - 0s 10ms/step - loss: 11.8040 - mae: 11.8040\n",
            "Epoch 9/200\n",
            "1/1 [==============================] - 0s 10ms/step - loss: 11.5495 - mae: 11.5495\n",
            "Epoch 10/200\n",
            "1/1 [==============================] - 0s 16ms/step - loss: 11.3421 - mae: 11.3421\n",
            "Epoch 11/200\n",
            "1/1 [==============================] - 0s 11ms/step - loss: 11.1705 - mae: 11.1705\n",
            "Epoch 12/200\n",
            "1/1 [==============================] - 0s 11ms/step - loss: 10.9899 - mae: 10.9899\n",
            "Epoch 13/200\n",
            "1/1 [==============================] - 0s 15ms/step - loss: 10.7999 - mae: 10.7999\n",
            "Epoch 14/200\n",
            "1/1 [==============================] - 0s 11ms/step - loss: 10.6011 - mae: 10.6011\n",
            "Epoch 15/200\n",
            "1/1 [==============================] - 0s 10ms/step - loss: 10.3943 - mae: 10.3943\n",
            "Epoch 16/200\n",
            "1/1 [==============================] - 0s 11ms/step - loss: 10.1743 - mae: 10.1743\n",
            "Epoch 17/200\n",
            "1/1 [==============================] - 0s 10ms/step - loss: 9.9388 - mae: 9.9388\n",
            "Epoch 18/200\n",
            "1/1 [==============================] - 0s 11ms/step - loss: 9.6865 - mae: 9.6865\n",
            "Epoch 19/200\n",
            "1/1 [==============================] - 0s 10ms/step - loss: 9.4166 - mae: 9.4166\n",
            "Epoch 20/200\n",
            "1/1 [==============================] - 0s 10ms/step - loss: 9.1311 - mae: 9.1311\n",
            "Epoch 21/200\n",
            "1/1 [==============================] - 0s 10ms/step - loss: 8.8247 - mae: 8.8247\n",
            "Epoch 22/200\n",
            "1/1 [==============================] - 0s 15ms/step - loss: 8.4970 - mae: 8.4970\n",
            "Epoch 23/200\n",
            "1/1 [==============================] - 0s 17ms/step - loss: 8.1484 - mae: 8.1484\n",
            "Epoch 24/200\n",
            "1/1 [==============================] - 0s 11ms/step - loss: 7.7759 - mae: 7.7759\n",
            "Epoch 25/200\n",
            "1/1 [==============================] - 0s 10ms/step - loss: 7.3775 - mae: 7.3775\n",
            "Epoch 26/200\n",
            "1/1 [==============================] - 0s 10ms/step - loss: 6.9477 - mae: 6.9477\n",
            "Epoch 27/200\n",
            "1/1 [==============================] - 0s 9ms/step - loss: 6.4868 - mae: 6.4868\n",
            "Epoch 28/200\n",
            "1/1 [==============================] - 0s 10ms/step - loss: 5.9940 - mae: 5.9940\n",
            "Epoch 29/200\n",
            "1/1 [==============================] - 0s 10ms/step - loss: 5.4654 - mae: 5.4654\n",
            "Epoch 30/200\n",
            "1/1 [==============================] - 0s 10ms/step - loss: 4.9002 - mae: 4.9002\n",
            "Epoch 31/200\n",
            "1/1 [==============================] - 0s 9ms/step - loss: 4.2977 - mae: 4.2977\n",
            "Epoch 32/200\n",
            "1/1 [==============================] - 0s 11ms/step - loss: 3.9575 - mae: 3.9575\n",
            "Epoch 33/200\n",
            "1/1 [==============================] - 0s 10ms/step - loss: 3.8329 - mae: 3.8329\n",
            "Epoch 34/200\n",
            "1/1 [==============================] - 0s 10ms/step - loss: 3.9566 - mae: 3.9566\n",
            "Epoch 35/200\n",
            "1/1 [==============================] - 0s 10ms/step - loss: 4.0646 - mae: 4.0646\n",
            "Epoch 36/200\n",
            "1/1 [==============================] - 0s 9ms/step - loss: 4.2053 - mae: 4.2053\n",
            "Epoch 37/200\n",
            "1/1 [==============================] - 0s 10ms/step - loss: 4.3877 - mae: 4.3877\n",
            "Epoch 38/200\n",
            "1/1 [==============================] - 0s 10ms/step - loss: 4.4920 - mae: 4.4920\n",
            "Epoch 39/200\n",
            "1/1 [==============================] - 0s 12ms/step - loss: 4.5249 - mae: 4.5249\n",
            "Epoch 40/200\n",
            "1/1 [==============================] - 0s 11ms/step - loss: 4.4959 - mae: 4.4959\n",
            "Epoch 41/200\n",
            "1/1 [==============================] - 0s 11ms/step - loss: 4.4126 - mae: 4.4126\n",
            "Epoch 42/200\n",
            "1/1 [==============================] - 0s 10ms/step - loss: 4.2937 - mae: 4.2937\n",
            "Epoch 43/200\n",
            "1/1 [==============================] - 0s 10ms/step - loss: 4.1276 - mae: 4.1276\n",
            "Epoch 44/200\n",
            "1/1 [==============================] - 0s 10ms/step - loss: 3.9960 - mae: 3.9960\n",
            "Epoch 45/200\n",
            "1/1 [==============================] - 0s 10ms/step - loss: 3.9242 - mae: 3.9242\n",
            "Epoch 46/200\n",
            "1/1 [==============================] - 0s 9ms/step - loss: 3.8619 - mae: 3.8619\n",
            "Epoch 47/200\n",
            "1/1 [==============================] - 0s 10ms/step - loss: 3.7883 - mae: 3.7883\n",
            "Epoch 48/200\n",
            "1/1 [==============================] - 0s 10ms/step - loss: 3.7228 - mae: 3.7228\n",
            "Epoch 49/200\n",
            "1/1 [==============================] - 0s 11ms/step - loss: 3.6584 - mae: 3.6584\n",
            "Epoch 50/200\n",
            "1/1 [==============================] - 0s 9ms/step - loss: 3.7039 - mae: 3.7039\n",
            "Epoch 51/200\n",
            "1/1 [==============================] - 0s 11ms/step - loss: 3.7583 - mae: 3.7583\n",
            "Epoch 52/200\n",
            "1/1 [==============================] - 0s 12ms/step - loss: 3.7951 - mae: 3.7951\n",
            "Epoch 53/200\n",
            "1/1 [==============================] - 0s 9ms/step - loss: 3.8172 - mae: 3.8172\n",
            "Epoch 54/200\n",
            "1/1 [==============================] - 0s 10ms/step - loss: 3.8253 - mae: 3.8253\n",
            "Epoch 55/200\n",
            "1/1 [==============================] - 0s 9ms/step - loss: 3.8204 - mae: 3.8204\n",
            "Epoch 56/200\n",
            "1/1 [==============================] - 0s 10ms/step - loss: 3.8036 - mae: 3.8036\n",
            "Epoch 57/200\n",
            "1/1 [==============================] - 0s 10ms/step - loss: 3.7883 - mae: 3.7883\n",
            "Epoch 58/200\n",
            "1/1 [==============================] - 0s 10ms/step - loss: 3.7450 - mae: 3.7450\n",
            "Epoch 59/200\n",
            "1/1 [==============================] - 0s 11ms/step - loss: 3.7050 - mae: 3.7050\n",
            "Epoch 60/200\n",
            "1/1 [==============================] - 0s 11ms/step - loss: 3.6554 - mae: 3.6554\n",
            "Epoch 61/200\n",
            "1/1 [==============================] - 0s 10ms/step - loss: 3.5968 - mae: 3.5968\n",
            "Epoch 62/200\n",
            "1/1 [==============================] - 0s 15ms/step - loss: 3.5315 - mae: 3.5315\n",
            "Epoch 63/200\n",
            "1/1 [==============================] - 0s 10ms/step - loss: 3.5504 - mae: 3.5504\n",
            "Epoch 64/200\n",
            "1/1 [==============================] - 0s 11ms/step - loss: 3.5598 - mae: 3.5598\n",
            "Epoch 65/200\n",
            "1/1 [==============================] - 0s 10ms/step - loss: 3.5797 - mae: 3.5797\n",
            "Epoch 66/200\n",
            "1/1 [==============================] - 0s 10ms/step - loss: 3.5616 - mae: 3.5616\n",
            "Epoch 67/200\n",
            "1/1 [==============================] - 0s 9ms/step - loss: 3.5543 - mae: 3.5543\n",
            "Epoch 68/200\n",
            "1/1 [==============================] - 0s 11ms/step - loss: 3.5396 - mae: 3.5396\n",
            "Epoch 69/200\n",
            "1/1 [==============================] - 0s 10ms/step - loss: 3.5181 - mae: 3.5181\n",
            "Epoch 70/200\n",
            "1/1 [==============================] - 0s 11ms/step - loss: 3.4907 - mae: 3.4907\n",
            "Epoch 71/200\n",
            "1/1 [==============================] - 0s 10ms/step - loss: 3.4582 - mae: 3.4582\n",
            "Epoch 72/200\n",
            "1/1 [==============================] - 0s 11ms/step - loss: 3.4403 - mae: 3.4403\n",
            "Epoch 73/200\n",
            "1/1 [==============================] - 0s 12ms/step - loss: 3.4389 - mae: 3.4389\n",
            "Epoch 74/200\n",
            "1/1 [==============================] - 0s 11ms/step - loss: 3.4342 - mae: 3.4342\n",
            "Epoch 75/200\n",
            "1/1 [==============================] - 0s 13ms/step - loss: 3.4141 - mae: 3.4141\n",
            "Epoch 76/200\n",
            "1/1 [==============================] - 0s 11ms/step - loss: 3.3988 - mae: 3.3988\n",
            "Epoch 77/200\n",
            "1/1 [==============================] - 0s 11ms/step - loss: 3.3945 - mae: 3.3945\n",
            "Epoch 78/200\n",
            "1/1 [==============================] - 0s 20ms/step - loss: 3.3835 - mae: 3.3835\n",
            "Epoch 79/200\n",
            "1/1 [==============================] - 0s 11ms/step - loss: 3.3650 - mae: 3.3650\n",
            "Epoch 80/200\n",
            "1/1 [==============================] - 0s 13ms/step - loss: 3.3397 - mae: 3.3397\n",
            "Epoch 81/200\n",
            "1/1 [==============================] - 0s 9ms/step - loss: 3.3516 - mae: 3.3516\n",
            "Epoch 82/200\n",
            "1/1 [==============================] - 0s 10ms/step - loss: 3.3360 - mae: 3.3360\n",
            "Epoch 83/200\n",
            "1/1 [==============================] - 0s 12ms/step - loss: 3.3161 - mae: 3.3161\n",
            "Epoch 84/200\n",
            "1/1 [==============================] - 0s 11ms/step - loss: 3.2949 - mae: 3.2949\n",
            "Epoch 85/200\n",
            "1/1 [==============================] - 0s 10ms/step - loss: 3.2878 - mae: 3.2878\n",
            "Epoch 86/200\n",
            "1/1 [==============================] - 0s 18ms/step - loss: 3.2718 - mae: 3.2718\n",
            "Epoch 87/200\n",
            "1/1 [==============================] - 0s 15ms/step - loss: 3.2490 - mae: 3.2490\n",
            "Epoch 88/200\n",
            "1/1 [==============================] - 0s 11ms/step - loss: 3.2313 - mae: 3.2313\n",
            "Epoch 89/200\n",
            "1/1 [==============================] - 0s 13ms/step - loss: 3.2148 - mae: 3.2148\n",
            "Epoch 90/200\n",
            "1/1 [==============================] - 0s 11ms/step - loss: 3.2099 - mae: 3.2099\n",
            "Epoch 91/200\n",
            "1/1 [==============================] - 0s 11ms/step - loss: 3.2010 - mae: 3.2010\n",
            "Epoch 92/200\n",
            "1/1 [==============================] - 0s 11ms/step - loss: 3.1836 - mae: 3.1836\n",
            "Epoch 93/200\n",
            "1/1 [==============================] - 0s 11ms/step - loss: 3.1571 - mae: 3.1571\n",
            "Epoch 94/200\n",
            "1/1 [==============================] - 0s 11ms/step - loss: 3.1481 - mae: 3.1481\n",
            "Epoch 95/200\n",
            "1/1 [==============================] - 0s 11ms/step - loss: 3.1234 - mae: 3.1234\n",
            "Epoch 96/200\n",
            "1/1 [==============================] - 0s 10ms/step - loss: 3.0870 - mae: 3.0870\n",
            "Epoch 97/200\n",
            "1/1 [==============================] - 0s 11ms/step - loss: 3.0945 - mae: 3.0945\n",
            "Epoch 98/200\n",
            "1/1 [==============================] - 0s 9ms/step - loss: 3.0458 - mae: 3.0458\n",
            "Epoch 99/200\n",
            "1/1 [==============================] - 0s 9ms/step - loss: 3.0326 - mae: 3.0326\n",
            "Epoch 100/200\n",
            "1/1 [==============================] - 0s 9ms/step - loss: 3.0072 - mae: 3.0072\n",
            "Epoch 101/200\n",
            "1/1 [==============================] - 0s 11ms/step - loss: 2.9840 - mae: 2.9840\n",
            "Epoch 102/200\n",
            "1/1 [==============================] - 0s 10ms/step - loss: 2.9686 - mae: 2.9686\n",
            "Epoch 103/200\n",
            "1/1 [==============================] - 0s 9ms/step - loss: 2.9426 - mae: 2.9426\n",
            "Epoch 104/200\n",
            "1/1 [==============================] - 0s 10ms/step - loss: 2.9241 - mae: 2.9241\n",
            "Epoch 105/200\n",
            "1/1 [==============================] - 0s 11ms/step - loss: 2.8792 - mae: 2.8792\n",
            "Epoch 106/200\n",
            "1/1 [==============================] - 0s 11ms/step - loss: 2.8604 - mae: 2.8604\n",
            "Epoch 107/200\n",
            "1/1 [==============================] - 0s 11ms/step - loss: 2.8332 - mae: 2.8332\n",
            "Epoch 108/200\n",
            "1/1 [==============================] - 0s 11ms/step - loss: 2.8109 - mae: 2.8109\n",
            "Epoch 109/200\n",
            "1/1 [==============================] - 0s 11ms/step - loss: 2.7777 - mae: 2.7777\n",
            "Epoch 110/200\n",
            "1/1 [==============================] - 0s 11ms/step - loss: 2.7464 - mae: 2.7464\n",
            "Epoch 111/200\n",
            "1/1 [==============================] - 0s 12ms/step - loss: 2.7268 - mae: 2.7268\n",
            "Epoch 112/200\n",
            "1/1 [==============================] - 0s 10ms/step - loss: 2.6784 - mae: 2.6784\n",
            "Epoch 113/200\n",
            "1/1 [==============================] - 0s 12ms/step - loss: 2.6688 - mae: 2.6688\n",
            "Epoch 114/200\n",
            "1/1 [==============================] - 0s 12ms/step - loss: 2.6321 - mae: 2.6321\n",
            "Epoch 115/200\n",
            "1/1 [==============================] - 0s 10ms/step - loss: 2.5944 - mae: 2.5944\n",
            "Epoch 116/200\n",
            "1/1 [==============================] - 0s 9ms/step - loss: 2.5479 - mae: 2.5479\n",
            "Epoch 117/200\n",
            "1/1 [==============================] - 0s 10ms/step - loss: 2.4877 - mae: 2.4877\n",
            "Epoch 118/200\n",
            "1/1 [==============================] - 0s 10ms/step - loss: 2.4473 - mae: 2.4473\n",
            "Epoch 119/200\n",
            "1/1 [==============================] - 0s 12ms/step - loss: 2.3866 - mae: 2.3866\n",
            "Epoch 120/200\n",
            "1/1 [==============================] - 0s 14ms/step - loss: 2.3425 - mae: 2.3425\n",
            "Epoch 121/200\n",
            "1/1 [==============================] - 0s 11ms/step - loss: 2.2994 - mae: 2.2994\n",
            "Epoch 122/200\n",
            "1/1 [==============================] - 0s 12ms/step - loss: 2.2491 - mae: 2.2491\n",
            "Epoch 123/200\n",
            "1/1 [==============================] - 0s 10ms/step - loss: 2.1893 - mae: 2.1893\n",
            "Epoch 124/200\n",
            "1/1 [==============================] - 0s 14ms/step - loss: 2.1179 - mae: 2.1179\n",
            "Epoch 125/200\n",
            "1/1 [==============================] - 0s 10ms/step - loss: 2.0796 - mae: 2.0796\n",
            "Epoch 126/200\n",
            "1/1 [==============================] - 0s 12ms/step - loss: 1.9952 - mae: 1.9952\n",
            "Epoch 127/200\n",
            "1/1 [==============================] - 0s 11ms/step - loss: 1.8961 - mae: 1.8961\n",
            "Epoch 128/200\n",
            "1/1 [==============================] - 0s 10ms/step - loss: 1.8394 - mae: 1.8394\n",
            "Epoch 129/200\n",
            "1/1 [==============================] - 0s 11ms/step - loss: 1.7667 - mae: 1.7667\n",
            "Epoch 130/200\n",
            "1/1 [==============================] - 0s 11ms/step - loss: 1.6729 - mae: 1.6729\n",
            "Epoch 131/200\n",
            "1/1 [==============================] - 0s 14ms/step - loss: 1.5995 - mae: 1.5995\n",
            "Epoch 132/200\n",
            "1/1 [==============================] - 0s 11ms/step - loss: 1.5528 - mae: 1.5528\n",
            "Epoch 133/200\n",
            "1/1 [==============================] - 0s 11ms/step - loss: 1.4637 - mae: 1.4637\n",
            "Epoch 134/200\n",
            "1/1 [==============================] - 0s 11ms/step - loss: 1.3185 - mae: 1.3185\n",
            "Epoch 135/200\n",
            "1/1 [==============================] - 0s 11ms/step - loss: 1.2380 - mae: 1.2380\n",
            "Epoch 136/200\n",
            "1/1 [==============================] - 0s 11ms/step - loss: 1.1582 - mae: 1.1582\n",
            "Epoch 137/200\n",
            "1/1 [==============================] - 0s 11ms/step - loss: 1.0291 - mae: 1.0291\n",
            "Epoch 138/200\n",
            "1/1 [==============================] - 0s 12ms/step - loss: 0.9860 - mae: 0.9860\n",
            "Epoch 139/200\n",
            "1/1 [==============================] - 0s 12ms/step - loss: 0.9079 - mae: 0.9079\n",
            "Epoch 140/200\n",
            "1/1 [==============================] - 0s 10ms/step - loss: 0.9657 - mae: 0.9657\n",
            "Epoch 141/200\n",
            "1/1 [==============================] - 0s 11ms/step - loss: 0.9224 - mae: 0.9224\n",
            "Epoch 142/200\n",
            "1/1 [==============================] - 0s 12ms/step - loss: 0.8139 - mae: 0.8139\n",
            "Epoch 143/200\n",
            "1/1 [==============================] - 0s 15ms/step - loss: 0.8758 - mae: 0.8758\n",
            "Epoch 144/200\n",
            "1/1 [==============================] - 0s 10ms/step - loss: 0.9177 - mae: 0.9177\n",
            "Epoch 145/200\n",
            "1/1 [==============================] - 0s 11ms/step - loss: 0.8718 - mae: 0.8718\n",
            "Epoch 146/200\n",
            "1/1 [==============================] - 0s 9ms/step - loss: 0.7639 - mae: 0.7639\n",
            "Epoch 147/200\n",
            "1/1 [==============================] - 0s 11ms/step - loss: 0.7355 - mae: 0.7355\n",
            "Epoch 148/200\n",
            "1/1 [==============================] - 0s 11ms/step - loss: 0.7784 - mae: 0.7784\n",
            "Epoch 149/200\n",
            "1/1 [==============================] - 0s 10ms/step - loss: 0.7064 - mae: 0.7064\n",
            "Epoch 150/200\n",
            "1/1 [==============================] - 0s 9ms/step - loss: 0.6414 - mae: 0.6414\n",
            "Epoch 151/200\n",
            "1/1 [==============================] - 0s 12ms/step - loss: 0.6078 - mae: 0.6078\n",
            "Epoch 152/200\n",
            "1/1 [==============================] - 0s 10ms/step - loss: 0.5528 - mae: 0.5528\n",
            "Epoch 153/200\n",
            "1/1 [==============================] - 0s 9ms/step - loss: 0.6556 - mae: 0.6556\n",
            "Epoch 154/200\n",
            "1/1 [==============================] - 0s 12ms/step - loss: 0.6647 - mae: 0.6647\n",
            "Epoch 155/200\n",
            "1/1 [==============================] - 0s 11ms/step - loss: 0.5710 - mae: 0.5710\n",
            "Epoch 156/200\n",
            "1/1 [==============================] - 0s 11ms/step - loss: 0.5363 - mae: 0.5363\n",
            "Epoch 157/200\n",
            "1/1 [==============================] - 0s 10ms/step - loss: 0.5321 - mae: 0.5321\n",
            "Epoch 158/200\n",
            "1/1 [==============================] - 0s 11ms/step - loss: 0.5933 - mae: 0.5933\n",
            "Epoch 159/200\n",
            "1/1 [==============================] - 0s 12ms/step - loss: 0.4571 - mae: 0.4571\n",
            "Epoch 160/200\n",
            "1/1 [==============================] - 0s 12ms/step - loss: 0.6859 - mae: 0.6859\n",
            "Epoch 161/200\n",
            "1/1 [==============================] - 0s 14ms/step - loss: 0.5508 - mae: 0.5508\n",
            "Epoch 162/200\n",
            "1/1 [==============================] - 0s 14ms/step - loss: 0.5855 - mae: 0.5855\n",
            "Epoch 163/200\n",
            "1/1 [==============================] - 0s 11ms/step - loss: 0.6632 - mae: 0.6632\n",
            "Epoch 164/200\n",
            "1/1 [==============================] - 0s 11ms/step - loss: 0.3699 - mae: 0.3699\n",
            "Epoch 165/200\n",
            "1/1 [==============================] - 0s 8ms/step - loss: 0.6912 - mae: 0.6912\n",
            "Epoch 166/200\n",
            "1/1 [==============================] - 0s 11ms/step - loss: 0.7832 - mae: 0.7832\n",
            "Epoch 167/200\n",
            "1/1 [==============================] - 0s 9ms/step - loss: 0.5394 - mae: 0.5394\n",
            "Epoch 168/200\n",
            "1/1 [==============================] - 0s 14ms/step - loss: 0.5202 - mae: 0.5202\n",
            "Epoch 169/200\n",
            "1/1 [==============================] - 0s 15ms/step - loss: 0.6247 - mae: 0.6247\n",
            "Epoch 170/200\n",
            "1/1 [==============================] - 0s 13ms/step - loss: 0.3942 - mae: 0.3942\n",
            "Epoch 171/200\n",
            "1/1 [==============================] - 0s 12ms/step - loss: 0.5261 - mae: 0.5261\n",
            "Epoch 172/200\n",
            "1/1 [==============================] - 0s 14ms/step - loss: 0.5841 - mae: 0.5841\n",
            "Epoch 173/200\n",
            "1/1 [==============================] - 0s 13ms/step - loss: 0.4666 - mae: 0.4666\n",
            "Epoch 174/200\n",
            "1/1 [==============================] - 0s 10ms/step - loss: 0.4788 - mae: 0.4788\n",
            "Epoch 175/200\n",
            "1/1 [==============================] - 0s 8ms/step - loss: 0.5291 - mae: 0.5291\n",
            "Epoch 176/200\n",
            "1/1 [==============================] - 0s 11ms/step - loss: 0.4563 - mae: 0.4563\n",
            "Epoch 177/200\n",
            "1/1 [==============================] - 0s 10ms/step - loss: 0.4205 - mae: 0.4205\n",
            "Epoch 178/200\n",
            "1/1 [==============================] - 0s 13ms/step - loss: 0.5230 - mae: 0.5230\n",
            "Epoch 179/200\n",
            "1/1 [==============================] - 0s 10ms/step - loss: 0.4011 - mae: 0.4011\n",
            "Epoch 180/200\n",
            "1/1 [==============================] - 0s 11ms/step - loss: 0.3321 - mae: 0.3321\n",
            "Epoch 181/200\n",
            "1/1 [==============================] - 0s 12ms/step - loss: 0.4714 - mae: 0.4714\n",
            "Epoch 182/200\n",
            "1/1 [==============================] - 0s 10ms/step - loss: 0.4002 - mae: 0.4002\n",
            "Epoch 183/200\n",
            "1/1 [==============================] - 0s 10ms/step - loss: 0.3159 - mae: 0.3159\n",
            "Epoch 184/200\n",
            "1/1 [==============================] - 0s 10ms/step - loss: 0.3494 - mae: 0.3494\n",
            "Epoch 185/200\n",
            "1/1 [==============================] - 0s 11ms/step - loss: 0.2943 - mae: 0.2943\n",
            "Epoch 186/200\n",
            "1/1 [==============================] - 0s 10ms/step - loss: 0.3451 - mae: 0.3451\n",
            "Epoch 187/200\n",
            "1/1 [==============================] - 0s 13ms/step - loss: 0.3514 - mae: 0.3514\n",
            "Epoch 188/200\n",
            "1/1 [==============================] - 0s 11ms/step - loss: 0.1980 - mae: 0.1980\n",
            "Epoch 189/200\n",
            "1/1 [==============================] - 0s 10ms/step - loss: 0.3256 - mae: 0.3256\n",
            "Epoch 190/200\n",
            "1/1 [==============================] - 0s 13ms/step - loss: 0.3425 - mae: 0.3425\n",
            "Epoch 191/200\n",
            "1/1 [==============================] - 0s 9ms/step - loss: 0.3432 - mae: 0.3432\n",
            "Epoch 192/200\n",
            "1/1 [==============================] - 0s 13ms/step - loss: 0.3362 - mae: 0.3362\n",
            "Epoch 193/200\n",
            "1/1 [==============================] - 0s 11ms/step - loss: 0.1160 - mae: 0.1160\n",
            "Epoch 194/200\n",
            "1/1 [==============================] - 0s 11ms/step - loss: 0.3106 - mae: 0.3106\n",
            "Epoch 195/200\n",
            "1/1 [==============================] - 0s 10ms/step - loss: 0.2704 - mae: 0.2704\n",
            "Epoch 196/200\n",
            "1/1 [==============================] - 0s 10ms/step - loss: 0.2421 - mae: 0.2421\n",
            "Epoch 197/200\n",
            "1/1 [==============================] - 0s 11ms/step - loss: 0.2395 - mae: 0.2395\n",
            "Epoch 198/200\n",
            "1/1 [==============================] - 0s 10ms/step - loss: 0.1245 - mae: 0.1245\n",
            "Epoch 199/200\n",
            "1/1 [==============================] - 0s 10ms/step - loss: 0.3419 - mae: 0.3419\n",
            "Epoch 200/200\n",
            "1/1 [==============================] - 0s 12ms/step - loss: 0.3407 - mae: 0.3407\n"
          ]
        },
        {
          "output_type": "execute_result",
          "data": {
            "text/plain": [
              "<keras.callbacks.History at 0x7f3ef34d6e90>"
            ]
          },
          "metadata": {},
          "execution_count": 16
        }
      ]
    },
    {
      "cell_type": "code",
      "source": [
        "model.predict([17.0])"
      ],
      "metadata": {
        "colab": {
          "base_uri": "https://localhost:8080/"
        },
        "id": "0bxUwgqMMA-v",
        "outputId": "002ad576-b747-472e-a66d-bde0db55092c"
      },
      "execution_count": null,
      "outputs": [
        {
          "output_type": "stream",
          "name": "stdout",
          "text": [
            "1/1 [==============================] - 0s 74ms/step\n"
          ]
        },
        {
          "output_type": "execute_result",
          "data": {
            "text/plain": [
              "array([[27.085081]], dtype=float32)"
            ]
          },
          "metadata": {},
          "execution_count": 17
        }
      ]
    },
    {
      "cell_type": "markdown",
      "source": [
        "## Avaliando o performance do modelo\n",
        "Na pratica, um fluxo de trabalho típico quando construindo uma rede neural é:\n",
        "'''\n",
        "Construindo o modelo -> Fit o modelo -> Avalia o modelo -> Ajusta o modelo -> Fit o modelo -> Ajuste -> Avalia -> Ajusta -> Fit"
      ],
      "metadata": {
        "id": "wg0B_MPrPQpQ"
      }
    },
    {
      "cell_type": "markdown",
      "source": [
        "Quando se trata de avaliar... Existem 3 palavras para se lembrar:\n",
        "\n",
        "> \"Visualização, visualização, visualização\"\n",
        "\n",
        "É uma boa ideia visualizar:\n",
        "* O dado - Que tipo de dado você está manuzeando? Como ele aparenta?\n",
        "* O modelo em sí - Como seu modelo se parece?\n",
        "* O treinamento - Como o modelo performa enquanto aprende?\n",
        "* As predições do modelo - Como as predições do modelo se alinham com o resultado real?"
      ],
      "metadata": {
        "id": "WXC9QWAyTvPB"
      }
    },
    {
      "cell_type": "code",
      "source": [
        "# Criando uma dataset maior\n",
        "X = tf.range(-100, 100, 4)\n",
        "X"
      ],
      "metadata": {
        "colab": {
          "base_uri": "https://localhost:8080/"
        },
        "id": "xeZMeUfnV6pO",
        "outputId": "8b56005a-b35f-4b30-c2c4-0e5a5220f305"
      },
      "execution_count": null,
      "outputs": [
        {
          "output_type": "execute_result",
          "data": {
            "text/plain": [
              "<tf.Tensor: shape=(50,), dtype=int32, numpy=\n",
              "array([-100,  -96,  -92,  -88,  -84,  -80,  -76,  -72,  -68,  -64,  -60,\n",
              "        -56,  -52,  -48,  -44,  -40,  -36,  -32,  -28,  -24,  -20,  -16,\n",
              "        -12,   -8,   -4,    0,    4,    8,   12,   16,   20,   24,   28,\n",
              "         32,   36,   40,   44,   48,   52,   56,   60,   64,   68,   72,\n",
              "         76,   80,   84,   88,   92,   96], dtype=int32)>"
            ]
          },
          "metadata": {},
          "execution_count": 18
        }
      ]
    },
    {
      "cell_type": "code",
      "source": [
        "# Criando rótulos para o dataset\n",
        "Y = X + 10\n",
        "Y"
      ],
      "metadata": {
        "colab": {
          "base_uri": "https://localhost:8080/"
        },
        "id": "Q-_fzwXUWPVZ",
        "outputId": "1795e55f-0492-4fc3-fbf7-3d7879199a78"
      },
      "execution_count": null,
      "outputs": [
        {
          "output_type": "execute_result",
          "data": {
            "text/plain": [
              "<tf.Tensor: shape=(50,), dtype=int32, numpy=\n",
              "array([-90, -86, -82, -78, -74, -70, -66, -62, -58, -54, -50, -46, -42,\n",
              "       -38, -34, -30, -26, -22, -18, -14, -10,  -6,  -2,   2,   6,  10,\n",
              "        14,  18,  22,  26,  30,  34,  38,  42,  46,  50,  54,  58,  62,\n",
              "        66,  70,  74,  78,  82,  86,  90,  94,  98, 102, 106], dtype=int32)>"
            ]
          },
          "metadata": {},
          "execution_count": 19
        }
      ]
    },
    {
      "cell_type": "code",
      "source": [
        "# Visualizar os dados\n",
        "import matplotlib.pyplot as plt\n",
        "plt.scatter(X, Y)"
      ],
      "metadata": {
        "colab": {
          "base_uri": "https://localhost:8080/",
          "height": 447
        },
        "id": "DpArgUNRWdaS",
        "outputId": "ecfa713b-47cb-406a-9c00-e7f9e0121e60"
      },
      "execution_count": null,
      "outputs": [
        {
          "output_type": "execute_result",
          "data": {
            "text/plain": [
              "<matplotlib.collections.PathCollection at 0x7f3ef3462ad0>"
            ]
          },
          "metadata": {},
          "execution_count": 20
        },
        {
          "output_type": "display_data",
          "data": {
            "text/plain": [
              "<Figure size 640x480 with 1 Axes>"
            ],
            "image/png": "[encoded data removed]"
          },
          "metadata": {}
        }
      ]
    },
    {
      "cell_type": "markdown",
      "source": [
        "### Os 3 sets...\n",
        "\n",
        "* **Training set** - o modelo aprende por esses dados, normalmente de 70-80% do total de dados que você vai ter\n",
        "* **Validation set** - o modelo é ajustado com base nesses dados, noramalmente 10-15% do total de dados que você vai ter\n",
        "* **Test set** - o modelo é avaliado nesse dado para testar o que foi aprendido, noramalmente 10-15% do total de dados que você vai ter"
      ],
      "metadata": {
        "id": "RaZ0PZgzW2Si"
      }
    },
    {
      "cell_type": "code",
      "source": [
        "#  Checando a quantidade de amostras que temos\n",
        "len(X)"
      ],
      "metadata": {
        "colab": {
          "base_uri": "https://localhost:8080/"
        },
        "id": "12-Kp1s9Ycku",
        "outputId": "9f558084-7a5c-409f-d07f-ec53a5ba4c57"
      },
      "execution_count": null,
      "outputs": [
        {
          "output_type": "execute_result",
          "data": {
            "text/plain": [
              "50"
            ]
          },
          "metadata": {},
          "execution_count": 21
        }
      ]
    },
    {
      "cell_type": "code",
      "source": [
        "# Separe os dados em dados de treino e dados de teste\n",
        "X_train = X[:40] # Os primeiros 40 = 80%\n",
        "Y_train = Y[:40]\n",
        "\n",
        "X_test = X[40:] # Os ultimos 10 = 10%\n",
        "Y_test = Y[40:]\n",
        "\n",
        "len(X_train), len(X_test), len(Y_train), len(Y_test)"
      ],
      "metadata": {
        "colab": {
          "base_uri": "https://localhost:8080/"
        },
        "id": "k0xhGtLqZHhm",
        "outputId": "bcc9ec95-2b44-43e6-e081-3e78df498e3f"
      },
      "execution_count": null,
      "outputs": [
        {
          "output_type": "execute_result",
          "data": {
            "text/plain": [
              "(40, 10, 40, 10)"
            ]
          },
          "metadata": {},
          "execution_count": 22
        }
      ]
    },
    {
      "cell_type": "markdown",
      "source": [
        "### Visualizando os dados\n",
        "Agora temos nossos dados separados em sets de treino e de teste... vamos visualizar novamente!"
      ],
      "metadata": {
        "id": "3uPOLyi1aS3D"
      }
    },
    {
      "cell_type": "code",
      "source": [
        "plt.figure(figsize=(10, 7))\n",
        "# Plot dados de treino em azul\n",
        "plt.scatter(X_train, Y_train, c=\"b\", label=\"Training data\") # Nosso modelo deve aprender com esses dados\n",
        "# Plot dados de teste em verde\n",
        "plt.scatter(X_test, Y_test, c=\"g\", label=\"Testing data\") # Queremos que nosso modelo seja capaz de predizer os valores de X para Y\n",
        "# Apresenta uma legenda\n",
        "plt.legend();"
      ],
      "metadata": {
        "colab": {
          "base_uri": "https://localhost:8080/",
          "height": 599
        },
        "id": "rJkOPwWoakJe",
        "outputId": "52870e0f-fec1-41bc-ec76-47a2ce0b91df"
      },
      "execution_count": null,
      "outputs": [
        {
          "output_type": "display_data",
          "data": {
            "text/plain": [
              "<Figure size 1000x700 with 1 Axes>"
            ],
            "image/png": "[encoded data removed]"
          },
          "metadata": {}
        }
      ]
    },
    {
      "cell_type": "code",
      "source": [
        "# Vamos criar nossas rede neural com esses dados\n",
        "\n",
        "# 1. Criando o modelo\n",
        "model = tf.keras.Sequential([\n",
        "    tf.keras.layers.Dense(100, input_shape=[1], name=\"input_layer\"),\n",
        "    tf.keras.layers.Dense(100, input_shape=[1], name=\"hidden_layer1\"),\n",
        "    tf.keras.layers.Dense(100, input_shape=[1], name=\"hidden_layer2\"),\n",
        "    tf.keras.layers.Dense(1, name=\"output_layer\")\n",
        "], name=\"model_1\")\n",
        "\n",
        "# 2. Compilando o modelo\n",
        "model.compile(loss=tf.keras.losses.mae,\n",
        "              optimizer=tf.keras.optimizers.Adam(lr=0.01),\n",
        "              metrics=[\"mae\"])\n",
        "\n",
        "# 3. Fit o modelo\n",
        "model.fit(tf.expand_dims(X_train, axis=-1), Y_train, epochs=100)"
      ],
      "metadata": {
        "colab": {
          "base_uri": "https://localhost:8080/"
        },
        "id": "7Rqr0NBScrkr",
        "outputId": "47311b75-3179-40fd-c004-e1fd882eb820"
      },
      "execution_count": null,
      "outputs": [
        {
          "output_type": "stream",
          "name": "stderr",
          "text": [
            "WARNING:absl:`lr` is deprecated in Keras optimizer, please use `learning_rate` or use the legacy optimizer, e.g.,tf.keras.optimizers.legacy.Adam.\n"
          ]
        },
        {
          "output_type": "stream",
          "name": "stdout",
          "text": [
            "Epoch 1/100\n",
            "2/2 [==============================] - 1s 11ms/step - loss: 39.9488 - mae: 39.9488\n",
            "Epoch 2/100\n",
            "2/2 [==============================] - 0s 8ms/step - loss: 14.7652 - mae: 14.7652\n",
            "Epoch 3/100\n",
            "2/2 [==============================] - 0s 9ms/step - loss: 11.6310 - mae: 11.6310\n",
            "Epoch 4/100\n",
            "2/2 [==============================] - 0s 8ms/step - loss: 12.3321 - mae: 12.3321\n",
            "Epoch 5/100\n",
            "2/2 [==============================] - 0s 8ms/step - loss: 10.0519 - mae: 10.0519\n",
            "Epoch 6/100\n",
            "2/2 [==============================] - 0s 8ms/step - loss: 8.0399 - mae: 8.0399\n",
            "Epoch 7/100\n",
            "2/2 [==============================] - 0s 7ms/step - loss: 8.8727 - mae: 8.8727\n",
            "Epoch 8/100\n",
            "2/2 [==============================] - 0s 8ms/step - loss: 7.4380 - mae: 7.4380\n",
            "Epoch 9/100\n",
            "2/2 [==============================] - 0s 8ms/step - loss: 7.6128 - mae: 7.6128\n",
            "Epoch 10/100\n",
            "2/2 [==============================] - 0s 7ms/step - loss: 7.3794 - mae: 7.3794\n",
            "Epoch 11/100\n",
            "2/2 [==============================] - 0s 7ms/step - loss: 7.7399 - mae: 7.7399\n",
            "Epoch 12/100\n",
            "2/2 [==============================] - 0s 8ms/step - loss: 7.3201 - mae: 7.3201\n",
            "Epoch 13/100\n",
            "2/2 [==============================] - 0s 7ms/step - loss: 7.8344 - mae: 7.8344\n",
            "Epoch 14/100\n",
            "2/2 [==============================] - 0s 7ms/step - loss: 7.2689 - mae: 7.2689\n",
            "Epoch 15/100\n",
            "2/2 [==============================] - 0s 8ms/step - loss: 8.1287 - mae: 8.1287\n",
            "Epoch 16/100\n",
            "2/2 [==============================] - 0s 7ms/step - loss: 7.0838 - mae: 7.0838\n",
            "Epoch 17/100\n",
            "2/2 [==============================] - 0s 7ms/step - loss: 8.2438 - mae: 8.2438\n",
            "Epoch 18/100\n",
            "2/2 [==============================] - 0s 7ms/step - loss: 7.7566 - mae: 7.7566\n",
            "Epoch 19/100\n",
            "2/2 [==============================] - 0s 7ms/step - loss: 7.4398 - mae: 7.4398\n",
            "Epoch 20/100\n",
            "2/2 [==============================] - 0s 7ms/step - loss: 7.1758 - mae: 7.1758\n",
            "Epoch 21/100\n",
            "2/2 [==============================] - 0s 8ms/step - loss: 7.3400 - mae: 7.3400\n",
            "Epoch 22/100\n",
            "2/2 [==============================] - 0s 7ms/step - loss: 6.9255 - mae: 6.9255\n",
            "Epoch 23/100\n",
            "2/2 [==============================] - 0s 7ms/step - loss: 7.8327 - mae: 7.8327\n",
            "Epoch 24/100\n",
            "2/2 [==============================] - 0s 7ms/step - loss: 7.9160 - mae: 7.9160\n",
            "Epoch 25/100\n",
            "2/2 [==============================] - 0s 7ms/step - loss: 6.7215 - mae: 6.7215\n",
            "Epoch 26/100\n",
            "2/2 [==============================] - 0s 8ms/step - loss: 7.4706 - mae: 7.4706\n",
            "Epoch 27/100\n",
            "2/2 [==============================] - 0s 7ms/step - loss: 6.7018 - mae: 6.7018\n",
            "Epoch 28/100\n",
            "2/2 [==============================] - 0s 9ms/step - loss: 6.7724 - mae: 6.7724\n",
            "Epoch 29/100\n",
            "2/2 [==============================] - 0s 8ms/step - loss: 6.6398 - mae: 6.6398\n",
            "Epoch 30/100\n",
            "2/2 [==============================] - 0s 9ms/step - loss: 6.5568 - mae: 6.5568\n",
            "Epoch 31/100\n",
            "2/2 [==============================] - 0s 8ms/step - loss: 6.6312 - mae: 6.6312\n",
            "Epoch 32/100\n",
            "2/2 [==============================] - 0s 8ms/step - loss: 6.5076 - mae: 6.5076\n",
            "Epoch 33/100\n",
            "2/2 [==============================] - 0s 7ms/step - loss: 6.6062 - mae: 6.6062\n",
            "Epoch 34/100\n",
            "2/2 [==============================] - 0s 7ms/step - loss: 6.5288 - mae: 6.5288\n",
            "Epoch 35/100\n",
            "2/2 [==============================] - 0s 16ms/step - loss: 6.4928 - mae: 6.4928\n",
            "Epoch 36/100\n",
            "2/2 [==============================] - 0s 10ms/step - loss: 6.0993 - mae: 6.0993\n",
            "Epoch 37/100\n",
            "2/2 [==============================] - 0s 15ms/step - loss: 6.3656 - mae: 6.3656\n",
            "Epoch 38/100\n",
            "2/2 [==============================] - 0s 9ms/step - loss: 6.1216 - mae: 6.1216\n",
            "Epoch 39/100\n",
            "2/2 [==============================] - 0s 11ms/step - loss: 5.8889 - mae: 5.8889\n",
            "Epoch 40/100\n",
            "2/2 [==============================] - 0s 7ms/step - loss: 6.4840 - mae: 6.4840\n",
            "Epoch 41/100\n",
            "2/2 [==============================] - 0s 8ms/step - loss: 6.0454 - mae: 6.0454\n",
            "Epoch 42/100\n",
            "2/2 [==============================] - 0s 8ms/step - loss: 5.9670 - mae: 5.9670\n",
            "Epoch 43/100\n",
            "2/2 [==============================] - 0s 13ms/step - loss: 5.6484 - mae: 5.6484\n",
            "Epoch 44/100\n",
            "2/2 [==============================] - 0s 8ms/step - loss: 5.7070 - mae: 5.7070\n",
            "Epoch 45/100\n",
            "2/2 [==============================] - 0s 7ms/step - loss: 5.4919 - mae: 5.4919\n",
            "Epoch 46/100\n",
            "2/2 [==============================] - 0s 7ms/step - loss: 5.4587 - mae: 5.4587\n",
            "Epoch 47/100\n",
            "2/2 [==============================] - 0s 8ms/step - loss: 5.2756 - mae: 5.2756\n",
            "Epoch 48/100\n",
            "2/2 [==============================] - 0s 7ms/step - loss: 5.4175 - mae: 5.4175\n",
            "Epoch 49/100\n",
            "2/2 [==============================] - 0s 7ms/step - loss: 5.2926 - mae: 5.2926\n",
            "Epoch 50/100\n",
            "2/2 [==============================] - 0s 7ms/step - loss: 5.0405 - mae: 5.0405\n",
            "Epoch 51/100\n",
            "2/2 [==============================] - 0s 7ms/step - loss: 5.4954 - mae: 5.4954\n",
            "Epoch 52/100\n",
            "2/2 [==============================] - 0s 8ms/step - loss: 5.3676 - mae: 5.3676\n",
            "Epoch 53/100\n",
            "2/2 [==============================] - 0s 11ms/step - loss: 4.9319 - mae: 4.9319\n",
            "Epoch 54/100\n",
            "2/2 [==============================] - 0s 8ms/step - loss: 6.4914 - mae: 6.4914\n",
            "Epoch 55/100\n",
            "2/2 [==============================] - 0s 7ms/step - loss: 5.5781 - mae: 5.5781\n",
            "Epoch 56/100\n",
            "2/2 [==============================] - 0s 7ms/step - loss: 5.5148 - mae: 5.5148\n",
            "Epoch 57/100\n",
            "2/2 [==============================] - 0s 7ms/step - loss: 5.4964 - mae: 5.4964\n",
            "Epoch 58/100\n",
            "2/2 [==============================] - 0s 8ms/step - loss: 4.3650 - mae: 4.3650\n",
            "Epoch 59/100\n",
            "2/2 [==============================] - 0s 7ms/step - loss: 4.7780 - mae: 4.7780\n",
            "Epoch 60/100\n",
            "2/2 [==============================] - 0s 8ms/step - loss: 4.1361 - mae: 4.1361\n",
            "Epoch 61/100\n",
            "2/2 [==============================] - 0s 9ms/step - loss: 3.9868 - mae: 3.9868\n",
            "Epoch 62/100\n",
            "2/2 [==============================] - 0s 7ms/step - loss: 3.9598 - mae: 3.9598\n",
            "Epoch 63/100\n",
            "2/2 [==============================] - 0s 12ms/step - loss: 3.7245 - mae: 3.7245\n",
            "Epoch 64/100\n",
            "2/2 [==============================] - 0s 9ms/step - loss: 3.8681 - mae: 3.8681\n",
            "Epoch 65/100\n",
            "2/2 [==============================] - 0s 8ms/step - loss: 3.5406 - mae: 3.5406\n",
            "Epoch 66/100\n",
            "2/2 [==============================] - 0s 7ms/step - loss: 3.4491 - mae: 3.4491\n",
            "Epoch 67/100\n",
            "2/2 [==============================] - 0s 8ms/step - loss: 3.2500 - mae: 3.2500\n",
            "Epoch 68/100\n",
            "2/2 [==============================] - 0s 8ms/step - loss: 2.9821 - mae: 2.9821\n",
            "Epoch 69/100\n",
            "2/2 [==============================] - 0s 8ms/step - loss: 2.5693 - mae: 2.5693\n",
            "Epoch 70/100\n",
            "2/2 [==============================] - 0s 8ms/step - loss: 2.5229 - mae: 2.5229\n",
            "Epoch 71/100\n",
            "2/2 [==============================] - 0s 7ms/step - loss: 3.5826 - mae: 3.5826\n",
            "Epoch 72/100\n",
            "2/2 [==============================] - 0s 8ms/step - loss: 3.1323 - mae: 3.1323\n",
            "Epoch 73/100\n",
            "2/2 [==============================] - 0s 10ms/step - loss: 4.1613 - mae: 4.1613\n",
            "Epoch 74/100\n",
            "2/2 [==============================] - 0s 7ms/step - loss: 1.7073 - mae: 1.7073\n",
            "Epoch 75/100\n",
            "2/2 [==============================] - 0s 7ms/step - loss: 3.2107 - mae: 3.2107\n",
            "Epoch 76/100\n",
            "2/2 [==============================] - 0s 8ms/step - loss: 2.7525 - mae: 2.7525\n",
            "Epoch 77/100\n",
            "2/2 [==============================] - 0s 8ms/step - loss: 1.4205 - mae: 1.4205\n",
            "Epoch 78/100\n",
            "2/2 [==============================] - 0s 8ms/step - loss: 0.8445 - mae: 0.8445\n",
            "Epoch 79/100\n",
            "2/2 [==============================] - 0s 8ms/step - loss: 1.0069 - mae: 1.0069\n",
            "Epoch 80/100\n",
            "2/2 [==============================] - 0s 7ms/step - loss: 3.9742 - mae: 3.9742\n",
            "Epoch 81/100\n",
            "2/2 [==============================] - 0s 7ms/step - loss: 2.3823 - mae: 2.3823\n",
            "Epoch 82/100\n",
            "2/2 [==============================] - 0s 7ms/step - loss: 7.1986 - mae: 7.1986\n",
            "Epoch 83/100\n",
            "2/2 [==============================] - 0s 8ms/step - loss: 4.4357 - mae: 4.4357\n",
            "Epoch 84/100\n",
            "2/2 [==============================] - 0s 11ms/step - loss: 4.0717 - mae: 4.0717\n",
            "Epoch 85/100\n",
            "2/2 [==============================] - 0s 8ms/step - loss: 2.1085 - mae: 2.1085\n",
            "Epoch 86/100\n",
            "2/2 [==============================] - 0s 8ms/step - loss: 4.4530 - mae: 4.4530\n",
            "Epoch 87/100\n",
            "2/2 [==============================] - 0s 8ms/step - loss: 1.2379 - mae: 1.2379\n",
            "Epoch 88/100\n",
            "2/2 [==============================] - 0s 8ms/step - loss: 4.9434 - mae: 4.9434\n",
            "Epoch 89/100\n",
            "2/2 [==============================] - 0s 12ms/step - loss: 1.4174 - mae: 1.4174\n",
            "Epoch 90/100\n",
            "2/2 [==============================] - 0s 8ms/step - loss: 5.9729 - mae: 5.9729\n",
            "Epoch 91/100\n",
            "2/2 [==============================] - 0s 9ms/step - loss: 2.5293 - mae: 2.5293\n",
            "Epoch 92/100\n",
            "2/2 [==============================] - 0s 8ms/step - loss: 2.7869 - mae: 2.7869\n",
            "Epoch 93/100\n",
            "2/2 [==============================] - 0s 8ms/step - loss: 0.8162 - mae: 0.8162\n",
            "Epoch 94/100\n",
            "2/2 [==============================] - 0s 10ms/step - loss: 1.1076 - mae: 1.1076\n",
            "Epoch 95/100\n",
            "2/2 [==============================] - 0s 8ms/step - loss: 1.0681 - mae: 1.0681\n",
            "Epoch 96/100\n",
            "2/2 [==============================] - 0s 9ms/step - loss: 1.1021 - mae: 1.1021\n",
            "Epoch 97/100\n",
            "2/2 [==============================] - 0s 7ms/step - loss: 0.6890 - mae: 0.6890\n",
            "Epoch 98/100\n",
            "2/2 [==============================] - 0s 8ms/step - loss: 0.4127 - mae: 0.4127\n",
            "Epoch 99/100\n",
            "2/2 [==============================] - 0s 9ms/step - loss: 0.7989 - mae: 0.7989\n",
            "Epoch 100/100\n",
            "2/2 [==============================] - 0s 8ms/step - loss: 1.3836 - mae: 1.3836\n"
          ]
        },
        {
          "output_type": "execute_result",
          "data": {
            "text/plain": [
              "<keras.callbacks.History at 0x7f3ef33abe80>"
            ]
          },
          "metadata": {},
          "execution_count": 24
        }
      ]
    },
    {
      "cell_type": "markdown",
      "source": [
        "### Visualizando o modelo"
      ],
      "metadata": {
        "id": "cHmygJhqeg_j"
      }
    },
    {
      "cell_type": "code",
      "source": [
        "model.summary()"
      ],
      "metadata": {
        "colab": {
          "base_uri": "https://localhost:8080/"
        },
        "id": "DBGqIINGelQt",
        "outputId": "b57a4824-b9f1-4bf1-e12e-658c0aebf101"
      },
      "execution_count": null,
      "outputs": [
        {
          "output_type": "stream",
          "name": "stdout",
          "text": [
            "Model: \"model_1\"\n",
            "_________________________________________________________________\n",
            " Layer (type)                Output Shape              Param #   \n",
            "=================================================================\n",
            " input_layer (Dense)         (None, 100)               200       \n",
            "                                                                 \n",
            " hidden_layer1 (Dense)       (None, 100)               10100     \n",
            "                                                                 \n",
            " hidden_layer2 (Dense)       (None, 100)               10100     \n",
            "                                                                 \n",
            " output_layer (Dense)        (None, 1)                 101       \n",
            "                                                                 \n",
            "=================================================================\n",
            "Total params: 20,501\n",
            "Trainable params: 20,501\n",
            "Non-trainable params: 0\n",
            "_________________________________________________________________\n"
          ]
        }
      ]
    },
    {
      "cell_type": "markdown",
      "source": [
        "* Total params - total de numeros de parametros no model\n",
        "* Trainable parameters - esses são os parâmetros (padrões) que o modelo pode melhorar conforme ele treina\n",
        "* Non-trainabel params - esses parâmetros não são melhorados durante o treino\n",
        "\n",
        "**Referencia:** para mais informações sobre parâmetros treináveis, olhe o video do MIT de introdução a deep learning. <introtodeeplearning.com>"
      ],
      "metadata": {
        "id": "jnnfE1YZgM8g"
      }
    },
    {
      "cell_type": "code",
      "source": [
        "from tensorflow.keras.utils import plot_model\n",
        "\n",
        "plot_model(model=model, show_shapes=True)\n"
      ],
      "metadata": {
        "id": "1DswIGW-g0us",
        "colab": {
          "base_uri": "https://localhost:8080/",
          "height": 533
        },
        "outputId": "9d3af915-dce0-473c-90d6-938c1da1652b"
      },
      "execution_count": null,
      "outputs": [
        {
          "output_type": "execute_result",
          "data": {
            "image/png": "[encoded data removed]",
            "text/plain": [
              "<IPython.core.display.Image object>"
            ]
          },
          "metadata": {},
          "execution_count": 26
        }
      ]
    },
    {
      "cell_type": "markdown",
      "source": [
        "### Visualizando as predições do modelo\n",
        "Para visualizar as predições, é uma boa ideia plotar eles nos laybel verdadeiros.\n",
        "\n",
        "Muitas das vezes podemos encntrar eles na forma de 'y_test' ou 'y_true' versus 'y_pred' (ground truth versus your model predictions)"
      ],
      "metadata": {
        "id": "NGeHJzepjGEV"
      }
    },
    {
      "cell_type": "code",
      "source": [
        "# Criando predições\n",
        "Y_pred = model.predict(X_test)\n",
        "Y_pred"
      ],
      "metadata": {
        "id": "nw9xwmXAjOK-",
        "colab": {
          "base_uri": "https://localhost:8080/"
        },
        "outputId": "7a336409-5dc0-426b-9dfa-20660d80adf4"
      },
      "execution_count": null,
      "outputs": [
        {
          "output_type": "stream",
          "name": "stderr",
          "text": [
            "WARNING:tensorflow:5 out of the last 5 calls to <function Model.make_predict_function.<locals>.predict_function at 0x7f3ef312b370> triggered tf.function retracing. Tracing is expensive and the excessive number of tracings could be due to (1) creating @tf.function repeatedly in a loop, (2) passing tensors with different shapes, (3) passing Python objects instead of tensors. For (1), please define your @tf.function outside of the loop. For (2), @tf.function has reduce_retracing=True option that can avoid unnecessary retracing. For (3), please refer to https://www.tensorflow.org/guide/function#controlling_retracing and https://www.tensorflow.org/api_docs/python/tf/function for  more details.\n"
          ]
        },
        {
          "output_type": "stream",
          "name": "stdout",
          "text": [
            "1/1 [==============================] - 0s 59ms/step\n"
          ]
        },
        {
          "output_type": "execute_result",
          "data": {
            "text/plain": [
              "array([[ 69.98952 ],\n",
              "       [ 73.97391 ],\n",
              "       [ 77.958305],\n",
              "       [ 81.9427  ],\n",
              "       [ 85.927086],\n",
              "       [ 89.91148 ],\n",
              "       [ 93.89588 ],\n",
              "       [ 97.88027 ],\n",
              "       [101.86466 ],\n",
              "       [105.84905 ]], dtype=float32)"
            ]
          },
          "metadata": {},
          "execution_count": 27
        }
      ]
    },
    {
      "cell_type": "code",
      "source": [
        "Y_test"
      ],
      "metadata": {
        "colab": {
          "base_uri": "https://localhost:8080/"
        },
        "id": "lbjsZtmClGny",
        "outputId": "e5fa2b97-9734-440f-874d-d7a127b01896"
      },
      "execution_count": null,
      "outputs": [
        {
          "output_type": "execute_result",
          "data": {
            "text/plain": [
              "<tf.Tensor: shape=(10,), dtype=int32, numpy=array([ 70,  74,  78,  82,  86,  90,  94,  98, 102, 106], dtype=int32)>"
            ]
          },
          "metadata": {},
          "execution_count": 28
        }
      ]
    },
    {
      "cell_type": "code",
      "source": [
        "# Vamos criar um plot function\n",
        "def plot_predictions(train_data = X_train,\n",
        "                     train_labels = Y_train,\n",
        "                     test_data=X_test,\n",
        "                     test_labels=Y_test,\n",
        "                     predictions=Y_pred):\n",
        "  \"\"\"\n",
        "  Plot de treino de dados, teste de dados e comparações de predições com relação ao ground truth\n",
        "  \"\"\"\n",
        "  plt.figure(figsize=(10, 7))\n",
        "  # Plot dados de treinamento em azul\n",
        "  plt.scatter(train_data, train_labels, c=\"b\", label=\"Training data\")\n",
        "  # Plot dados de teste em verde\n",
        "  plt.scatter(test_data, test_labels, c=\"g\", label=\"Testing data\")\n",
        "  # Plot modelos de predição em vermelho\n",
        "  plt.scatter(test_data, predictions, c=\"r\", label=\"Predictions\")\n",
        "  # Apresentar legenda\n",
        "  plt.legend();"
      ],
      "metadata": {
        "id": "lLprGjijlPPb"
      },
      "execution_count": null,
      "outputs": []
    },
    {
      "cell_type": "code",
      "source": [
        "plot_predictions()"
      ],
      "metadata": {
        "colab": {
          "base_uri": "https://localhost:8080/",
          "height": 599
        },
        "id": "Hppxfm17nRb0",
        "outputId": "c9689488-e5fe-48c4-cd7a-0af687afc32b"
      },
      "execution_count": null,
      "outputs": [
        {
          "output_type": "display_data",
          "data": {
            "text/plain": [
              "<Figure size 1000x700 with 1 Axes>"
            ],
            "image/png": "[encoded data removed]"
          },
          "metadata": {}
        }
      ]
    },
    {
      "cell_type": "markdown",
      "source": [
        "### Avaliando as predições do modelo com metricas de avaliação regressiva\n",
        "\n",
        "Dependendo do problema que se está avaliando, terá diferentes tipos de métricas de avaliação para seu modelo de performance.\n",
        "\n",
        "Como estamos trabalhando com regressão, duas das principais métricas são:\n",
        "* MAE - mean absolute error, \"dna média, o quão errado cada uma das predições está\"\n",
        "* MSE - mean square error, \"quadrado da média de erros\"\n"
      ],
      "metadata": {
        "id": "hnzDGrImoKw4"
      }
    },
    {
      "cell_type": "code",
      "source": [
        "# Avaliando o modelo no teste\n",
        "model.evaluate(X_test, Y_test)"
      ],
      "metadata": {
        "colab": {
          "base_uri": "https://localhost:8080/"
        },
        "id": "iNhf_ZGmRnlW",
        "outputId": "f4a65eb1-e69e-4e64-8728-48c3cdd9869f"
      },
      "execution_count": null,
      "outputs": [
        {
          "output_type": "stream",
          "name": "stdout",
          "text": [
            "1/1 [==============================] - 0s 135ms/step - loss: 0.0807 - mae: 0.0807\n"
          ]
        },
        {
          "output_type": "execute_result",
          "data": {
            "text/plain": [
              "[0.08071289211511612, 0.08071289211511612]"
            ]
          },
          "metadata": {},
          "execution_count": 31
        }
      ]
    },
    {
      "cell_type": "code",
      "source": [
        "# Calculando o MAE - Mean Absolute Error\n",
        "mae = tf.keras.losses.mae(Y_test, Y_pred)\n",
        "mae"
      ],
      "metadata": {
        "colab": {
          "base_uri": "https://localhost:8080/"
        },
        "id": "D6NDXBvXVanv",
        "outputId": "ed567ce6-8282-4c27-d648-4f94035a5630"
      },
      "execution_count": null,
      "outputs": [
        {
          "output_type": "execute_result",
          "data": {
            "text/plain": [
              "<tf.Tensor: shape=(10,), dtype=float32, numpy=\n",
              "array([18.010483, 14.820874, 12.425016, 10.822919, 10.014583, 10.      ,\n",
              "       10.779177, 12.352109, 14.718798, 17.879242], dtype=float32)>"
            ]
          },
          "metadata": {},
          "execution_count": 32
        }
      ]
    },
    {
      "cell_type": "code",
      "source": [
        "new_Y_pred = tf.squeeze(Y_pred)"
      ],
      "metadata": {
        "id": "BpLOt5alaBwP"
      },
      "execution_count": null,
      "outputs": []
    },
    {
      "cell_type": "code",
      "source": [
        "tf.constant(new_Y_pred), tf.constant(Y_test)"
      ],
      "metadata": {
        "colab": {
          "base_uri": "https://localhost:8080/"
        },
        "id": "fFYD4QIJUPTC",
        "outputId": "24438588-19e2-45b7-97ce-108ecb6f849e"
      },
      "execution_count": null,
      "outputs": [
        {
          "output_type": "execute_result",
          "data": {
            "text/plain": [
              "(<tf.Tensor: shape=(10,), dtype=float32, numpy=\n",
              " array([ 69.98952 ,  73.97391 ,  77.958305,  81.9427  ,  85.927086,\n",
              "         89.91148 ,  93.89588 ,  97.88027 , 101.86466 , 105.84905 ],\n",
              "       dtype=float32)>,\n",
              " <tf.Tensor: shape=(10,), dtype=int32, numpy=array([ 70,  74,  78,  82,  86,  90,  94,  98, 102, 106], dtype=int32)>)"
            ]
          },
          "metadata": {},
          "execution_count": 34
        }
      ]
    },
    {
      "cell_type": "code",
      "source": [
        "# Calculando novamente o MAE\n",
        "mae = tf.keras.losses.mae(Y_test, new_Y_pred)\n",
        "mae"
      ],
      "metadata": {
        "colab": {
          "base_uri": "https://localhost:8080/"
        },
        "id": "OLPs02TPaarN",
        "outputId": "60a73aca-6240-4321-bff6-a90a0ebdd2d3"
      },
      "execution_count": null,
      "outputs": [
        {
          "output_type": "execute_result",
          "data": {
            "text/plain": [
              "<tf.Tensor: shape=(), dtype=float32, numpy=0.08071289>"
            ]
          },
          "metadata": {},
          "execution_count": 35
        }
      ]
    },
    {
      "cell_type": "code",
      "source": [
        "# Calculando o MSE - Mean Square Error\n",
        "mse = tf.keras.losses.mse(Y_test, new_Y_pred)\n",
        "mse"
      ],
      "metadata": {
        "colab": {
          "base_uri": "https://localhost:8080/"
        },
        "id": "fzzgcwOga8GI",
        "outputId": "b704645b-8cd3-4d3f-ea53-8415d75a0ac1"
      },
      "execution_count": null,
      "outputs": [
        {
          "output_type": "execute_result",
          "data": {
            "text/plain": [
              "<tf.Tensor: shape=(), dtype=float32, numpy=0.008524061>"
            ]
          },
          "metadata": {},
          "execution_count": 36
        }
      ]
    },
    {
      "cell_type": "code",
      "source": [
        "# Craindo funções para o uso do MAE e MSE\n",
        "def mae(Y_true, Y_pred):\n",
        "  return tf.keras.losses.mae(Y_true=Y_true,\n",
        "                             Y_pred=tf.squeeze(Y_pred))\n",
        "\n",
        "def mse(Y_true, Y_pred):\n",
        "  return tf.keras.losses.mse(Y_true=Y_true,\n",
        "                             Y_pred=tf.squeeze(Y_pred))"
      ],
      "metadata": {
        "id": "1laCcmhdb3Gq"
      },
      "execution_count": null,
      "outputs": []
    },
    {
      "cell_type": "markdown",
      "source": [
        "## Realizando experimentos para melhorar nosso modelo\n",
        "1. Conseguindo mais dados/exemplos\n",
        "2. Fazer seu modelo maior (deixando-o mais complexo), podendo ser por adição de mais layers ou maais neurônios\n",
        "3. Treinando por mais tempo (aumentando o epochs)"
      ],
      "metadata": {
        "id": "ZyfRgO7rcl_R"
      }
    },
    {
      "cell_type": "code",
      "source": [
        "# Set random seed\n",
        "tf.random.set_seed(42)"
      ],
      "metadata": {
        "id": "2IgCfh1QeLRF"
      },
      "execution_count": null,
      "outputs": []
    },
    {
      "cell_type": "code",
      "source": [
        "# model_1 - 1 layer/epochs = 100\n",
        "model_1 = tf.keras.Sequential([\n",
        "    tf.keras.layers.Dense(1)\n",
        "])\n",
        "\n",
        "model_1.compile(loss=tf.keras.losses.mae,\n",
        "                optimizer=tf.keras.optimizers.SGD(),\n",
        "                metrics=[\"mae\"])\n",
        "\n",
        "model_1.fit(tf.expand_dims(X_train, axis=-1), Y_train, epochs=100)"
      ],
      "metadata": {
        "colab": {
          "base_uri": "https://localhost:8080/"
        },
        "id": "UzM8b4cPdie4",
        "outputId": "0334c839-a896-4640-d745-81373f364fd7"
      },
      "execution_count": null,
      "outputs": [
        {
          "output_type": "stream",
          "name": "stdout",
          "text": [
            "Epoch 1/100\n",
            "2/2 [==============================] - 0s 11ms/step - loss: 109.9361 - mae: 109.9361\n",
            "Epoch 2/100\n",
            "2/2 [==============================] - 0s 6ms/step - loss: 74.4807 - mae: 74.4807\n",
            "Epoch 3/100\n",
            "2/2 [==============================] - 0s 10ms/step - loss: 36.9204 - mae: 36.9204\n",
            "Epoch 4/100\n",
            "2/2 [==============================] - 0s 7ms/step - loss: 7.8370 - mae: 7.8370\n",
            "Epoch 5/100\n",
            "2/2 [==============================] - 0s 6ms/step - loss: 9.7219 - mae: 9.7219\n",
            "Epoch 6/100\n",
            "2/2 [==============================] - 0s 6ms/step - loss: 9.0609 - mae: 9.0609\n",
            "Epoch 7/100\n",
            "2/2 [==============================] - 0s 7ms/step - loss: 9.4737 - mae: 9.4737\n",
            "Epoch 8/100\n",
            "2/2 [==============================] - 0s 7ms/step - loss: 9.3353 - mae: 9.3353\n",
            "Epoch 9/100\n",
            "2/2 [==============================] - 0s 7ms/step - loss: 7.5553 - mae: 7.5553\n",
            "Epoch 10/100\n",
            "2/2 [==============================] - 0s 12ms/step - loss: 12.5897 - mae: 12.5897\n",
            "Epoch 11/100\n",
            "2/2 [==============================] - 0s 7ms/step - loss: 10.3293 - mae: 10.3293\n",
            "Epoch 12/100\n",
            "2/2 [==============================] - 0s 6ms/step - loss: 18.5986 - mae: 18.5986\n",
            "Epoch 13/100\n",
            "2/2 [==============================] - 0s 6ms/step - loss: 9.7565 - mae: 9.7565\n",
            "Epoch 14/100\n",
            "2/2 [==============================] - 0s 6ms/step - loss: 15.6858 - mae: 15.6858\n",
            "Epoch 15/100\n",
            "2/2 [==============================] - 0s 7ms/step - loss: 11.2769 - mae: 11.2769\n",
            "Epoch 16/100\n",
            "2/2 [==============================] - 0s 6ms/step - loss: 8.6157 - mae: 8.6157\n",
            "Epoch 17/100\n",
            "2/2 [==============================] - 0s 7ms/step - loss: 13.7762 - mae: 13.7762\n",
            "Epoch 18/100\n",
            "2/2 [==============================] - 0s 9ms/step - loss: 11.6312 - mae: 11.6312\n",
            "Epoch 19/100\n",
            "2/2 [==============================] - 0s 21ms/step - loss: 17.7747 - mae: 17.7747\n",
            "Epoch 20/100\n",
            "2/2 [==============================] - 0s 6ms/step - loss: 14.9105 - mae: 14.9105\n",
            "Epoch 21/100\n",
            "2/2 [==============================] - 0s 7ms/step - loss: 10.8147 - mae: 10.8147\n",
            "Epoch 22/100\n",
            "2/2 [==============================] - 0s 6ms/step - loss: 8.5599 - mae: 8.5599\n",
            "Epoch 23/100\n",
            "2/2 [==============================] - 0s 6ms/step - loss: 9.7948 - mae: 9.7948\n",
            "Epoch 24/100\n",
            "2/2 [==============================] - 0s 6ms/step - loss: 10.9164 - mae: 10.9164\n",
            "Epoch 25/100\n",
            "2/2 [==============================] - 0s 9ms/step - loss: 9.1646 - mae: 9.1646\n",
            "Epoch 26/100\n",
            "2/2 [==============================] - 0s 6ms/step - loss: 13.1480 - mae: 13.1480\n",
            "Epoch 27/100\n",
            "2/2 [==============================] - 0s 7ms/step - loss: 10.4650 - mae: 10.4650\n",
            "Epoch 28/100\n",
            "2/2 [==============================] - 0s 7ms/step - loss: 13.4934 - mae: 13.4934\n",
            "Epoch 29/100\n",
            "2/2 [==============================] - 0s 7ms/step - loss: 9.6553 - mae: 9.6553\n",
            "Epoch 30/100\n",
            "2/2 [==============================] - 0s 15ms/step - loss: 17.3392 - mae: 17.3392\n",
            "Epoch 31/100\n",
            "2/2 [==============================] - 0s 8ms/step - loss: 22.7604 - mae: 22.7604\n",
            "Epoch 32/100\n",
            "2/2 [==============================] - 0s 7ms/step - loss: 7.9484 - mae: 7.9484\n",
            "Epoch 33/100\n",
            "2/2 [==============================] - 0s 7ms/step - loss: 14.2365 - mae: 14.2365\n",
            "Epoch 34/100\n",
            "2/2 [==============================] - 0s 9ms/step - loss: 12.5027 - mae: 12.5027\n",
            "Epoch 35/100\n",
            "2/2 [==============================] - 0s 6ms/step - loss: 8.2627 - mae: 8.2627\n",
            "Epoch 36/100\n",
            "2/2 [==============================] - 0s 6ms/step - loss: 10.4621 - mae: 10.4621\n",
            "Epoch 37/100\n",
            "2/2 [==============================] - 0s 6ms/step - loss: 10.1175 - mae: 10.1175\n",
            "Epoch 38/100\n",
            "2/2 [==============================] - 0s 7ms/step - loss: 11.2793 - mae: 11.2793\n",
            "Epoch 39/100\n",
            "2/2 [==============================] - 0s 7ms/step - loss: 14.8604 - mae: 14.8604\n",
            "Epoch 40/100\n",
            "2/2 [==============================] - 0s 6ms/step - loss: 12.9899 - mae: 12.9899\n",
            "Epoch 41/100\n",
            "2/2 [==============================] - 0s 6ms/step - loss: 9.3911 - mae: 9.3911\n",
            "Epoch 42/100\n",
            "2/2 [==============================] - 0s 6ms/step - loss: 10.9755 - mae: 10.9755\n",
            "Epoch 43/100\n",
            "2/2 [==============================] - 0s 6ms/step - loss: 8.3528 - mae: 8.3528\n",
            "Epoch 44/100\n",
            "2/2 [==============================] - 0s 6ms/step - loss: 12.9687 - mae: 12.9687\n",
            "Epoch 45/100\n",
            "2/2 [==============================] - 0s 6ms/step - loss: 13.7914 - mae: 13.7914\n",
            "Epoch 46/100\n",
            "2/2 [==============================] - 0s 7ms/step - loss: 8.4792 - mae: 8.4792\n",
            "Epoch 47/100\n",
            "2/2 [==============================] - 0s 7ms/step - loss: 9.1777 - mae: 9.1777\n",
            "Epoch 48/100\n",
            "2/2 [==============================] - 0s 6ms/step - loss: 10.6717 - mae: 10.6717\n",
            "Epoch 49/100\n",
            "2/2 [==============================] - 0s 6ms/step - loss: 7.7918 - mae: 7.7918\n",
            "Epoch 50/100\n",
            "2/2 [==============================] - 0s 6ms/step - loss: 9.5903 - mae: 9.5903\n",
            "Epoch 51/100\n",
            "2/2 [==============================] - 0s 6ms/step - loss: 9.1934 - mae: 9.1934\n",
            "Epoch 52/100\n",
            "2/2 [==============================] - 0s 6ms/step - loss: 16.4140 - mae: 16.4140\n",
            "Epoch 53/100\n",
            "2/2 [==============================] - 0s 7ms/step - loss: 14.1352 - mae: 14.1352\n",
            "Epoch 54/100\n",
            "2/2 [==============================] - 0s 6ms/step - loss: 21.0951 - mae: 21.0951\n",
            "Epoch 55/100\n",
            "2/2 [==============================] - 0s 6ms/step - loss: 16.4493 - mae: 16.4493\n",
            "Epoch 56/100\n",
            "2/2 [==============================] - 0s 7ms/step - loss: 9.9334 - mae: 9.9334\n",
            "Epoch 57/100\n",
            "2/2 [==============================] - 0s 7ms/step - loss: 9.6622 - mae: 9.6622\n",
            "Epoch 58/100\n",
            "2/2 [==============================] - 0s 7ms/step - loss: 8.9905 - mae: 8.9905\n",
            "Epoch 59/100\n",
            "2/2 [==============================] - 0s 7ms/step - loss: 10.1848 - mae: 10.1848\n",
            "Epoch 60/100\n",
            "2/2 [==============================] - 0s 7ms/step - loss: 8.4706 - mae: 8.4706\n",
            "Epoch 61/100\n",
            "2/2 [==============================] - 0s 6ms/step - loss: 9.3183 - mae: 9.3183\n",
            "Epoch 62/100\n",
            "2/2 [==============================] - 0s 7ms/step - loss: 7.1058 - mae: 7.1058\n",
            "Epoch 63/100\n",
            "2/2 [==============================] - 0s 12ms/step - loss: 8.6658 - mae: 8.6658\n",
            "Epoch 64/100\n",
            "2/2 [==============================] - 0s 6ms/step - loss: 9.2447 - mae: 9.2447\n",
            "Epoch 65/100\n",
            "2/2 [==============================] - 0s 7ms/step - loss: 10.4902 - mae: 10.4902\n",
            "Epoch 66/100\n",
            "2/2 [==============================] - 0s 6ms/step - loss: 15.6982 - mae: 15.6982\n",
            "Epoch 67/100\n",
            "2/2 [==============================] - 0s 6ms/step - loss: 10.0894 - mae: 10.0894\n",
            "Epoch 68/100\n",
            "2/2 [==============================] - 0s 7ms/step - loss: 9.0590 - mae: 9.0590\n",
            "Epoch 69/100\n",
            "2/2 [==============================] - 0s 6ms/step - loss: 12.5713 - mae: 12.5713\n",
            "Epoch 70/100\n",
            "2/2 [==============================] - 0s 7ms/step - loss: 8.9971 - mae: 8.9971\n",
            "Epoch 71/100\n",
            "2/2 [==============================] - 0s 8ms/step - loss: 9.9722 - mae: 9.9722\n",
            "Epoch 72/100\n",
            "2/2 [==============================] - 0s 7ms/step - loss: 10.0089 - mae: 10.0089\n",
            "Epoch 73/100\n",
            "2/2 [==============================] - 0s 7ms/step - loss: 12.4810 - mae: 12.4810\n",
            "Epoch 74/100\n",
            "2/2 [==============================] - 0s 7ms/step - loss: 10.5877 - mae: 10.5877\n",
            "Epoch 75/100\n",
            "2/2 [==============================] - 0s 7ms/step - loss: 9.6679 - mae: 9.6679\n",
            "Epoch 76/100\n",
            "2/2 [==============================] - 0s 6ms/step - loss: 11.1381 - mae: 11.1381\n",
            "Epoch 77/100\n",
            "2/2 [==============================] - 0s 6ms/step - loss: 8.3142 - mae: 8.3142\n",
            "Epoch 78/100\n",
            "2/2 [==============================] - 0s 6ms/step - loss: 9.0132 - mae: 9.0132\n",
            "Epoch 79/100\n",
            "2/2 [==============================] - 0s 10ms/step - loss: 19.7835 - mae: 19.7835\n",
            "Epoch 80/100\n",
            "2/2 [==============================] - 0s 8ms/step - loss: 17.8513 - mae: 17.8513\n",
            "Epoch 81/100\n",
            "2/2 [==============================] - 0s 8ms/step - loss: 7.1032 - mae: 7.1032\n",
            "Epoch 82/100\n",
            "2/2 [==============================] - 0s 8ms/step - loss: 10.4477 - mae: 10.4477\n",
            "Epoch 83/100\n",
            "2/2 [==============================] - 0s 6ms/step - loss: 9.8734 - mae: 9.8734\n",
            "Epoch 84/100\n",
            "2/2 [==============================] - 0s 7ms/step - loss: 7.9614 - mae: 7.9614\n",
            "Epoch 85/100\n",
            "2/2 [==============================] - 0s 7ms/step - loss: 9.4659 - mae: 9.4659\n",
            "Epoch 86/100\n",
            "2/2 [==============================] - 0s 7ms/step - loss: 9.2855 - mae: 9.2855\n",
            "Epoch 87/100\n",
            "2/2 [==============================] - 0s 7ms/step - loss: 12.0729 - mae: 12.0729\n",
            "Epoch 88/100\n",
            "2/2 [==============================] - 0s 7ms/step - loss: 10.6949 - mae: 10.6949\n",
            "Epoch 89/100\n",
            "2/2 [==============================] - 0s 7ms/step - loss: 7.2961 - mae: 7.2961\n",
            "Epoch 90/100\n",
            "2/2 [==============================] - 0s 7ms/step - loss: 12.8382 - mae: 12.8382\n",
            "Epoch 91/100\n",
            "2/2 [==============================] - 0s 7ms/step - loss: 7.5124 - mae: 7.5124\n",
            "Epoch 92/100\n",
            "2/2 [==============================] - 0s 7ms/step - loss: 6.7781 - mae: 6.7781\n",
            "Epoch 93/100\n",
            "2/2 [==============================] - 0s 7ms/step - loss: 11.9882 - mae: 11.9882\n",
            "Epoch 94/100\n",
            "2/2 [==============================] - 0s 8ms/step - loss: 8.9183 - mae: 8.9183\n",
            "Epoch 95/100\n",
            "2/2 [==============================] - 0s 9ms/step - loss: 7.7559 - mae: 7.7559\n",
            "Epoch 96/100\n",
            "2/2 [==============================] - 0s 7ms/step - loss: 6.7794 - mae: 6.7794\n",
            "Epoch 97/100\n",
            "2/2 [==============================] - 0s 8ms/step - loss: 8.6727 - mae: 8.6727\n",
            "Epoch 98/100\n",
            "2/2 [==============================] - 0s 8ms/step - loss: 9.4108 - mae: 9.4108\n",
            "Epoch 99/100\n",
            "2/2 [==============================] - 0s 7ms/step - loss: 9.1476 - mae: 9.1476\n",
            "Epoch 100/100\n",
            "2/2 [==============================] - 0s 7ms/step - loss: 10.5010 - mae: 10.5010\n"
          ]
        },
        {
          "output_type": "execute_result",
          "data": {
            "text/plain": [
              "<keras.callbacks.History at 0x7f3ef2fe0af0>"
            ]
          },
          "metadata": {},
          "execution_count": 39
        }
      ]
    },
    {
      "cell_type": "code",
      "source": [
        "# fazer um plot de predição para model_1\n",
        "y_pred_1 = model_1.predict(X_test)\n",
        "plot_predictions(predictions=y_pred_1)"
      ],
      "metadata": {
        "colab": {
          "base_uri": "https://localhost:8080/",
          "height": 654
        },
        "id": "xVi8aeBCfImf",
        "outputId": "1ccd6fa9-0120-436d-ea8e-fc93d69d4e40"
      },
      "execution_count": null,
      "outputs": [
        {
          "output_type": "stream",
          "name": "stderr",
          "text": [
            "WARNING:tensorflow:6 out of the last 6 calls to <function Model.make_predict_function.<locals>.predict_function at 0x7f3ef3127880> triggered tf.function retracing. Tracing is expensive and the excessive number of tracings could be due to (1) creating @tf.function repeatedly in a loop, (2) passing tensors with different shapes, (3) passing Python objects instead of tensors. For (1), please define your @tf.function outside of the loop. For (2), @tf.function has reduce_retracing=True option that can avoid unnecessary retracing. For (3), please refer to https://www.tensorflow.org/guide/function#controlling_retracing and https://www.tensorflow.org/api_docs/python/tf/function for  more details.\n"
          ]
        },
        {
          "output_type": "stream",
          "name": "stdout",
          "text": [
            "1/1 [==============================] - 0s 48ms/step\n"
          ]
        },
        {
          "output_type": "display_data",
          "data": {
            "text/plain": [
              "<Figure size 1000x700 with 1 Axes>"
            ],
            "image/png": "[encoded data removed]"
          },
          "metadata": {}
        }
      ]
    },
    {
      "cell_type": "code",
      "source": [
        "# Calculando modelo de avaliação de predição do model_1\n",
        "mae_1 = tf.keras.losses.mae(Y_test, tf.squeeze(y_pred_1))\n",
        "mse_1 = tf.keras.losses.mse(Y_test, tf.squeeze(y_pred_1))\n",
        "mae_1, mse_1"
      ],
      "metadata": {
        "colab": {
          "base_uri": "https://localhost:8080/"
        },
        "id": "265lQPsFfrjN",
        "outputId": "8ec8f288-2dbc-4892-c233-7f875b85c510"
      },
      "execution_count": null,
      "outputs": [
        {
          "output_type": "execute_result",
          "data": {
            "text/plain": [
              "(<tf.Tensor: shape=(), dtype=float32, numpy=15.024493>,\n",
              " <tf.Tensor: shape=(), dtype=float32, numpy=226.59265>)"
            ]
          },
          "metadata": {},
          "execution_count": 41
        }
      ]
    },
    {
      "cell_type": "code",
      "source": [
        "# model_2 - 2 layres/ epochs=100\n",
        "model_2 = tf.keras.Sequential([\n",
        "    tf.keras.layers.Dense(10),\n",
        "    tf.keras.layers.Dense(1)\n",
        "])\n",
        "\n",
        "model_2.compile(loss=tf.keras.losses.mae,\n",
        "              optimizer=tf.keras.optimizers.SGD(),\n",
        "              metrics=[\"mse\"])\n",
        "\n",
        "model_2.fit(tf.expand_dims(X_test, axis=-1), Y_test, epochs=100)"
      ],
      "metadata": {
        "colab": {
          "base_uri": "https://localhost:8080/"
        },
        "id": "g4-0F35Di6s7",
        "outputId": "9bcff3a1-35ec-429c-8979-2305b4395610"
      },
      "execution_count": null,
      "outputs": [
        {
          "output_type": "stream",
          "name": "stdout",
          "text": [
            "Epoch 1/100\n",
            "1/1 [==============================] - 1s 552ms/step - loss: 160.7452 - mse: 26332.0371\n",
            "Epoch 2/100\n",
            "1/1 [==============================] - 0s 11ms/step - loss: 104.5331 - mse: 11211.6299\n",
            "Epoch 3/100\n",
            "1/1 [==============================] - 0s 10ms/step - loss: 99.1498 - mse: 10003.1318\n",
            "Epoch 4/100\n",
            "1/1 [==============================] - 0s 10ms/step - loss: 58.4815 - mse: 3471.1082\n",
            "Epoch 5/100\n",
            "1/1 [==============================] - 0s 10ms/step - loss: 8.6577 - mse: 82.4881\n",
            "Epoch 6/100\n",
            "1/1 [==============================] - 0s 21ms/step - loss: 83.4672 - mse: 7083.9009\n",
            "Epoch 7/100\n",
            "1/1 [==============================] - 0s 10ms/step - loss: 73.1681 - mse: 5440.1968\n",
            "Epoch 8/100\n",
            "1/1 [==============================] - 0s 13ms/step - loss: 41.0134 - mse: 1703.0098\n",
            "Epoch 9/100\n",
            "1/1 [==============================] - 0s 10ms/step - loss: 60.8290 - mse: 3808.8608\n",
            "Epoch 10/100\n",
            "1/1 [==============================] - 0s 10ms/step - loss: 80.7729 - mse: 6633.0127\n",
            "Epoch 11/100\n",
            "1/1 [==============================] - 0s 12ms/step - loss: 65.1548 - mse: 4311.2354\n",
            "Epoch 12/100\n",
            "1/1 [==============================] - 0s 8ms/step - loss: 15.6887 - mse: 246.8501\n",
            "Epoch 13/100\n",
            "1/1 [==============================] - 0s 7ms/step - loss: 141.0292 - mse: 20383.5977\n",
            "Epoch 14/100\n",
            "1/1 [==============================] - 0s 13ms/step - loss: 76.8743 - mse: 6006.8335\n",
            "Epoch 15/100\n",
            "1/1 [==============================] - 0s 10ms/step - loss: 52.8454 - mse: 2832.5710\n",
            "Epoch 16/100\n",
            "1/1 [==============================] - 0s 8ms/step - loss: 23.2718 - mse: 565.4869\n",
            "Epoch 17/100\n",
            "1/1 [==============================] - 0s 9ms/step - loss: 82.5610 - mse: 6930.7290\n",
            "Epoch 18/100\n",
            "1/1 [==============================] - 0s 12ms/step - loss: 70.8858 - mse: 5105.4131\n",
            "Epoch 19/100\n",
            "1/1 [==============================] - 0s 10ms/step - loss: 33.9134 - mse: 1162.6106\n",
            "Epoch 20/100\n",
            "1/1 [==============================] - 0s 11ms/step - loss: 83.2167 - mse: 7113.1406\n",
            "Epoch 21/100\n",
            "1/1 [==============================] - 0s 11ms/step - loss: 79.6423 - mse: 6448.3574\n",
            "Epoch 22/100\n",
            "1/1 [==============================] - 0s 11ms/step - loss: 61.6810 - mse: 3862.6948\n",
            "Epoch 23/100\n",
            "1/1 [==============================] - 0s 16ms/step - loss: 4.7901 - mse: 23.5112\n",
            "Epoch 24/100\n",
            "1/1 [==============================] - 0s 11ms/step - loss: 175.4543 - mse: 31529.3496\n",
            "Epoch 25/100\n",
            "1/1 [==============================] - 0s 10ms/step - loss: 75.1616 - mse: 5741.6592\n",
            "Epoch 26/100\n",
            "1/1 [==============================] - 0s 12ms/step - loss: 47.5266 - mse: 2289.5103\n",
            "Epoch 27/100\n",
            "1/1 [==============================] - 0s 12ms/step - loss: 40.0165 - mse: 1655.3258\n",
            "Epoch 28/100\n",
            "1/1 [==============================] - 0s 12ms/step - loss: 81.7034 - mse: 6787.3330\n",
            "Epoch 29/100\n",
            "1/1 [==============================] - 0s 10ms/step - loss: 68.2770 - mse: 4735.7329\n",
            "Epoch 30/100\n",
            "1/1 [==============================] - 0s 13ms/step - loss: 25.7554 - mse: 668.8165\n",
            "Epoch 31/100\n",
            "1/1 [==============================] - 0s 8ms/step - loss: 108.9580 - mse: 12178.0762\n",
            "Epoch 32/100\n",
            "1/1 [==============================] - 0s 10ms/step - loss: 78.3496 - mse: 6240.3896\n",
            "Epoch 33/100\n",
            "1/1 [==============================] - 0s 10ms/step - loss: 57.6933 - mse: 3378.1492\n",
            "Epoch 34/100\n",
            "1/1 [==============================] - 0s 16ms/step - loss: 7.7372 - mse: 66.5724\n",
            "Epoch 35/100\n",
            "1/1 [==============================] - 0s 12ms/step - loss: 83.2363 - mse: 7045.0859\n",
            "Epoch 36/100\n",
            "1/1 [==============================] - 0s 11ms/step - loss: 73.1991 - mse: 5445.1758\n",
            "Epoch 37/100\n",
            "1/1 [==============================] - 0s 10ms/step - loss: 41.4168 - mse: 1736.9873\n",
            "Epoch 38/100\n",
            "1/1 [==============================] - 0s 11ms/step - loss: 59.2677 - mse: 3616.2234\n",
            "Epoch 39/100\n",
            "1/1 [==============================] - 0s 11ms/step - loss: 80.7246 - mse: 6625.4727\n",
            "Epoch 40/100\n",
            "1/1 [==============================] - 0s 11ms/step - loss: 65.2840 - mse: 4328.7139\n",
            "Epoch 41/100\n",
            "1/1 [==============================] - 0s 13ms/step - loss: 16.3801 - mse: 269.2415\n",
            "Epoch 42/100\n",
            "1/1 [==============================] - 0s 11ms/step - loss: 138.5565 - mse: 19675.3770\n",
            "Epoch 43/100\n",
            "1/1 [==============================] - 0s 10ms/step - loss: 76.8702 - mse: 6006.5674\n",
            "Epoch 44/100\n",
            "1/1 [==============================] - 0s 12ms/step - loss: 53.1143 - mse: 2861.8113\n",
            "Epoch 45/100\n",
            "1/1 [==============================] - 0s 12ms/step - loss: 22.1378 - mse: 512.2054\n",
            "Epoch 46/100\n",
            "1/1 [==============================] - 0s 11ms/step - loss: 82.4921 - mse: 6919.5562\n",
            "Epoch 47/100\n",
            "1/1 [==============================] - 0s 11ms/step - loss: 70.9496 - mse: 5114.9663\n",
            "Epoch 48/100\n",
            "1/1 [==============================] - 0s 13ms/step - loss: 34.3973 - mse: 1196.3123\n",
            "Epoch 49/100\n",
            "1/1 [==============================] - 0s 12ms/step - loss: 81.4016 - mse: 6806.5576\n",
            "Epoch 50/100\n",
            "1/1 [==============================] - 0s 12ms/step - loss: 79.6064 - mse: 6442.9243\n",
            "Epoch 51/100\n",
            "1/1 [==============================] - 0s 8ms/step - loss: 61.8492 - mse: 3884.1372\n",
            "Epoch 52/100\n",
            "1/1 [==============================] - 0s 12ms/step - loss: 5.6048 - mse: 31.7899\n",
            "Epoch 53/100\n",
            "1/1 [==============================] - 0s 14ms/step - loss: 172.5909 - mse: 30508.8848\n",
            "Epoch 54/100\n",
            "1/1 [==============================] - 0s 13ms/step - loss: 75.1764 - mse: 5744.2939\n",
            "Epoch 55/100\n",
            "1/1 [==============================] - 0s 9ms/step - loss: 47.8554 - mse: 2321.6270\n",
            "Epoch 56/100\n",
            "1/1 [==============================] - 0s 13ms/step - loss: 38.6927 - mse: 1548.0287\n",
            "Epoch 57/100\n",
            "1/1 [==============================] - 0s 11ms/step - loss: 81.6437 - mse: 6777.8032\n",
            "Epoch 58/100\n",
            "1/1 [==============================] - 0s 12ms/step - loss: 68.3698 - mse: 4748.9829\n",
            "Epoch 59/100\n",
            "1/1 [==============================] - 0s 12ms/step - loss: 26.3315 - mse: 699.3190\n",
            "Epoch 60/100\n",
            "1/1 [==============================] - 0s 11ms/step - loss: 106.8508 - mse: 11711.8965\n",
            "Epoch 61/100\n",
            "1/1 [==============================] - 0s 11ms/step - loss: 78.3278 - mse: 6237.2993\n",
            "Epoch 62/100\n",
            "1/1 [==============================] - 0s 12ms/step - loss: 57.9062 - mse: 3403.4758\n",
            "Epoch 63/100\n",
            "1/1 [==============================] - 0s 10ms/step - loss: 6.7806 - mse: 51.8819\n",
            "Epoch 64/100\n",
            "1/1 [==============================] - 0s 9ms/step - loss: 83.1588 - mse: 7032.3672\n",
            "Epoch 65/100\n",
            "1/1 [==============================] - 0s 10ms/step - loss: 73.2357 - mse: 5450.9849\n",
            "Epoch 66/100\n",
            "1/1 [==============================] - 0s 9ms/step - loss: 41.8146 - mse: 1770.8177\n",
            "Epoch 67/100\n",
            "1/1 [==============================] - 0s 9ms/step - loss: 57.7256 - mse: 3430.8562\n",
            "Epoch 68/100\n",
            "1/1 [==============================] - 0s 10ms/step - loss: 80.6755 - mse: 6617.7944\n",
            "Epoch 69/100\n",
            "1/1 [==============================] - 0s 12ms/step - loss: 65.4103 - mse: 4345.8369\n",
            "Epoch 70/100\n",
            "1/1 [==============================] - 0s 10ms/step - loss: 17.0622 - mse: 292.2974\n",
            "Epoch 71/100\n",
            "1/1 [==============================] - 0s 10ms/step - loss: 136.1133 - mse: 18987.8906\n",
            "Epoch 72/100\n",
            "1/1 [==============================] - 0s 10ms/step - loss: 76.8647 - mse: 6006.0811\n",
            "Epoch 73/100\n",
            "1/1 [==============================] - 0s 10ms/step - loss: 53.3787 - mse: 2890.7131\n",
            "Epoch 74/100\n",
            "1/1 [==============================] - 0s 11ms/step - loss: 21.0181 - mse: 462.1858\n",
            "Epoch 75/100\n",
            "1/1 [==============================] - 0s 9ms/step - loss: 82.4226 - mse: 6908.2783\n",
            "Epoch 76/100\n",
            "1/1 [==============================] - 0s 9ms/step - loss: 71.0111 - mse: 5124.2119\n",
            "Epoch 77/100\n",
            "1/1 [==============================] - 0s 8ms/step - loss: 34.8742 - mse: 1230.0055\n",
            "Epoch 78/100\n",
            "1/1 [==============================] - 0s 10ms/step - loss: 79.6085 - mse: 6510.3188\n",
            "Epoch 79/100\n",
            "1/1 [==============================] - 0s 10ms/step - loss: 79.5694 - mse: 6437.3208\n",
            "Epoch 80/100\n",
            "1/1 [==============================] - 0s 10ms/step - loss: 62.0139 - mse: 3905.2117\n",
            "Epoch 81/100\n",
            "1/1 [==============================] - 0s 10ms/step - loss: 6.4088 - mse: 41.2988\n",
            "Epoch 82/100\n",
            "1/1 [==============================] - 0s 9ms/step - loss: 169.7615 - mse: 29517.0117\n",
            "Epoch 83/100\n",
            "1/1 [==============================] - 0s 9ms/step - loss: 75.1895 - mse: 5746.6787\n",
            "Epoch 84/100\n",
            "1/1 [==============================] - 0s 9ms/step - loss: 48.1790 - mse: 2353.4575\n",
            "Epoch 85/100\n",
            "1/1 [==============================] - 0s 10ms/step - loss: 37.3855 - mse: 1445.5986\n",
            "Epoch 86/100\n",
            "1/1 [==============================] - 0s 12ms/step - loss: 81.5833 - mse: 6768.1494\n",
            "Epoch 87/100\n",
            "1/1 [==============================] - 0s 10ms/step - loss: 68.4601 - mse: 4761.8999\n",
            "Epoch 88/100\n",
            "1/1 [==============================] - 0s 15ms/step - loss: 26.8995 - mse: 730.0693\n",
            "Epoch 89/100\n",
            "1/1 [==============================] - 0s 12ms/step - loss: 104.7690 - mse: 11260.2607\n",
            "Epoch 90/100\n",
            "1/1 [==============================] - 0s 11ms/step - loss: 78.3048 - mse: 6234.0132\n",
            "Epoch 91/100\n",
            "1/1 [==============================] - 0s 11ms/step - loss: 58.1152 - mse: 3428.4363\n",
            "Epoch 92/100\n",
            "1/1 [==============================] - 0s 11ms/step - loss: 5.8365 - mse: 39.2252\n",
            "Epoch 93/100\n",
            "1/1 [==============================] - 0s 10ms/step - loss: 83.0808 - mse: 7019.5596\n",
            "Epoch 94/100\n",
            "1/1 [==============================] - 0s 10ms/step - loss: 73.2703 - mse: 5456.5146\n",
            "Epoch 95/100\n",
            "1/1 [==============================] - 0s 10ms/step - loss: 42.2062 - mse: 1804.4609\n",
            "Epoch 96/100\n",
            "1/1 [==============================] - 0s 12ms/step - loss: 56.2026 - mse: 3252.5610\n",
            "Epoch 97/100\n",
            "1/1 [==============================] - 0s 12ms/step - loss: 80.6255 - mse: 6609.9697\n",
            "Epoch 98/100\n",
            "1/1 [==============================] - 0s 9ms/step - loss: 65.5337 - mse: 4362.6064\n",
            "Epoch 99/100\n",
            "1/1 [==============================] - 0s 11ms/step - loss: 17.7350 - mse: 315.9814\n",
            "Epoch 100/100\n",
            "1/1 [==============================] - 0s 11ms/step - loss: 133.6994 - mse: 18320.6289\n"
          ]
        },
        {
          "output_type": "execute_result",
          "data": {
            "text/plain": [
              "<keras.callbacks.History at 0x7f3ef1e85cf0>"
            ]
          },
          "metadata": {},
          "execution_count": 42
        }
      ]
    },
    {
      "cell_type": "code",
      "source": [
        "y_pred_2 = model_2.predict(X_test)\n",
        "plot_predictions(predictions=y_pred_2)"
      ],
      "metadata": {
        "colab": {
          "base_uri": "https://localhost:8080/",
          "height": 616
        },
        "id": "ekjCogITkbuo",
        "outputId": "09ce59a9-20a8-4b24-8118-bcf4b8c4948c"
      },
      "execution_count": null,
      "outputs": [
        {
          "output_type": "stream",
          "name": "stdout",
          "text": [
            "1/1 [==============================] - 0s 82ms/step\n"
          ]
        },
        {
          "output_type": "display_data",
          "data": {
            "text/plain": [
              "<Figure size 1000x700 with 1 Axes>"
            ],
            "image/png": "[encoded data removed]"
          },
          "metadata": {}
        }
      ]
    },
    {
      "cell_type": "code",
      "source": [
        "mae_2 = tf.keras.losses.mae(Y_test, tf.squeeze(y_pred_2))\n",
        "mse_2 = tf.keras.losses.mse(Y_test, tf.squeeze(y_pred_2))\n",
        "mae_2, mse_2"
      ],
      "metadata": {
        "colab": {
          "base_uri": "https://localhost:8080/"
        },
        "id": "KCZ6MNr5lEsT",
        "outputId": "2c4ee0c3-0e46-4d44-b548-480f9361624f"
      },
      "execution_count": null,
      "outputs": [
        {
          "output_type": "execute_result",
          "data": {
            "text/plain": [
              "(<tf.Tensor: shape=(), dtype=float32, numpy=76.85777>,\n",
              " <tf.Tensor: shape=(), dtype=float32, numpy=6005.372>)"
            ]
          },
          "metadata": {},
          "execution_count": 44
        }
      ]
    },
    {
      "cell_type": "code",
      "source": [
        "# model_3 - 2 layers/ epochs=500\n",
        "model_3 = tf.keras.Sequential([\n",
        "    tf.keras.layers.Dense(50),\n",
        "    tf.keras.layers.Dense(1)\n",
        "])\n",
        "\n",
        "model_3.compile(loss=tf.keras.losses.mae,\n",
        "              optimizer=tf.keras.optimizers.SGD(),\n",
        "              metrics=[\"mse\"])\n",
        "\n",
        "model_3.fit(tf.expand_dims(X_test, axis=-1), Y_test, epochs=500)"
      ],
      "metadata": {
        "colab": {
          "base_uri": "https://localhost:8080/"
        },
        "id": "YgoNpR32m25v",
        "outputId": "b49873f5-549c-4c83-f46f-005aee42cc6d"
      },
      "execution_count": null,
      "outputs": [
        {
          "output_type": "stream",
          "name": "stdout",
          "text": [
            "Epoch 1/500\n",
            "1/1 [==============================] - 1s 847ms/step - loss: 111.8321 - mse: 12731.4102\n",
            "Epoch 2/500\n",
            "1/1 [==============================] - 0s 15ms/step - loss: 78.9087 - mse: 6397.9883\n",
            "Epoch 3/500\n",
            "1/1 [==============================] - 0s 11ms/step - loss: 91.6528 - mse: 8544.8926\n",
            "Epoch 4/500\n",
            "1/1 [==============================] - 0s 10ms/step - loss: 62.4091 - mse: 3954.5051\n",
            "Epoch 5/500\n",
            "1/1 [==============================] - 0s 10ms/step - loss: 5.1263 - mse: 26.7891\n",
            "Epoch 6/500\n",
            "1/1 [==============================] - 0s 10ms/step - loss: 174.6496 - mse: 31241.8184\n",
            "Epoch 7/500\n",
            "1/1 [==============================] - 0s 10ms/step - loss: 75.2808 - mse: 5759.7124\n",
            "Epoch 8/500\n",
            "1/1 [==============================] - 0s 10ms/step - loss: 47.7177 - mse: 2307.8911\n",
            "Epoch 9/500\n",
            "1/1 [==============================] - 0s 10ms/step - loss: 39.5852 - mse: 1620.2336\n",
            "Epoch 10/500\n",
            "1/1 [==============================] - 0s 10ms/step - loss: 81.8004 - mse: 6803.2490\n",
            "Epoch 11/500\n",
            "1/1 [==============================] - 0s 10ms/step - loss: 68.4109 - mse: 4754.1641\n",
            "Epoch 12/500\n",
            "1/1 [==============================] - 0s 10ms/step - loss: 26.0060 - mse: 681.9066\n",
            "Epoch 13/500\n",
            "1/1 [==============================] - 0s 11ms/step - loss: 108.3374 - mse: 12040.4424\n",
            "Epoch 14/500\n",
            "1/1 [==============================] - 0s 10ms/step - loss: 78.4557 - mse: 6257.1123\n",
            "Epoch 15/500\n",
            "1/1 [==============================] - 0s 10ms/step - loss: 57.8561 - mse: 3397.1399\n",
            "Epoch 16/500\n",
            "1/1 [==============================] - 0s 10ms/step - loss: 7.3947 - mse: 61.1901\n",
            "Epoch 17/500\n",
            "1/1 [==============================] - 0s 10ms/step - loss: 83.3290 - mse: 7060.5674\n",
            "Epoch 18/500\n",
            "1/1 [==============================] - 0s 10ms/step - loss: 73.3194 - mse: 5462.9048\n",
            "Epoch 19/500\n",
            "1/1 [==============================] - 0s 10ms/step - loss: 41.6244 - mse: 1754.3945\n",
            "Epoch 20/500\n",
            "1/1 [==============================] - 0s 11ms/step - loss: 58.7837 - mse: 3557.8718\n",
            "Epoch 21/500\n",
            "1/1 [==============================] - 0s 10ms/step - loss: 80.8242 - mse: 6641.6157\n",
            "Epoch 22/500\n",
            "1/1 [==============================] - 0s 10ms/step - loss: 65.4259 - mse: 4347.4155\n",
            "Epoch 23/500\n",
            "1/1 [==============================] - 0s 11ms/step - loss: 16.6563 - mse: 278.4247\n",
            "Epoch 24/500\n",
            "1/1 [==============================] - 0s 10ms/step - loss: 137.8546 - mse: 19477.3809\n",
            "Epoch 25/500\n",
            "1/1 [==============================] - 0s 9ms/step - loss: 76.9803 - mse: 6023.5918\n",
            "Epoch 26/500\n",
            "1/1 [==============================] - 0s 10ms/step - loss: 53.2896 - mse: 2880.6450\n",
            "Epoch 27/500\n",
            "1/1 [==============================] - 0s 10ms/step - loss: 21.7558 - mse: 495.0208\n",
            "Epoch 28/500\n",
            "1/1 [==============================] - 0s 11ms/step - loss: 82.5867 - mse: 6935.2202\n",
            "Epoch 29/500\n",
            "1/1 [==============================] - 0s 13ms/step - loss: 71.0759 - mse: 5133.0259\n",
            "Epoch 30/500\n",
            "1/1 [==============================] - 0s 12ms/step - loss: 34.6240 - mse: 1212.1150\n",
            "Epoch 31/500\n",
            "1/1 [==============================] - 0s 11ms/step - loss: 80.8568 - mse: 6716.3267\n",
            "Epoch 32/500\n",
            "1/1 [==============================] - 0s 9ms/step - loss: 79.7089 - mse: 6459.3193\n",
            "Epoch 33/500\n",
            "1/1 [==============================] - 0s 12ms/step - loss: 62.0004 - mse: 3903.0281\n",
            "Epoch 34/500\n",
            "1/1 [==============================] - 0s 11ms/step - loss: 5.9105 - mse: 35.2706\n",
            "Epoch 35/500\n",
            "1/1 [==============================] - 0s 10ms/step - loss: 171.7957 - mse: 30229.3906\n",
            "Epoch 36/500\n",
            "1/1 [==============================] - 0s 9ms/step - loss: 75.2909 - mse: 5761.6357\n",
            "Epoch 37/500\n",
            "1/1 [==============================] - 0s 13ms/step - loss: 48.0450 - mse: 2339.9927\n",
            "Epoch 38/500\n",
            "1/1 [==============================] - 0s 10ms/step - loss: 38.2654 - mse: 1514.4150\n",
            "Epoch 39/500\n",
            "1/1 [==============================] - 0s 13ms/step - loss: 81.7405 - mse: 6793.6719\n",
            "Epoch 40/500\n",
            "1/1 [==============================] - 0s 17ms/step - loss: 68.5031 - mse: 4767.3550\n",
            "Epoch 41/500\n",
            "1/1 [==============================] - 0s 12ms/step - loss: 26.5801 - mse: 712.5988\n",
            "Epoch 42/500\n",
            "1/1 [==============================] - 0s 9ms/step - loss: 106.2364 - mse: 11578.2666\n",
            "Epoch 43/500\n",
            "1/1 [==============================] - 0s 10ms/step - loss: 78.4336 - mse: 6253.9697\n",
            "Epoch 44/500\n",
            "1/1 [==============================] - 0s 9ms/step - loss: 58.0681 - mse: 3422.4253\n",
            "Epoch 45/500\n",
            "1/1 [==============================] - 0s 9ms/step - loss: 6.4411 - mse: 47.2080\n",
            "Epoch 46/500\n",
            "1/1 [==============================] - 0s 10ms/step - loss: 83.2514 - mse: 7047.8096\n",
            "Epoch 47/500\n",
            "1/1 [==============================] - 0s 9ms/step - loss: 73.3555 - mse: 5468.6543\n",
            "Epoch 48/500\n",
            "1/1 [==============================] - 0s 9ms/step - loss: 42.0206 - mse: 1788.2698\n",
            "Epoch 49/500\n",
            "1/1 [==============================] - 0s 10ms/step - loss: 57.2462 - mse: 3374.5676\n",
            "Epoch 50/500\n",
            "1/1 [==============================] - 0s 10ms/step - loss: 80.7748 - mse: 6633.8896\n",
            "Epoch 51/500\n",
            "1/1 [==============================] - 0s 10ms/step - loss: 65.5515 - mse: 4364.4810\n",
            "Epoch 52/500\n",
            "1/1 [==============================] - 0s 10ms/step - loss: 17.3362 - mse: 301.7858\n",
            "Epoch 53/500\n",
            "1/1 [==============================] - 0s 10ms/step - loss: 135.4186 - mse: 18795.3613\n",
            "Epoch 54/500\n",
            "1/1 [==============================] - 0s 10ms/step - loss: 76.9744 - mse: 6023.0493\n",
            "Epoch 55/500\n",
            "1/1 [==============================] - 0s 9ms/step - loss: 53.5529 - mse: 2909.5212\n",
            "Epoch 56/500\n",
            "1/1 [==============================] - 0s 9ms/step - loss: 20.6395 - mse: 446.0204\n",
            "Epoch 57/500\n",
            "1/1 [==============================] - 0s 10ms/step - loss: 82.5170 - mse: 6923.9009\n",
            "Epoch 58/500\n",
            "1/1 [==============================] - 0s 9ms/step - loss: 71.1369 - mse: 5142.2100\n",
            "Epoch 59/500\n",
            "1/1 [==============================] - 0s 9ms/step - loss: 35.0992 - mse: 1245.9093\n",
            "Epoch 60/500\n",
            "1/1 [==============================] - 0s 10ms/step - loss: 79.0690 - mse: 6422.9419\n",
            "Epoch 61/500\n",
            "1/1 [==============================] - 0s 11ms/step - loss: 79.6716 - mse: 6453.6665\n",
            "Epoch 62/500\n",
            "1/1 [==============================] - 0s 10ms/step - loss: 62.1643 - mse: 3924.0515\n",
            "Epoch 63/500\n",
            "1/1 [==============================] - 0s 9ms/step - loss: 6.7119 - mse: 45.2462\n",
            "Epoch 64/500\n",
            "1/1 [==============================] - 0s 9ms/step - loss: 168.9744 - mse: 29244.9023\n",
            "Epoch 65/500\n",
            "1/1 [==============================] - 0s 9ms/step - loss: 75.3037 - mse: 5763.9634\n",
            "Epoch 66/500\n",
            "1/1 [==============================] - 0s 9ms/step - loss: 48.3674 - mse: 2371.8257\n",
            "Epoch 67/500\n",
            "1/1 [==============================] - 0s 9ms/step - loss: 36.9621 - mse: 1413.4216\n",
            "Epoch 68/500\n",
            "1/1 [==============================] - 0s 11ms/step - loss: 81.6799 - mse: 6783.9741\n",
            "Epoch 69/500\n",
            "1/1 [==============================] - 0s 9ms/step - loss: 68.5928 - mse: 4780.2119\n",
            "Epoch 70/500\n",
            "1/1 [==============================] - 0s 9ms/step - loss: 27.1463 - mse: 743.5317\n",
            "Epoch 71/500\n",
            "1/1 [==============================] - 0s 10ms/step - loss: 104.1606 - mse: 11130.5293\n",
            "Epoch 72/500\n",
            "1/1 [==============================] - 0s 10ms/step - loss: 78.4103 - mse: 6250.6328\n",
            "Epoch 73/500\n",
            "1/1 [==============================] - 0s 12ms/step - loss: 58.2762 - mse: 3447.3450\n",
            "Epoch 74/500\n",
            "1/1 [==============================] - 0s 13ms/step - loss: 5.4998 - mse: 35.2387\n",
            "Epoch 75/500\n",
            "1/1 [==============================] - 0s 12ms/step - loss: 83.1732 - mse: 7034.9624\n",
            "Epoch 76/500\n",
            "1/1 [==============================] - 0s 14ms/step - loss: 73.3896 - mse: 5474.1260\n",
            "Epoch 77/500\n",
            "1/1 [==============================] - 0s 10ms/step - loss: 42.4109 - mse: 1821.9535\n",
            "Epoch 78/500\n",
            "1/1 [==============================] - 0s 10ms/step - loss: 55.7276 - mse: 3198.2795\n",
            "Epoch 79/500\n",
            "1/1 [==============================] - 0s 10ms/step - loss: 80.7246 - mse: 6626.0186\n",
            "Epoch 80/500\n",
            "1/1 [==============================] - 0s 11ms/step - loss: 65.6742 - mse: 4381.1924\n",
            "Epoch 81/500\n",
            "1/1 [==============================] - 0s 10ms/step - loss: 18.0068 - mse: 325.7650\n",
            "Epoch 82/500\n",
            "1/1 [==============================] - 0s 10ms/step - loss: 133.0116 - mse: 18133.4316\n",
            "Epoch 83/500\n",
            "1/1 [==============================] - 0s 12ms/step - loss: 76.9672 - mse: 6022.2861\n",
            "Epoch 84/500\n",
            "1/1 [==============================] - 0s 9ms/step - loss: 53.8118 - mse: 2938.0540\n",
            "Epoch 85/500\n",
            "1/1 [==============================] - 0s 10ms/step - loss: 19.5374 - mse: 400.1504\n",
            "Epoch 86/500\n",
            "1/1 [==============================] - 0s 14ms/step - loss: 82.4466 - mse: 6912.4751\n",
            "Epoch 87/500\n",
            "1/1 [==============================] - 0s 16ms/step - loss: 71.1957 - mse: 5151.0898\n",
            "Epoch 88/500\n",
            "1/1 [==============================] - 0s 12ms/step - loss: 35.5676 - mse: 1279.6744\n",
            "Epoch 89/500\n",
            "1/1 [==============================] - 0s 13ms/step - loss: 77.3029 - mse: 6139.5542\n",
            "Epoch 90/500\n",
            "1/1 [==============================] - 0s 13ms/step - loss: 79.6333 - mse: 6447.8457\n",
            "Epoch 91/500\n",
            "1/1 [==============================] - 0s 9ms/step - loss: 62.3250 - mse: 3944.7085\n",
            "Epoch 92/500\n",
            "1/1 [==============================] - 0s 10ms/step - loss: 7.5028 - mse: 56.3858\n",
            "Epoch 93/500\n",
            "1/1 [==============================] - 0s 13ms/step - loss: 166.1867 - mse: 28288.1211\n",
            "Epoch 94/500\n",
            "1/1 [==============================] - 0s 11ms/step - loss: 75.3148 - mse: 5766.0425\n",
            "Epoch 95/500\n",
            "1/1 [==============================] - 0s 12ms/step - loss: 48.6846 - mse: 2403.3667\n",
            "Epoch 96/500\n",
            "1/1 [==============================] - 0s 13ms/step - loss: 35.6750 - mse: 1317.1084\n",
            "Epoch 97/500\n",
            "1/1 [==============================] - 0s 12ms/step - loss: 81.6184 - mse: 6774.1533\n",
            "Epoch 98/500\n",
            "1/1 [==============================] - 0s 12ms/step - loss: 68.6799 - mse: 4792.7373\n",
            "Epoch 99/500\n",
            "1/1 [==============================] - 0s 12ms/step - loss: 27.7045 - mse: 774.6812\n",
            "Epoch 100/500\n",
            "1/1 [==============================] - 0s 12ms/step - loss: 102.1099 - mse: 10696.8691\n",
            "Epoch 101/500\n",
            "1/1 [==============================] - 0s 12ms/step - loss: 78.3858 - mse: 6247.1030\n",
            "Epoch 102/500\n",
            "1/1 [==============================] - 0s 10ms/step - loss: 58.4804 - mse: 3471.8977\n",
            "Epoch 103/500\n",
            "1/1 [==============================] - 0s 10ms/step - loss: 4.5708 - mse: 25.2098\n",
            "Epoch 104/500\n",
            "1/1 [==============================] - 0s 12ms/step - loss: 83.0944 - mse: 7022.0298\n",
            "Epoch 105/500\n",
            "1/1 [==============================] - 0s 12ms/step - loss: 73.4220 - mse: 5479.3203\n",
            "Epoch 106/500\n",
            "1/1 [==============================] - 0s 12ms/step - loss: 42.7952 - mse: 1855.4391\n",
            "Epoch 107/500\n",
            "1/1 [==============================] - 0s 11ms/step - loss: 54.2278 - mse: 3028.8040\n",
            "Epoch 108/500\n",
            "1/1 [==============================] - 0s 10ms/step - loss: 80.6734 - mse: 6618.0039\n",
            "Epoch 109/500\n",
            "1/1 [==============================] - 0s 13ms/step - loss: 65.7940 - mse: 4397.5498\n",
            "Epoch 110/500\n",
            "1/1 [==============================] - 0s 12ms/step - loss: 18.6683 - mse: 350.3273\n",
            "Epoch 111/500\n",
            "1/1 [==============================] - 0s 13ms/step - loss: 130.6336 - mse: 17491.0918\n",
            "Epoch 112/500\n",
            "1/1 [==============================] - 0s 12ms/step - loss: 76.9585 - mse: 6021.3042\n",
            "Epoch 113/500\n",
            "1/1 [==============================] - 0s 11ms/step - loss: 54.0662 - mse: 2966.2395\n",
            "Epoch 114/500\n",
            "1/1 [==============================] - 0s 12ms/step - loss: 18.4494 - mse: 357.3101\n",
            "Epoch 115/500\n",
            "1/1 [==============================] - 0s 14ms/step - loss: 82.3755 - mse: 6900.9453\n",
            "Epoch 116/500\n",
            "1/1 [==============================] - 0s 12ms/step - loss: 71.2524 - mse: 5159.6655\n",
            "Epoch 117/500\n",
            "1/1 [==============================] - 0s 12ms/step - loss: 36.0292 - mse: 1313.3945\n",
            "Epoch 118/500\n",
            "1/1 [==============================] - 0s 13ms/step - loss: 75.5585 - mse: 5865.9072\n",
            "Epoch 119/500\n",
            "1/1 [==============================] - 0s 12ms/step - loss: 79.5940 - mse: 6441.8594\n",
            "Epoch 120/500\n",
            "1/1 [==============================] - 0s 12ms/step - loss: 62.4823 - mse: 3965.0000\n",
            "Epoch 121/500\n",
            "1/1 [==============================] - 0s 16ms/step - loss: 8.2831 - mse: 68.6399\n",
            "Epoch 122/500\n",
            "1/1 [==============================] - 0s 12ms/step - loss: 163.4321 - mse: 27358.3555\n",
            "Epoch 123/500\n",
            "1/1 [==============================] - 0s 11ms/step - loss: 75.3244 - mse: 5767.8760\n",
            "Epoch 124/500\n",
            "1/1 [==============================] - 0s 13ms/step - loss: 48.9967 - mse: 2434.6091\n",
            "Epoch 125/500\n",
            "1/1 [==============================] - 0s 13ms/step - loss: 34.4041 - mse: 1225.3375\n",
            "Epoch 126/500\n",
            "1/1 [==============================] - 0s 13ms/step - loss: 81.5562 - mse: 6764.2095\n",
            "Epoch 127/500\n",
            "1/1 [==============================] - 0s 11ms/step - loss: 68.7647 - mse: 4804.9331\n",
            "Epoch 128/500\n",
            "1/1 [==============================] - 0s 11ms/step - loss: 28.2548 - mse: 806.0251\n",
            "Epoch 129/500\n",
            "1/1 [==============================] - 0s 12ms/step - loss: 100.0841 - mse: 10276.9160\n",
            "Epoch 130/500\n",
            "1/1 [==============================] - 0s 14ms/step - loss: 78.3601 - mse: 6243.3838\n",
            "Epoch 131/500\n",
            "1/1 [==============================] - 0s 14ms/step - loss: 58.6808 - mse: 3496.0845\n",
            "Epoch 132/500\n",
            "1/1 [==============================] - 0s 12ms/step - loss: 3.6537 - mse: 17.0507\n",
            "Epoch 133/500\n",
            "1/1 [==============================] - 0s 12ms/step - loss: 83.0151 - mse: 7009.0103\n",
            "Epoch 134/500\n",
            "1/1 [==============================] - 0s 12ms/step - loss: 73.4525 - mse: 5484.2427\n",
            "Epoch 135/500\n",
            "1/1 [==============================] - 0s 12ms/step - loss: 43.1737 - mse: 1888.7174\n",
            "Epoch 136/500\n",
            "1/1 [==============================] - 0s 13ms/step - loss: 52.7466 - mse: 2865.9507\n",
            "Epoch 137/500\n",
            "1/1 [==============================] - 0s 12ms/step - loss: 80.6213 - mse: 6609.8477\n",
            "Epoch 138/500\n",
            "1/1 [==============================] - 0s 11ms/step - loss: 65.9109 - mse: 4413.5586\n",
            "Epoch 139/500\n",
            "1/1 [==============================] - 0s 11ms/step - loss: 19.3209 - mse: 375.4403\n",
            "Epoch 140/500\n",
            "1/1 [==============================] - 0s 14ms/step - loss: 128.2841 - mse: 16867.8223\n",
            "Epoch 141/500\n",
            "1/1 [==============================] - 0s 13ms/step - loss: 76.9484 - mse: 6020.1079\n",
            "Epoch 142/500\n",
            "1/1 [==============================] - 0s 10ms/step - loss: 54.3162 - mse: 2994.0774\n",
            "Epoch 143/500\n",
            "1/1 [==============================] - 0s 13ms/step - loss: 17.3752 - mse: 317.3987\n",
            "Epoch 144/500\n",
            "1/1 [==============================] - 0s 12ms/step - loss: 82.3038 - mse: 6889.3149\n",
            "Epoch 145/500\n",
            "1/1 [==============================] - 0s 10ms/step - loss: 71.3070 - mse: 5167.9414\n",
            "Epoch 146/500\n",
            "1/1 [==============================] - 0s 9ms/step - loss: 36.4840 - mse: 1347.0579\n",
            "Epoch 147/500\n",
            "1/1 [==============================] - 0s 12ms/step - loss: 73.8353 - mse: 5601.7173\n",
            "Epoch 148/500\n",
            "1/1 [==============================] - 0s 11ms/step - loss: 79.5537 - mse: 6435.7090\n",
            "Epoch 149/500\n",
            "1/1 [==============================] - 0s 10ms/step - loss: 62.6363 - mse: 3984.9282\n",
            "Epoch 150/500\n",
            "1/1 [==============================] - 0s 12ms/step - loss: 9.0531 - mse: 81.9608\n",
            "Epoch 151/500\n",
            "1/1 [==============================] - 0s 10ms/step - loss: 160.7103 - mse: 26454.8867\n",
            "Epoch 152/500\n",
            "1/1 [==============================] - 0s 10ms/step - loss: 75.3323 - mse: 5769.4683\n",
            "Epoch 153/500\n",
            "1/1 [==============================] - 0s 10ms/step - loss: 49.3038 - mse: 2465.5515\n",
            "Epoch 154/500\n",
            "1/1 [==============================] - 0s 12ms/step - loss: 33.1491 - mse: 1137.9645\n",
            "Epoch 155/500\n",
            "1/1 [==============================] - 0s 9ms/step - loss: 81.4932 - mse: 6754.1470\n",
            "Epoch 156/500\n",
            "1/1 [==============================] - 0s 12ms/step - loss: 68.8470 - mse: 4816.8037\n",
            "Epoch 157/500\n",
            "1/1 [==============================] - 0s 12ms/step - loss: 28.7975 - mse: 837.5444\n",
            "Epoch 158/500\n",
            "1/1 [==============================] - 0s 10ms/step - loss: 98.0827 - mse: 9870.2793\n",
            "Epoch 159/500\n",
            "1/1 [==============================] - 0s 11ms/step - loss: 78.3332 - mse: 6239.4775\n",
            "Epoch 160/500\n",
            "1/1 [==============================] - 0s 13ms/step - loss: 58.8775 - mse: 3519.9070\n",
            "Epoch 161/500\n",
            "1/1 [==============================] - 0s 13ms/step - loss: 2.7539 - mse: 10.6924\n",
            "Epoch 162/500\n",
            "1/1 [==============================] - 0s 11ms/step - loss: 76.8838 - mse: 6010.2461\n",
            "Epoch 163/500\n",
            "1/1 [==============================] - 0s 10ms/step - loss: 54.3109 - mse: 2993.6750\n",
            "Epoch 164/500\n",
            "1/1 [==============================] - 0s 9ms/step - loss: 17.1924 - mse: 310.7618\n",
            "Epoch 165/500\n",
            "1/1 [==============================] - 0s 9ms/step - loss: 82.2251 - mse: 6876.4077\n",
            "Epoch 166/500\n",
            "1/1 [==============================] - 0s 10ms/step - loss: 71.2571 - mse: 5160.9434\n",
            "Epoch 167/500\n",
            "1/1 [==============================] - 0s 9ms/step - loss: 36.5255 - mse: 1350.2429\n",
            "Epoch 168/500\n",
            "1/1 [==============================] - 0s 10ms/step - loss: 73.5045 - mse: 5551.4390\n",
            "Epoch 169/500\n",
            "1/1 [==============================] - 0s 9ms/step - loss: 79.4821 - mse: 6424.3936\n",
            "Epoch 170/500\n",
            "1/1 [==============================] - 0s 9ms/step - loss: 62.6091 - mse: 3981.6753\n",
            "Epoch 171/500\n",
            "1/1 [==============================] - 0s 10ms/step - loss: 9.1665 - mse: 84.0253\n",
            "Epoch 172/500\n",
            "1/1 [==============================] - 0s 9ms/step - loss: 160.1515 - mse: 26270.7812\n",
            "Epoch 173/500\n",
            "1/1 [==============================] - 0s 12ms/step - loss: 75.2718 - mse: 5760.4453\n",
            "Epoch 174/500\n",
            "1/1 [==============================] - 0s 10ms/step - loss: 49.3116 - mse: 2466.4907\n",
            "Epoch 175/500\n",
            "1/1 [==============================] - 0s 9ms/step - loss: 32.9250 - mse: 1122.5758\n",
            "Epoch 176/500\n",
            "1/1 [==============================] - 0s 11ms/step - loss: 81.4165 - mse: 6741.6978\n",
            "Epoch 177/500\n",
            "1/1 [==============================] - 0s 11ms/step - loss: 68.8034 - mse: 4810.9351\n",
            "Epoch 178/500\n",
            "1/1 [==============================] - 0s 9ms/step - loss: 28.8590 - mse: 841.2217\n",
            "Epoch 179/500\n",
            "1/1 [==============================] - 0s 10ms/step - loss: 97.6882 - mse: 9790.7939\n",
            "Epoch 180/500\n",
            "1/1 [==============================] - 0s 10ms/step - loss: 78.2647 - mse: 6228.8262\n",
            "Epoch 181/500\n",
            "1/1 [==============================] - 0s 11ms/step - loss: 58.8601 - mse: 3518.0149\n",
            "Epoch 182/500\n",
            "1/1 [==============================] - 0s 11ms/step - loss: 2.6276 - mse: 9.7979\n",
            "Epoch 183/500\n",
            "1/1 [==============================] - 0s 11ms/step - loss: 76.8191 - mse: 6000.3818\n",
            "Epoch 184/500\n",
            "1/1 [==============================] - 0s 9ms/step - loss: 54.3054 - mse: 2993.2466\n",
            "Epoch 185/500\n",
            "1/1 [==============================] - 0s 11ms/step - loss: 17.0103 - mse: 304.2211\n",
            "Epoch 186/500\n",
            "1/1 [==============================] - 0s 9ms/step - loss: 82.1463 - mse: 6863.5063\n",
            "Epoch 187/500\n",
            "1/1 [==============================] - 0s 11ms/step - loss: 71.2071 - mse: 5153.9346\n",
            "Epoch 188/500\n",
            "1/1 [==============================] - 0s 7ms/step - loss: 36.5666 - mse: 1353.4058\n",
            "Epoch 189/500\n",
            "1/1 [==============================] - 0s 10ms/step - loss: 73.1747 - mse: 5501.5571\n",
            "Epoch 190/500\n",
            "1/1 [==============================] - 0s 10ms/step - loss: 79.4105 - mse: 6413.0796\n",
            "Epoch 191/500\n",
            "1/1 [==============================] - 0s 10ms/step - loss: 62.5817 - mse: 3978.3999\n",
            "Epoch 192/500\n",
            "1/1 [==============================] - 0s 11ms/step - loss: 9.2793 - mse: 86.1067\n",
            "Epoch 193/500\n",
            "1/1 [==============================] - 0s 11ms/step - loss: 159.5945 - mse: 26087.9258\n",
            "Epoch 194/500\n",
            "1/1 [==============================] - 0s 10ms/step - loss: 75.2112 - mse: 5751.4150\n",
            "Epoch 195/500\n",
            "1/1 [==============================] - 0s 12ms/step - loss: 49.3191 - mse: 2467.4006\n",
            "Epoch 196/500\n",
            "1/1 [==============================] - 0s 11ms/step - loss: 32.7018 - mse: 1107.3551\n",
            "Epoch 197/500\n",
            "1/1 [==============================] - 0s 13ms/step - loss: 81.3397 - mse: 6729.2539\n",
            "Epoch 198/500\n",
            "1/1 [==============================] - 0s 10ms/step - loss: 68.7597 - mse: 4805.0498\n",
            "Epoch 199/500\n",
            "1/1 [==============================] - 0s 12ms/step - loss: 28.9201 - mse: 844.8812\n",
            "Epoch 200/500\n",
            "1/1 [==============================] - 0s 12ms/step - loss: 97.2952 - mse: 9711.9238\n",
            "Epoch 201/500\n",
            "1/1 [==============================] - 0s 13ms/step - loss: 78.1962 - mse: 6218.1729\n",
            "Epoch 202/500\n",
            "1/1 [==============================] - 0s 12ms/step - loss: 58.8424 - mse: 3516.0962\n",
            "Epoch 203/500\n",
            "1/1 [==============================] - 0s 12ms/step - loss: 2.5019 - mse: 8.9513\n",
            "Epoch 204/500\n",
            "1/1 [==============================] - 0s 12ms/step - loss: 76.7543 - mse: 5990.5127\n",
            "Epoch 205/500\n",
            "1/1 [==============================] - 0s 9ms/step - loss: 54.2997 - mse: 2992.7896\n",
            "Epoch 206/500\n",
            "1/1 [==============================] - 0s 12ms/step - loss: 16.8291 - mse: 297.7792\n",
            "Epoch 207/500\n",
            "1/1 [==============================] - 0s 11ms/step - loss: 82.0675 - mse: 6850.6118\n",
            "Epoch 208/500\n",
            "1/1 [==============================] - 0s 9ms/step - loss: 71.1570 - mse: 5146.9126\n",
            "Epoch 209/500\n",
            "1/1 [==============================] - 0s 11ms/step - loss: 36.6073 - mse: 1356.5426\n",
            "Epoch 210/500\n",
            "1/1 [==============================] - 0s 10ms/step - loss: 72.8462 - mse: 5452.0942\n",
            "Epoch 211/500\n",
            "1/1 [==============================] - 0s 13ms/step - loss: 79.3389 - mse: 6401.7661\n",
            "Epoch 212/500\n",
            "1/1 [==============================] - 0s 13ms/step - loss: 62.5542 - mse: 3975.1021\n",
            "Epoch 213/500\n",
            "1/1 [==============================] - 0s 12ms/step - loss: 9.3915 - mse: 88.2037\n",
            "Epoch 214/500\n",
            "1/1 [==============================] - 0s 14ms/step - loss: 159.0394 - mse: 25906.3320\n",
            "Epoch 215/500\n",
            "1/1 [==============================] - 0s 11ms/step - loss: 75.1505 - mse: 5742.3789\n",
            "Epoch 216/500\n",
            "1/1 [==============================] - 0s 12ms/step - loss: 49.3262 - mse: 2468.2832\n",
            "Epoch 217/500\n",
            "1/1 [==============================] - 0s 11ms/step - loss: 32.4796 - mse: 1092.2982\n",
            "Epoch 218/500\n",
            "1/1 [==============================] - 0s 11ms/step - loss: 81.2629 - mse: 6716.8149\n",
            "Epoch 219/500\n",
            "1/1 [==============================] - 0s 12ms/step - loss: 68.7159 - mse: 4799.1499\n",
            "Epoch 220/500\n",
            "1/1 [==============================] - 0s 10ms/step - loss: 28.9807 - mse: 848.5240\n",
            "Epoch 221/500\n",
            "1/1 [==============================] - 0s 10ms/step - loss: 96.9036 - mse: 9633.6328\n",
            "Epoch 222/500\n",
            "1/1 [==============================] - 0s 11ms/step - loss: 78.1276 - mse: 6207.5190\n",
            "Epoch 223/500\n",
            "1/1 [==============================] - 0s 9ms/step - loss: 58.8245 - mse: 3514.1538\n",
            "Epoch 224/500\n",
            "1/1 [==============================] - 0s 11ms/step - loss: 2.3767 - mse: 8.1517\n",
            "Epoch 225/500\n",
            "1/1 [==============================] - 0s 11ms/step - loss: 76.6894 - mse: 5980.6396\n",
            "Epoch 226/500\n",
            "1/1 [==============================] - 0s 10ms/step - loss: 54.2937 - mse: 2992.3059\n",
            "Epoch 227/500\n",
            "1/1 [==============================] - 0s 9ms/step - loss: 16.6486 - mse: 291.4324\n",
            "Epoch 228/500\n",
            "1/1 [==============================] - 0s 14ms/step - loss: 81.9887 - mse: 6837.7227\n",
            "Epoch 229/500\n",
            "1/1 [==============================] - 0s 9ms/step - loss: 71.1068 - mse: 5139.8789\n",
            "Epoch 230/500\n",
            "1/1 [==============================] - 0s 10ms/step - loss: 36.6476 - mse: 1359.6558\n",
            "Epoch 231/500\n",
            "1/1 [==============================] - 0s 11ms/step - loss: 72.5189 - mse: 5403.0273\n",
            "Epoch 232/500\n",
            "1/1 [==============================] - 0s 13ms/step - loss: 79.2671 - mse: 6390.4541\n",
            "Epoch 233/500\n",
            "1/1 [==============================] - 0s 13ms/step - loss: 62.5265 - mse: 3971.7832\n",
            "Epoch 234/500\n",
            "1/1 [==============================] - 0s 12ms/step - loss: 9.5032 - mse: 90.3172\n",
            "Epoch 235/500\n",
            "1/1 [==============================] - 0s 11ms/step - loss: 158.4862 - mse: 25725.9492\n",
            "Epoch 236/500\n",
            "1/1 [==============================] - 0s 9ms/step - loss: 75.0897 - mse: 5733.3359\n",
            "Epoch 237/500\n",
            "1/1 [==============================] - 0s 10ms/step - loss: 49.3331 - mse: 2469.1370\n",
            "Epoch 238/500\n",
            "1/1 [==============================] - 0s 9ms/step - loss: 32.2582 - mse: 1077.4041\n",
            "Epoch 239/500\n",
            "1/1 [==============================] - 0s 11ms/step - loss: 81.1861 - mse: 6704.3799\n",
            "Epoch 240/500\n",
            "1/1 [==============================] - 0s 10ms/step - loss: 68.6719 - mse: 4793.2339\n",
            "Epoch 241/500\n",
            "1/1 [==============================] - 0s 10ms/step - loss: 29.0409 - mse: 852.1488\n",
            "Epoch 242/500\n",
            "1/1 [==============================] - 0s 10ms/step - loss: 96.5134 - mse: 9555.9434\n",
            "Epoch 243/500\n",
            "1/1 [==============================] - 0s 10ms/step - loss: 78.0589 - mse: 6196.8638\n",
            "Epoch 244/500\n",
            "1/1 [==============================] - 0s 10ms/step - loss: 58.8064 - mse: 3512.1870\n",
            "Epoch 245/500\n",
            "1/1 [==============================] - 0s 12ms/step - loss: 2.2521 - mse: 7.3986\n",
            "Epoch 246/500\n",
            "1/1 [==============================] - 0s 14ms/step - loss: 76.6245 - mse: 5970.7642\n",
            "Epoch 247/500\n",
            "1/1 [==============================] - 0s 12ms/step - loss: 54.2874 - mse: 2991.7961\n",
            "Epoch 248/500\n",
            "1/1 [==============================] - 0s 9ms/step - loss: 16.4689 - mse: 285.1803\n",
            "Epoch 249/500\n",
            "1/1 [==============================] - 0s 12ms/step - loss: 81.9099 - mse: 6824.8398\n",
            "Epoch 250/500\n",
            "1/1 [==============================] - 0s 8ms/step - loss: 71.0564 - mse: 5132.8330\n",
            "Epoch 251/500\n",
            "1/1 [==============================] - 0s 9ms/step - loss: 36.6876 - mse: 1362.7437\n",
            "Epoch 252/500\n",
            "1/1 [==============================] - 0s 10ms/step - loss: 72.1929 - mse: 5354.3633\n",
            "Epoch 253/500\n",
            "1/1 [==============================] - 0s 12ms/step - loss: 79.1954 - mse: 6379.1416\n",
            "Epoch 254/500\n",
            "1/1 [==============================] - 0s 9ms/step - loss: 62.4985 - mse: 3968.4421\n",
            "Epoch 255/500\n",
            "1/1 [==============================] - 0s 10ms/step - loss: 9.6142 - mse: 92.4456\n",
            "Epoch 256/500\n",
            "1/1 [==============================] - 0s 9ms/step - loss: 157.9348 - mse: 25546.8184\n",
            "Epoch 257/500\n",
            "1/1 [==============================] - 0s 8ms/step - loss: 75.0288 - mse: 5724.2861\n",
            "Epoch 258/500\n",
            "1/1 [==============================] - 0s 12ms/step - loss: 49.3397 - mse: 2469.9629\n",
            "Epoch 259/500\n",
            "1/1 [==============================] - 0s 11ms/step - loss: 32.0377 - mse: 1062.6729\n",
            "Epoch 260/500\n",
            "1/1 [==============================] - 0s 11ms/step - loss: 81.1092 - mse: 6691.9482\n",
            "Epoch 261/500\n",
            "1/1 [==============================] - 0s 17ms/step - loss: 68.6278 - mse: 4787.3022\n",
            "Epoch 262/500\n",
            "1/1 [==============================] - 0s 11ms/step - loss: 29.1006 - mse: 855.7557\n",
            "Epoch 263/500\n",
            "1/1 [==============================] - 0s 11ms/step - loss: 96.1245 - mse: 9478.8447\n",
            "Epoch 264/500\n",
            "1/1 [==============================] - 0s 10ms/step - loss: 77.9902 - mse: 6186.2070\n",
            "Epoch 265/500\n",
            "1/1 [==============================] - 0s 10ms/step - loss: 58.7881 - mse: 3510.1953\n",
            "Epoch 266/500\n",
            "1/1 [==============================] - 0s 11ms/step - loss: 2.1281 - mse: 6.6915\n",
            "Epoch 267/500\n",
            "1/1 [==============================] - 0s 11ms/step - loss: 76.5595 - mse: 5960.8838\n",
            "Epoch 268/500\n",
            "1/1 [==============================] - 0s 9ms/step - loss: 54.2809 - mse: 2991.2588\n",
            "Epoch 269/500\n",
            "1/1 [==============================] - 0s 10ms/step - loss: 16.2900 - mse: 279.0228\n",
            "Epoch 270/500\n",
            "1/1 [==============================] - 0s 10ms/step - loss: 81.8310 - mse: 6811.9634\n",
            "Epoch 271/500\n",
            "1/1 [==============================] - 0s 11ms/step - loss: 71.0059 - mse: 5125.7739\n",
            "Epoch 272/500\n",
            "1/1 [==============================] - 0s 11ms/step - loss: 36.7271 - mse: 1365.8082\n",
            "Epoch 273/500\n",
            "1/1 [==============================] - 0s 9ms/step - loss: 71.8680 - mse: 5306.0952\n",
            "Epoch 274/500\n",
            "1/1 [==============================] - 0s 9ms/step - loss: 79.1235 - mse: 6367.8315\n",
            "Epoch 275/500\n",
            "1/1 [==============================] - 0s 10ms/step - loss: 62.4704 - mse: 3965.0796\n",
            "Epoch 276/500\n",
            "1/1 [==============================] - 0s 10ms/step - loss: 9.7247 - mse: 94.5895\n",
            "Epoch 277/500\n",
            "1/1 [==============================] - 0s 10ms/step - loss: 157.3853 - mse: 25368.8945\n",
            "Epoch 278/500\n",
            "1/1 [==============================] - 0s 11ms/step - loss: 74.9679 - mse: 5715.2314\n",
            "Epoch 279/500\n",
            "1/1 [==============================] - 0s 10ms/step - loss: 49.3461 - mse: 2470.7617\n",
            "Epoch 280/500\n",
            "1/1 [==============================] - 0s 9ms/step - loss: 31.8181 - mse: 1048.0980\n",
            "Epoch 281/500\n",
            "1/1 [==============================] - 0s 8ms/step - loss: 81.0323 - mse: 6679.5234\n",
            "Epoch 282/500\n",
            "1/1 [==============================] - 0s 10ms/step - loss: 68.5836 - mse: 4781.3564\n",
            "Epoch 283/500\n",
            "1/1 [==============================] - 0s 9ms/step - loss: 29.1600 - mse: 859.3468\n",
            "Epoch 284/500\n",
            "1/1 [==============================] - 0s 9ms/step - loss: 95.7370 - mse: 9402.3096\n",
            "Epoch 285/500\n",
            "1/1 [==============================] - 0s 9ms/step - loss: 77.9213 - mse: 6175.5493\n",
            "Epoch 286/500\n",
            "1/1 [==============================] - 0s 8ms/step - loss: 58.7696 - mse: 3508.1802\n",
            "Epoch 287/500\n",
            "1/1 [==============================] - 0s 9ms/step - loss: 2.0070 - mse: 6.0295\n",
            "Epoch 288/500\n",
            "1/1 [==============================] - 0s 8ms/step - loss: 67.3268 - mse: 4607.3848\n",
            "Epoch 289/500\n",
            "1/1 [==============================] - 0s 9ms/step - loss: 25.2298 - mse: 642.4582\n",
            "Epoch 290/500\n",
            "1/1 [==============================] - 0s 9ms/step - loss: 108.1381 - mse: 11990.0039\n",
            "Epoch 291/500\n",
            "1/1 [==============================] - 0s 8ms/step - loss: 77.2986 - mse: 6077.1050\n",
            "Epoch 292/500\n",
            "1/1 [==============================] - 0s 9ms/step - loss: 56.8486 - mse: 3282.0300\n",
            "Epoch 293/500\n",
            "1/1 [==============================] - 0s 9ms/step - loss: 7.9284 - mse: 68.8566\n",
            "Epoch 294/500\n",
            "1/1 [==============================] - 0s 9ms/step - loss: 82.1365 - mse: 6863.3564\n",
            "Epoch 295/500\n",
            "1/1 [==============================] - 0s 9ms/step - loss: 72.1995 - mse: 5300.2334\n",
            "Epoch 296/500\n",
            "1/1 [==============================] - 0s 10ms/step - loss: 40.7345 - mse: 1681.5791\n",
            "Epoch 297/500\n",
            "1/1 [==============================] - 0s 10ms/step - loss: 58.9444 - mse: 3573.6343\n",
            "Epoch 298/500\n",
            "1/1 [==============================] - 0s 9ms/step - loss: 79.6497 - mse: 6453.3042\n",
            "Epoch 299/500\n",
            "1/1 [==============================] - 0s 9ms/step - loss: 64.3632 - mse: 4209.8838\n",
            "Epoch 300/500\n",
            "1/1 [==============================] - 0s 9ms/step - loss: 15.9477 - mse: 255.4780\n",
            "Epoch 301/500\n",
            "1/1 [==============================] - 0s 9ms/step - loss: 137.4414 - mse: 19353.1289\n",
            "Epoch 302/500\n",
            "1/1 [==============================] - 0s 9ms/step - loss: 75.8336 - mse: 5848.5938\n",
            "Epoch 303/500\n",
            "1/1 [==============================] - 0s 8ms/step - loss: 52.3149 - mse: 2778.1863\n",
            "Epoch 304/500\n",
            "1/1 [==============================] - 0s 9ms/step - loss: 22.1857 - mse: 512.8256\n",
            "Epoch 305/500\n",
            "1/1 [==============================] - 0s 14ms/step - loss: 81.3992 - mse: 6740.6143\n",
            "Epoch 306/500\n",
            "1/1 [==============================] - 0s 12ms/step - loss: 69.9719 - mse: 4977.6406\n",
            "Epoch 307/500\n",
            "1/1 [==============================] - 0s 9ms/step - loss: 33.7846 - mse: 1155.1174\n",
            "Epoch 308/500\n",
            "1/1 [==============================] - 0s 9ms/step - loss: 80.8577 - mse: 6711.6616\n",
            "Epoch 309/500\n",
            "1/1 [==============================] - 0s 10ms/step - loss: 78.5421 - mse: 6274.8652\n",
            "Epoch 310/500\n",
            "1/1 [==============================] - 0s 8ms/step - loss: 60.9622 - mse: 3775.7964\n",
            "Epoch 311/500\n",
            "1/1 [==============================] - 0s 9ms/step - loss: 5.2795 - mse: 28.1152\n",
            "Epoch 312/500\n",
            "1/1 [==============================] - 0s 9ms/step - loss: 171.1364 - mse: 29988.4473\n",
            "Epoch 313/500\n",
            "1/1 [==============================] - 0s 9ms/step - loss: 74.1561 - mse: 5592.3062\n",
            "Epoch 314/500\n",
            "1/1 [==============================] - 0s 10ms/step - loss: 47.1080 - mse: 2251.3169\n",
            "Epoch 315/500\n",
            "1/1 [==============================] - 0s 10ms/step - loss: 38.5758 - mse: 1536.3615\n",
            "Epoch 316/500\n",
            "1/1 [==============================] - 0s 9ms/step - loss: 80.5588 - mse: 6602.0234\n",
            "Epoch 317/500\n",
            "1/1 [==============================] - 0s 10ms/step - loss: 67.4174 - mse: 4620.1543\n",
            "Epoch 318/500\n",
            "1/1 [==============================] - 0s 12ms/step - loss: 25.7988 - mse: 672.0048\n",
            "Epoch 319/500\n",
            "1/1 [==============================] - 0s 9ms/step - loss: 106.0533 - mse: 11532.3252\n",
            "Epoch 320/500\n",
            "1/1 [==============================] - 0s 9ms/step - loss: 77.2758 - mse: 6073.8896\n",
            "Epoch 321/500\n",
            "1/1 [==============================] - 0s 13ms/step - loss: 57.0581 - mse: 3306.6023\n",
            "Epoch 322/500\n",
            "1/1 [==============================] - 0s 9ms/step - loss: 6.9828 - mse: 54.0046\n",
            "Epoch 323/500\n",
            "1/1 [==============================] - 0s 9ms/step - loss: 82.0585 - mse: 6850.7202\n",
            "Epoch 324/500\n",
            "1/1 [==============================] - 0s 8ms/step - loss: 72.2344 - mse: 5305.7256\n",
            "Epoch 325/500\n",
            "1/1 [==============================] - 0s 8ms/step - loss: 41.1270 - mse: 1714.4355\n",
            "Epoch 326/500\n",
            "1/1 [==============================] - 0s 9ms/step - loss: 57.4191 - mse: 3391.3423\n",
            "Epoch 327/500\n",
            "1/1 [==============================] - 0s 9ms/step - loss: 79.5998 - mse: 6445.6006\n",
            "Epoch 328/500\n",
            "1/1 [==============================] - 0s 8ms/step - loss: 64.4869 - mse: 4226.4390\n",
            "Epoch 329/500\n",
            "1/1 [==============================] - 0s 8ms/step - loss: 16.6216 - mse: 277.6960\n",
            "Epoch 330/500\n",
            "1/1 [==============================] - 0s 9ms/step - loss: 135.0240 - mse: 18678.4629\n",
            "Epoch 331/500\n",
            "1/1 [==============================] - 0s 10ms/step - loss: 75.8268 - mse: 5847.9263\n",
            "Epoch 332/500\n",
            "1/1 [==============================] - 0s 10ms/step - loss: 52.5753 - mse: 2806.2476\n",
            "Epoch 333/500\n",
            "1/1 [==============================] - 0s 9ms/step - loss: 21.0785 - mse: 463.3024\n",
            "Epoch 334/500\n",
            "1/1 [==============================] - 0s 9ms/step - loss: 81.3291 - mse: 6729.3857\n",
            "Epoch 335/500\n",
            "1/1 [==============================] - 0s 10ms/step - loss: 70.0315 - mse: 4986.4937\n",
            "Epoch 336/500\n",
            "1/1 [==============================] - 0s 9ms/step - loss: 34.2555 - mse: 1187.8177\n",
            "Epoch 337/500\n",
            "1/1 [==============================] - 0s 9ms/step - loss: 79.0838 - mse: 6420.6304\n",
            "Epoch 338/500\n",
            "1/1 [==============================] - 0s 10ms/step - loss: 78.5042 - mse: 6269.1924\n",
            "Epoch 339/500\n",
            "1/1 [==============================] - 0s 10ms/step - loss: 61.1240 - mse: 3796.2156\n",
            "Epoch 340/500\n",
            "1/1 [==============================] - 0s 9ms/step - loss: 6.0742 - mse: 37.0219\n",
            "Epoch 341/500\n",
            "1/1 [==============================] - 0s 9ms/step - loss: 168.3365 - mse: 29015.3164\n",
            "Epoch 342/500\n",
            "1/1 [==============================] - 0s 9ms/step - loss: 74.1679 - mse: 5594.4482\n",
            "Epoch 343/500\n",
            "1/1 [==============================] - 0s 8ms/step - loss: 47.4271 - mse: 2282.2336\n",
            "Epoch 344/500\n",
            "1/1 [==============================] - 0s 9ms/step - loss: 37.2829 - mse: 1435.4149\n",
            "Epoch 345/500\n",
            "1/1 [==============================] - 0s 9ms/step - loss: 80.4977 - mse: 6592.3857\n",
            "Epoch 346/500\n",
            "1/1 [==============================] - 0s 8ms/step - loss: 67.5055 - mse: 4632.5981\n",
            "Epoch 347/500\n",
            "1/1 [==============================] - 0s 9ms/step - loss: 26.3599 - mse: 701.7957\n",
            "Epoch 348/500\n",
            "1/1 [==============================] - 0s 9ms/step - loss: 103.9936 - mse: 11088.9004\n",
            "Epoch 349/500\n",
            "1/1 [==============================] - 0s 8ms/step - loss: 77.2517 - mse: 6070.4854\n",
            "Epoch 350/500\n",
            "1/1 [==============================] - 0s 8ms/step - loss: 57.2637 - mse: 3330.8184\n",
            "Epoch 351/500\n",
            "1/1 [==============================] - 0s 9ms/step - loss: 6.0493 - mse: 41.1465\n",
            "Epoch 352/500\n",
            "1/1 [==============================] - 0s 9ms/step - loss: 81.9799 - mse: 6837.9985\n",
            "Epoch 353/500\n",
            "1/1 [==============================] - 0s 8ms/step - loss: 72.2673 - mse: 5310.9453\n",
            "Epoch 354/500\n",
            "1/1 [==============================] - 0s 9ms/step - loss: 41.5135 - mse: 1747.1106\n",
            "Epoch 355/500\n",
            "1/1 [==============================] - 0s 9ms/step - loss: 55.9125 - mse: 3215.9773\n",
            "Epoch 356/500\n",
            "1/1 [==============================] - 0s 9ms/step - loss: 79.5489 - mse: 6437.7539\n",
            "Epoch 357/500\n",
            "1/1 [==============================] - 0s 9ms/step - loss: 64.6078 - mse: 4242.6489\n",
            "Epoch 358/500\n",
            "1/1 [==============================] - 0s 8ms/step - loss: 17.2864 - mse: 300.5309\n",
            "Epoch 359/500\n",
            "1/1 [==============================] - 0s 9ms/step - loss: 132.6355 - mse: 18023.6211\n",
            "Epoch 360/500\n",
            "1/1 [==============================] - 0s 9ms/step - loss: 75.8187 - mse: 5847.0420\n",
            "Epoch 361/500\n",
            "1/1 [==============================] - 0s 8ms/step - loss: 52.8313 - mse: 2833.9734\n",
            "Epoch 362/500\n",
            "1/1 [==============================] - 0s 8ms/step - loss: 19.9854 - mse: 416.8769\n",
            "Epoch 363/500\n",
            "1/1 [==============================] - 0s 9ms/step - loss: 81.2582 - mse: 6718.0562\n",
            "Epoch 364/500\n",
            "1/1 [==============================] - 0s 10ms/step - loss: 70.0890 - mse: 4995.0483\n",
            "Epoch 365/500\n",
            "1/1 [==============================] - 0s 9ms/step - loss: 34.7195 - mse: 1220.4957\n",
            "Epoch 366/500\n",
            "1/1 [==============================] - 0s 8ms/step - loss: 77.3315 - mse: 6139.4741\n",
            "Epoch 367/500\n",
            "1/1 [==============================] - 0s 9ms/step - loss: 78.4653 - mse: 6263.3545\n",
            "Epoch 368/500\n",
            "1/1 [==============================] - 0s 8ms/step - loss: 61.2825 - mse: 3816.2773\n",
            "Epoch 369/500\n",
            "1/1 [==============================] - 0s 9ms/step - loss: 6.8583 - mse: 47.0853\n",
            "Epoch 370/500\n",
            "1/1 [==============================] - 0s 12ms/step - loss: 165.5699 - mse: 28069.4941\n",
            "Epoch 371/500\n",
            "1/1 [==============================] - 0s 8ms/step - loss: 74.1780 - mse: 5596.3477\n",
            "Epoch 372/500\n",
            "1/1 [==============================] - 0s 9ms/step - loss: 47.7410 - mse: 2312.8677\n",
            "Epoch 373/500\n",
            "1/1 [==============================] - 0s 9ms/step - loss: 36.0061 - mse: 1339.0930\n",
            "Epoch 374/500\n",
            "1/1 [==============================] - 0s 9ms/step - loss: 80.4357 - mse: 6582.6279\n",
            "Epoch 375/500\n",
            "1/1 [==============================] - 0s 9ms/step - loss: 67.5911 - mse: 4644.7178\n",
            "Epoch 376/500\n",
            "1/1 [==============================] - 0s 10ms/step - loss: 26.9131 - mse: 731.8076\n",
            "Epoch 377/500\n",
            "1/1 [==============================] - 0s 9ms/step - loss: 101.9587 - mse: 10659.3564\n",
            "Epoch 378/500\n",
            "1/1 [==============================] - 0s 9ms/step - loss: 77.2264 - mse: 6066.8921\n",
            "Epoch 379/500\n",
            "1/1 [==============================] - 0s 9ms/step - loss: 57.4655 - mse: 3354.6770\n",
            "Epoch 380/500\n",
            "1/1 [==============================] - 0s 9ms/step - loss: 5.1279 - mse: 30.2112\n",
            "Epoch 381/500\n",
            "1/1 [==============================] - 0s 9ms/step - loss: 81.9008 - mse: 6825.1904\n",
            "Epoch 382/500\n",
            "1/1 [==============================] - 0s 9ms/step - loss: 72.2985 - mse: 5315.8955\n",
            "Epoch 383/500\n",
            "1/1 [==============================] - 0s 9ms/step - loss: 41.8941 - mse: 1779.5961\n",
            "Epoch 384/500\n",
            "1/1 [==============================] - 0s 9ms/step - loss: 54.4245 - mse: 3047.3381\n",
            "Epoch 385/500\n",
            "1/1 [==============================] - 0s 9ms/step - loss: 79.4972 - mse: 6429.7676\n",
            "Epoch 386/500\n",
            "1/1 [==============================] - 0s 11ms/step - loss: 64.7258 - mse: 4258.5146\n",
            "Epoch 387/500\n",
            "1/1 [==============================] - 0s 13ms/step - loss: 17.9422 - mse: 323.9498\n",
            "Epoch 388/500\n",
            "1/1 [==============================] - 0s 12ms/step - loss: 130.2756 - mse: 17388.0801\n",
            "Epoch 389/500\n",
            "1/1 [==============================] - 0s 9ms/step - loss: 75.8091 - mse: 5845.9448\n",
            "Epoch 390/500\n",
            "1/1 [==============================] - 0s 12ms/step - loss: 53.0830 - mse: 2861.3645\n",
            "Epoch 391/500\n",
            "1/1 [==============================] - 0s 10ms/step - loss: 18.9061 - mse: 373.4463\n",
            "Epoch 392/500\n",
            "1/1 [==============================] - 0s 12ms/step - loss: 81.1867 - mse: 6706.6260\n",
            "Epoch 393/500\n",
            "1/1 [==============================] - 0s 9ms/step - loss: 70.1443 - mse: 5003.3057\n",
            "Epoch 394/500\n",
            "1/1 [==============================] - 0s 10ms/step - loss: 35.1768 - mse: 1253.1364\n",
            "Epoch 395/500\n",
            "1/1 [==============================] - 0s 10ms/step - loss: 75.6007 - mse: 5867.9248\n",
            "Epoch 396/500\n",
            "1/1 [==============================] - 0s 13ms/step - loss: 78.4253 - mse: 6257.3545\n",
            "Epoch 397/500\n",
            "1/1 [==============================] - 0s 10ms/step - loss: 61.4377 - mse: 3835.9829\n",
            "Epoch 398/500\n",
            "1/1 [==============================] - 0s 10ms/step - loss: 7.6321 - mse: 58.2561\n",
            "Epoch 399/500\n",
            "1/1 [==============================] - 0s 11ms/step - loss: 162.8363 - mse: 27150.3223\n",
            "Epoch 400/500\n",
            "1/1 [==============================] - 0s 10ms/step - loss: 74.1865 - mse: 5598.0078\n",
            "Epoch 401/500\n",
            "1/1 [==============================] - 0s 12ms/step - loss: 48.0500 - mse: 2343.2144\n",
            "Epoch 402/500\n",
            "1/1 [==============================] - 0s 17ms/step - loss: 34.7453 - mse: 1247.2576\n",
            "Epoch 403/500\n",
            "1/1 [==============================] - 0s 11ms/step - loss: 80.3730 - mse: 6572.7524\n",
            "Epoch 404/500\n",
            "1/1 [==============================] - 0s 12ms/step - loss: 67.6743 - mse: 4656.5166\n",
            "Epoch 405/500\n",
            "1/1 [==============================] - 0s 12ms/step - loss: 27.4586 - mse: 762.0187\n",
            "Epoch 406/500\n",
            "1/1 [==============================] - 0s 14ms/step - loss: 99.9485 - mse: 10243.3398\n",
            "Epoch 407/500\n",
            "1/1 [==============================] - 0s 13ms/step - loss: 77.2000 - mse: 6063.1143\n",
            "Epoch 408/500\n",
            "1/1 [==============================] - 0s 9ms/step - loss: 57.6635 - mse: 3378.1790\n",
            "Epoch 409/500\n",
            "1/1 [==============================] - 0s 13ms/step - loss: 4.2185 - mse: 21.1290\n",
            "Epoch 410/500\n",
            "1/1 [==============================] - 0s 14ms/step - loss: 81.8211 - mse: 6812.2983\n",
            "Epoch 411/500\n",
            "1/1 [==============================] - 0s 12ms/step - loss: 72.3278 - mse: 5320.5776\n",
            "Epoch 412/500\n",
            "1/1 [==============================] - 0s 13ms/step - loss: 42.2689 - mse: 1811.8824\n",
            "Epoch 413/500\n",
            "1/1 [==============================] - 0s 11ms/step - loss: 52.9550 - mse: 2885.2432\n",
            "Epoch 414/500\n",
            "1/1 [==============================] - 0s 17ms/step - loss: 79.4446 - mse: 6421.6421\n",
            "Epoch 415/500\n",
            "1/1 [==============================] - 0s 13ms/step - loss: 64.8409 - mse: 4274.0386\n",
            "Epoch 416/500\n",
            "1/1 [==============================] - 0s 12ms/step - loss: 18.5891 - mse: 347.9187\n",
            "Epoch 417/500\n",
            "1/1 [==============================] - 0s 10ms/step - loss: 127.9441 - mse: 16771.3672\n",
            "Epoch 418/500\n",
            "1/1 [==============================] - 0s 11ms/step - loss: 75.7982 - mse: 5844.6367\n",
            "Epoch 419/500\n",
            "1/1 [==============================] - 0s 11ms/step - loss: 53.3302 - mse: 2888.4146\n",
            "Epoch 420/500\n",
            "1/1 [==============================] - 0s 12ms/step - loss: 17.8406 - mse: 332.9160\n",
            "Epoch 421/500\n",
            "1/1 [==============================] - 0s 12ms/step - loss: 81.1146 - mse: 6695.0952\n",
            "Epoch 422/500\n",
            "1/1 [==============================] - 0s 10ms/step - loss: 70.1976 - mse: 5011.2695\n",
            "Epoch 423/500\n",
            "1/1 [==============================] - 0s 10ms/step - loss: 35.6274 - mse: 1285.7261\n",
            "Epoch 424/500\n",
            "1/1 [==============================] - 0s 10ms/step - loss: 73.8910 - mse: 5605.7236\n",
            "Epoch 425/500\n",
            "1/1 [==============================] - 0s 11ms/step - loss: 78.3843 - mse: 6251.1943\n",
            "Epoch 426/500\n",
            "1/1 [==============================] - 0s 10ms/step - loss: 61.5897 - mse: 3855.3325\n",
            "Epoch 427/500\n",
            "1/1 [==============================] - 0s 11ms/step - loss: 8.3955 - mse: 70.4869\n",
            "Epoch 428/500\n",
            "1/1 [==============================] - 0s 11ms/step - loss: 160.1353 - mse: 26257.1250\n",
            "Epoch 429/500\n",
            "1/1 [==============================] - 0s 11ms/step - loss: 74.1935 - mse: 5599.4307\n",
            "Epoch 430/500\n",
            "1/1 [==============================] - 0s 10ms/step - loss: 48.3539 - mse: 2373.2678\n",
            "Epoch 431/500\n",
            "1/1 [==============================] - 0s 10ms/step - loss: 33.5004 - mse: 1159.7739\n",
            "Epoch 432/500\n",
            "1/1 [==============================] - 0s 10ms/step - loss: 80.3095 - mse: 6562.7588\n",
            "Epoch 433/500\n",
            "1/1 [==============================] - 0s 11ms/step - loss: 67.7550 - mse: 4667.9961\n",
            "Epoch 434/500\n",
            "1/1 [==============================] - 0s 11ms/step - loss: 27.9963 - mse: 792.4084\n",
            "Epoch 435/500\n",
            "1/1 [==============================] - 0s 10ms/step - loss: 97.9626 - mse: 9840.4785\n",
            "Epoch 436/500\n",
            "1/1 [==============================] - 0s 10ms/step - loss: 77.1723 - mse: 6059.1523\n",
            "Epoch 437/500\n",
            "1/1 [==============================] - 0s 11ms/step - loss: 57.8578 - mse: 3401.3242\n",
            "Epoch 438/500\n",
            "1/1 [==============================] - 0s 10ms/step - loss: 3.3209 - mse: 13.8318\n",
            "Epoch 439/500\n",
            "1/1 [==============================] - 0s 10ms/step - loss: 81.7408 - mse: 6799.3252\n",
            "Epoch 440/500\n",
            "1/1 [==============================] - 0s 9ms/step - loss: 72.3553 - mse: 5324.9961\n",
            "Epoch 441/500\n",
            "1/1 [==============================] - 0s 10ms/step - loss: 42.6380 - mse: 1843.9629\n",
            "Epoch 442/500\n",
            "1/1 [==============================] - 0s 11ms/step - loss: 51.5036 - mse: 2729.4966\n",
            "Epoch 443/500\n",
            "1/1 [==============================] - 0s 10ms/step - loss: 79.3911 - mse: 6413.3799\n",
            "Epoch 444/500\n",
            "1/1 [==============================] - 0s 10ms/step - loss: 64.9533 - mse: 4289.2222\n",
            "Epoch 445/500\n",
            "1/1 [==============================] - 0s 10ms/step - loss: 19.2271 - mse: 372.4063\n",
            "Epoch 446/500\n",
            "1/1 [==============================] - 0s 11ms/step - loss: 125.6406 - mse: 16172.9902\n",
            "Epoch 447/500\n",
            "1/1 [==============================] - 0s 9ms/step - loss: 75.7859 - mse: 5843.1201\n",
            "Epoch 448/500\n",
            "1/1 [==============================] - 0s 11ms/step - loss: 53.5732 - mse: 2915.1257\n",
            "Epoch 449/500\n",
            "1/1 [==============================] - 0s 10ms/step - loss: 16.7887 - mse: 295.1889\n",
            "Epoch 450/500\n",
            "1/1 [==============================] - 0s 10ms/step - loss: 81.0417 - mse: 6683.4663\n",
            "Epoch 451/500\n",
            "1/1 [==============================] - 0s 10ms/step - loss: 70.2487 - mse: 5018.9424\n",
            "Epoch 452/500\n",
            "1/1 [==============================] - 0s 11ms/step - loss: 36.0714 - mse: 1318.2524\n",
            "Epoch 453/500\n",
            "1/1 [==============================] - 0s 12ms/step - loss: 72.2022 - mse: 5352.6025\n",
            "Epoch 454/500\n",
            "1/1 [==============================] - 0s 10ms/step - loss: 78.3422 - mse: 6244.8774\n",
            "Epoch 455/500\n",
            "1/1 [==============================] - 0s 12ms/step - loss: 61.7384 - mse: 3874.3281\n",
            "Epoch 456/500\n",
            "1/1 [==============================] - 0s 12ms/step - loss: 9.1489 - mse: 83.7317\n",
            "Epoch 457/500\n",
            "1/1 [==============================] - 0s 11ms/step - loss: 157.4663 - mse: 25389.2109\n",
            "Epoch 458/500\n",
            "1/1 [==============================] - 0s 12ms/step - loss: 74.1988 - mse: 5600.6196\n",
            "Epoch 459/500\n",
            "1/1 [==============================] - 0s 13ms/step - loss: 48.6529 - mse: 2403.0254\n",
            "Epoch 460/500\n",
            "1/1 [==============================] - 0s 11ms/step - loss: 32.2710 - mse: 1076.5078\n",
            "Epoch 461/500\n",
            "1/1 [==============================] - 0s 13ms/step - loss: 80.2453 - mse: 6552.6494\n",
            "Epoch 462/500\n",
            "1/1 [==============================] - 0s 10ms/step - loss: 67.8334 - mse: 4679.1597\n",
            "Epoch 463/500\n",
            "1/1 [==============================] - 0s 10ms/step - loss: 28.5265 - mse: 822.9549\n",
            "Epoch 464/500\n",
            "1/1 [==============================] - 0s 11ms/step - loss: 96.0007 - mse: 9450.4268\n",
            "Epoch 465/500\n",
            "1/1 [==============================] - 0s 11ms/step - loss: 77.1435 - mse: 6055.0093\n",
            "Epoch 466/500\n",
            "1/1 [==============================] - 0s 13ms/step - loss: 58.0485 - mse: 3424.1128\n",
            "Epoch 467/500\n",
            "1/1 [==============================] - 0s 9ms/step - loss: 2.4349 - mse: 8.2539\n",
            "Epoch 468/500\n",
            "1/1 [==============================] - 0s 11ms/step - loss: 81.6599 - mse: 6786.2705\n",
            "Epoch 469/500\n",
            "1/1 [==============================] - 0s 12ms/step - loss: 72.3810 - mse: 5329.1533\n",
            "Epoch 470/500\n",
            "1/1 [==============================] - 0s 9ms/step - loss: 43.0014 - mse: 1875.8301\n",
            "Epoch 471/500\n",
            "1/1 [==============================] - 0s 10ms/step - loss: 50.0702 - mse: 2579.9150\n",
            "Epoch 472/500\n",
            "1/1 [==============================] - 0s 12ms/step - loss: 79.3367 - mse: 6404.9834\n",
            "Epoch 473/500\n",
            "1/1 [==============================] - 0s 11ms/step - loss: 65.0629 - mse: 4304.0688\n",
            "Epoch 474/500\n",
            "1/1 [==============================] - 0s 9ms/step - loss: 19.8564 - mse: 397.3829\n",
            "Epoch 475/500\n",
            "1/1 [==============================] - 0s 8ms/step - loss: 123.3647 - mse: 15592.4531\n",
            "Epoch 476/500\n",
            "1/1 [==============================] - 0s 10ms/step - loss: 75.7723 - mse: 5841.3984\n",
            "Epoch 477/500\n",
            "1/1 [==============================] - 0s 10ms/step - loss: 53.8120 - mse: 2941.4968\n",
            "Epoch 478/500\n",
            "1/1 [==============================] - 0s 10ms/step - loss: 15.7503 - mse: 260.1719\n",
            "Epoch 479/500\n",
            "1/1 [==============================] - 0s 11ms/step - loss: 80.9682 - mse: 6671.7407\n",
            "Epoch 480/500\n",
            "1/1 [==============================] - 0s 10ms/step - loss: 70.2978 - mse: 5026.3257\n",
            "Epoch 481/500\n",
            "1/1 [==============================] - 0s 9ms/step - loss: 36.5089 - mse: 1350.7024\n",
            "Epoch 482/500\n",
            "1/1 [==============================] - 0s 12ms/step - loss: 70.5341 - mse: 5108.3213\n",
            "Epoch 483/500\n",
            "1/1 [==============================] - 0s 11ms/step - loss: 78.2992 - mse: 6238.4043\n",
            "Epoch 484/500\n",
            "1/1 [==============================] - 0s 8ms/step - loss: 61.8841 - mse: 3892.9722\n",
            "Epoch 485/500\n",
            "1/1 [==============================] - 0s 9ms/step - loss: 9.8921 - mse: 97.9457\n",
            "Epoch 486/500\n",
            "1/1 [==============================] - 0s 10ms/step - loss: 154.8292 - mse: 24545.9707\n",
            "Epoch 487/500\n",
            "1/1 [==============================] - 0s 11ms/step - loss: 74.2027 - mse: 5601.5752\n",
            "Epoch 488/500\n",
            "1/1 [==============================] - 0s 11ms/step - loss: 48.9470 - mse: 2432.4844\n",
            "Epoch 489/500\n",
            "1/1 [==============================] - 0s 9ms/step - loss: 31.0572 - mse: 997.3299\n",
            "Epoch 490/500\n",
            "1/1 [==============================] - 0s 9ms/step - loss: 80.1803 - mse: 6542.4272\n",
            "Epoch 491/500\n",
            "1/1 [==============================] - 0s 9ms/step - loss: 67.9093 - mse: 4690.0083\n",
            "Epoch 492/500\n",
            "1/1 [==============================] - 0s 9ms/step - loss: 29.0492 - mse: 853.6398\n",
            "Epoch 493/500\n",
            "1/1 [==============================] - 0s 12ms/step - loss: 94.0627 - mse: 9072.8467\n",
            "Epoch 494/500\n",
            "1/1 [==============================] - 0s 9ms/step - loss: 77.1135 - mse: 6050.6875\n",
            "Epoch 495/500\n",
            "1/1 [==============================] - 0s 10ms/step - loss: 58.2354 - mse: 3446.5457\n",
            "Epoch 496/500\n",
            "1/1 [==============================] - 0s 8ms/step - loss: 1.7033 - mse: 4.3312\n",
            "Epoch 497/500\n",
            "1/1 [==============================] - 0s 9ms/step - loss: 66.6702 - mse: 4520.1074\n",
            "Epoch 498/500\n",
            "1/1 [==============================] - 0s 10ms/step - loss: 25.1748 - mse: 640.3287\n",
            "Epoch 499/500\n",
            "1/1 [==============================] - 0s 9ms/step - loss: 106.2872 - mse: 11579.1543\n",
            "Epoch 500/500\n",
            "1/1 [==============================] - 0s 8ms/step - loss: 76.4994 - mse: 5954.5786\n"
          ]
        },
        {
          "output_type": "execute_result",
          "data": {
            "text/plain": [
              "<keras.callbacks.History at 0x7f3ef30095d0>"
            ]
          },
          "metadata": {},
          "execution_count": 45
        }
      ]
    },
    {
      "cell_type": "code",
      "source": [
        "y_pred_3 = tf.squeeze(model_3.predict(X_test))\n",
        "plot_predictions(predictions=y_pred_3)"
      ],
      "metadata": {
        "colab": {
          "base_uri": "https://localhost:8080/",
          "height": 616
        },
        "id": "_MQ_NlMOnOyO",
        "outputId": "c81b89bd-4d42-4072-cb18-6059bbc13bf5"
      },
      "execution_count": null,
      "outputs": [
        {
          "output_type": "stream",
          "name": "stdout",
          "text": [
            "1/1 [==============================] - 0s 69ms/step\n"
          ]
        },
        {
          "output_type": "display_data",
          "data": {
            "text/plain": [
              "<Figure size 1000x700 with 1 Axes>"
            ],
            "image/png": "[encoded data removed]"
          },
          "metadata": {}
        }
      ]
    },
    {
      "cell_type": "code",
      "source": [
        "mae_3 = tf.keras.losses.mae(Y_test, y_pred_3)\n",
        "mse_3 = tf.keras.losses.mse(Y_test, y_pred_3)\n",
        "mae_3, mse_3"
      ],
      "metadata": {
        "colab": {
          "base_uri": "https://localhost:8080/"
        },
        "id": "1C00zTpcoN-l",
        "outputId": "47893695-adb5-4340-f704-80d87a2760c2"
      },
      "execution_count": null,
      "outputs": [
        {
          "output_type": "execute_result",
          "data": {
            "text/plain": [
              "(<tf.Tensor: shape=(), dtype=float32, numpy=56.34143>,\n",
              " <tf.Tensor: shape=(), dtype=float32, numpy=3225.5232>)"
            ]
          },
          "metadata": {},
          "execution_count": 47
        }
      ]
    },
    {
      "cell_type": "markdown",
      "source": [
        "### Comparando resultados do experimento"
      ],
      "metadata": {
        "id": "cYjJW9NxFrkE"
      }
    },
    {
      "cell_type": "code",
      "source": [
        "# Vamos comparar usando pandas DataFrame\n",
        "import pandas as pd\n",
        "\n",
        "model_results = [[\"model_1\", mae_1.numpy(), mse_1.numpy()],\n",
        "                 [\"model_2\", mae_2.numpy(), mse_2.numpy()],\n",
        "                 [\"model_3\", mae_3.numpy(), mse_3.numpy()]]\n",
        "\n",
        "all_results = pd.DataFrame(model_results, columns=[\"model\", \"mae\", \"mse\"])\n",
        "all_results"
      ],
      "metadata": {
        "colab": {
          "base_uri": "https://localhost:8080/",
          "height": 144
        },
        "id": "VY9kBWhUFziw",
        "outputId": "c0c174c9-f0c3-479b-e44c-85b69cfe033a"
      },
      "execution_count": null,
      "outputs": [
        {
          "output_type": "execute_result",
          "data": {
            "text/plain": [
              "     model        mae          mse\n",
              "0  model_1  15.024493   226.592651\n",
              "1  model_2  76.857773  6005.372070\n",
              "2  model_3  56.341431  3225.523193"
            ],
            "text/html": [
              "\n",
              "  <div id=\"df-91ff1865-6d50-4338-b324-f8fc15a12064\">\n",
              "    <div class=\"colab-df-container\">\n",
              "      <div>\n",
              "<style scoped>\n",
              "    .dataframe tbody tr th:only-of-type {\n",
              "        vertical-align: middle;\n",
              "    }\n",
              "\n",
              "    .dataframe tbody tr th {\n",
              "        vertical-align: top;\n",
              "    }\n",
              "\n",
              "    .dataframe thead th {\n",
              "        text-align: right;\n",
              "    }\n",
              "</style>\n",
              "<table border=\"1\" class=\"dataframe\">\n",
              "  <thead>\n",
              "    <tr style=\"text-align: right;\">\n",
              "      <th></th>\n",
              "      <th>model</th>\n",
              "      <th>mae</th>\n",
              "      <th>mse</th>\n",
              "    </tr>\n",
              "  </thead>\n",
              "  <tbody>\n",
              "    <tr>\n",
              "      <th>0</th>\n",
              "      <td>model_1</td>\n",
              "      <td>15.024493</td>\n",
              "      <td>226.592651</td>\n",
              "    </tr>\n",
              "    <tr>\n",
              "      <th>1</th>\n",
              "      <td>model_2</td>\n",
              "      <td>76.857773</td>\n",
              "      <td>6005.372070</td>\n",
              "    </tr>\n",
              "    <tr>\n",
              "      <th>2</th>\n",
              "      <td>model_3</td>\n",
              "      <td>56.341431</td>\n",
              "      <td>3225.523193</td>\n",
              "    </tr>\n",
              "  </tbody>\n",
              "</table>\n",
              "</div>\n",
              "      <button class=\"colab-df-convert\" onclick=\"convertToInteractive('df-91ff1865-6d50-4338-b324-f8fc15a12064')\"\n",
              "              title=\"Convert this dataframe to an interactive table.\"\n",
              "              style=\"display:none;\">\n",
              "        \n",
              "  <svg xmlns=\"http://www.w3.org/2000/svg\" height=\"24px\"viewBox=\"0 0 24 24\"\n",
              "       width=\"24px\">\n",
              "    <path d=\"M0 0h24v24H0V0z\" fill=\"none\"/>\n",
              "    <path d=\"M18.56 5.44l.94 2.06.94-2.06 2.06-.94-2.06-.94-.94-2.06-.94 2.06-2.06.94zm-11 1L8.5 8.5l.94-2.06 2.06-.94-2.06-.94L8.5 2.5l-.94 2.06-2.06.94zm10 10l.94 2.06.94-2.06 2.06-.94-2.06-.94-.94-2.06-.94 2.06-2.06.94z\"/><path d=\"M17.41 7.96l-1.37-1.37c-.4-.4-.92-.59-1.43-.59-.52 0-1.04.2-1.43.59L10.3 9.45l-7.72 7.72c-.78.78-.78 2.05 0 2.83L4 21.41c.39.39.9.59 1.41.59.51 0 1.02-.2 1.41-.59l7.78-7.78 2.81-2.81c.8-.78.8-2.07 0-2.86zM5.41 20L4 18.59l7.72-7.72 1.47 1.35L5.41 20z\"/>\n",
              "  </svg>\n",
              "      </button>\n",
              "      \n",
              "  <style>\n",
              "    .colab-df-container {\n",
              "      display:flex;\n",
              "      flex-wrap:wrap;\n",
              "      gap: 12px;\n",
              "    }\n",
              "\n",
              "    .colab-df-convert {\n",
              "      background-color: #E8F0FE;\n",
              "      border: none;\n",
              "      border-radius: 50%;\n",
              "      cursor: pointer;\n",
              "      display: none;\n",
              "      fill: #1967D2;\n",
              "      height: 32px;\n",
              "      padding: 0 0 0 0;\n",
              "      width: 32px;\n",
              "    }\n",
              "\n",
              "    .colab-df-convert:hover {\n",
              "      background-color: #E2EBFA;\n",
              "      box-shadow: 0px 1px 2px rgba(60, 64, 67, 0.3), 0px 1px 3px 1px rgba(60, 64, 67, 0.15);\n",
              "      fill: #174EA6;\n",
              "    }\n",
              "\n",
              "    [theme=dark] .colab-df-convert {\n",
              "      background-color: #3B4455;\n",
              "      fill: #D2E3FC;\n",
              "    }\n",
              "\n",
              "    [theme=dark] .colab-df-convert:hover {\n",
              "      background-color: #434B5C;\n",
              "      box-shadow: 0px 1px 3px 1px rgba(0, 0, 0, 0.15);\n",
              "      filter: drop-shadow(0px 1px 2px rgba(0, 0, 0, 0.3));\n",
              "      fill: #FFFFFF;\n",
              "    }\n",
              "  </style>\n",
              "\n",
              "      <script>\n",
              "        const buttonEl =\n",
              "          document.querySelector('#df-91ff1865-6d50-4338-b324-f8fc15a12064 button.colab-df-convert');\n",
              "        buttonEl.style.display =\n",
              "          google.colab.kernel.accessAllowed ? 'block' : 'none';\n",
              "\n",
              "        async function convertToInteractive(key) {\n",
              "          const element = document.querySelector('#df-91ff1865-6d50-4338-b324-f8fc15a12064');\n",
              "          const dataTable =\n",
              "            await google.colab.kernel.invokeFunction('convertToInteractive',\n",
              "                                                     [key], {});\n",
              "          if (!dataTable) return;\n",
              "\n",
              "          const docLinkHtml = 'Like what you see? Visit the ' +\n",
              "            '<a target=\"_blank\" href=https://colab.research.google.com/notebooks/data_table.ipynb>data table notebook</a>'\n",
              "            + ' to learn more about interactive tables.';\n",
              "          element.innerHTML = '';\n",
              "          dataTable['output_type'] = 'display_data';\n",
              "          await google.colab.output.renderOutput(dataTable, element);\n",
              "          const docLink = document.createElement('div');\n",
              "          docLink.innerHTML = docLinkHtml;\n",
              "          element.appendChild(docLink);\n",
              "        }\n",
              "      </script>\n",
              "    </div>\n",
              "  </div>\n",
              "  "
            ]
          },
          "metadata": {},
          "execution_count": 48
        }
      ]
    },
    {
      "cell_type": "code",
      "source": [
        "# Como o model_1 mostrou melhor adaptação, vamos dar uma olhada\n",
        "model_1.summary()"
      ],
      "metadata": {
        "colab": {
          "base_uri": "https://localhost:8080/"
        },
        "id": "PcKY1ULaKNN3",
        "outputId": "93420d17-64a8-4bfc-e57b-c74f632b529f"
      },
      "execution_count": null,
      "outputs": [
        {
          "output_type": "stream",
          "name": "stdout",
          "text": [
            "Model: \"sequential_4\"\n",
            "_________________________________________________________________\n",
            " Layer (type)                Output Shape              Param #   \n",
            "=================================================================\n",
            " dense_10 (Dense)            (None, 1)                 2         \n",
            "                                                                 \n",
            "=================================================================\n",
            "Total params: 2\n",
            "Trainable params: 2\n",
            "Non-trainable params: 0\n",
            "_________________________________________________________________\n"
          ]
        }
      ]
    },
    {
      "cell_type": "markdown",
      "source": [
        "## Acompanhando os experimentos\n",
        "\n",
        "Um bom habito em modelagem com machine learning é acompanhar os resultados dos experimentos.\n",
        "\n",
        "**Ferramentas de auxílio:**\n",
        "* TensorBoard - ajuda a acompanhar os experimentos de modelagem\n",
        "* Weights & Biases - biblioteca de experimentos de todos os tipos com machine learning"
      ],
      "metadata": {
        "id": "dNfTpqiXL6Sy"
      }
    },
    {
      "cell_type": "markdown",
      "source": [
        "## Salvando os modelos\n",
        "\n",
        "Salvando nosso modelo podemos usa-los fora do Google Colab, como em uma aplicação web ou mobile\n",
        "\n",
        "Existem dois formatos de salvamento:\n",
        "1. The SavedModel format\n",
        "2. The HDF5 format"
      ],
      "metadata": {
        "id": "-0AdUj2sNkS9"
      }
    },
    {
      "cell_type": "code",
      "source": [
        "# Salvando usando o SavedModel format\n",
        "model_1.save(\"best_model_SavedModel_format\")"
      ],
      "metadata": {
        "colab": {
          "base_uri": "https://localhost:8080/"
        },
        "id": "j3M0qJLjNwaK",
        "outputId": "87661c52-1f8c-4e4b-92c2-6698c917fed8"
      },
      "execution_count": null,
      "outputs": [
        {
          "output_type": "stream",
          "name": "stderr",
          "text": [
            "WARNING:absl:Found untraced functions such as _update_step_xla while saving (showing 1 of 1). These functions will not be directly callable after loading.\n"
          ]
        }
      ]
    },
    {
      "cell_type": "code",
      "source": [
        "# Salvando usando o HDF5 format\n",
        "model_1.save(\"best_model_HDF5_format.h5\")"
      ],
      "metadata": {
        "id": "OnU2oKzghXOu"
      },
      "execution_count": null,
      "outputs": []
    },
    {
      "cell_type": "markdown",
      "source": [
        "## Carregando os modelos salvados\n"
      ],
      "metadata": {
        "id": "YL-tYZpnh5lp"
      }
    },
    {
      "cell_type": "code",
      "source": [
        "# Carregando o modelo salvo em SavedModel format\n",
        "loaded_SavedModel_format = tf.keras.models.load_model(\"/content/best_model_SavedModel_format\") # pode retirar o \"/content/\" que também compila\n",
        "loaded_SavedModel_format.summary()"
      ],
      "metadata": {
        "colab": {
          "base_uri": "https://localhost:8080/"
        },
        "id": "z8MGbYsGiYDZ",
        "outputId": "eea735c4-a91f-4916-f6aa-7d50858473f5"
      },
      "execution_count": null,
      "outputs": [
        {
          "output_type": "stream",
          "name": "stdout",
          "text": [
            "Model: \"sequential_4\"\n",
            "_________________________________________________________________\n",
            " Layer (type)                Output Shape              Param #   \n",
            "=================================================================\n",
            " dense_10 (Dense)            (None, 1)                 2         \n",
            "                                                                 \n",
            "=================================================================\n",
            "Total params: 2\n",
            "Trainable params: 2\n",
            "Non-trainable params: 0\n",
            "_________________________________________________________________\n"
          ]
        }
      ]
    },
    {
      "cell_type": "code",
      "source": [
        "# Comparando o modelo com o modelo salvo\n",
        "model_1_preds = model_1.predict(X_test)\n",
        "loaded_SavedModel_format_preds = loaded_SavedModel_format.predict(X_test)\n",
        "\n",
        "model_1_preds == loaded_SavedModel_format_preds"
      ],
      "metadata": {
        "colab": {
          "base_uri": "https://localhost:8080/"
        },
        "id": "7W7ZXUYNjejL",
        "outputId": "0a1df1a4-0c76-409b-bd34-407a9d3b0c72"
      },
      "execution_count": null,
      "outputs": [
        {
          "output_type": "stream",
          "name": "stdout",
          "text": [
            "1/1 [==============================] - 0s 32ms/step\n",
            "1/1 [==============================] - 0s 61ms/step\n"
          ]
        },
        {
          "output_type": "execute_result",
          "data": {
            "text/plain": [
              "array([[ True],\n",
              "       [ True],\n",
              "       [ True],\n",
              "       [ True],\n",
              "       [ True],\n",
              "       [ True],\n",
              "       [ True],\n",
              "       [ True],\n",
              "       [ True],\n",
              "       [ True]])"
            ]
          },
          "metadata": {},
          "execution_count": 53
        }
      ]
    },
    {
      "cell_type": "code",
      "source": [
        "# Carregando o modelo usando HDF5 format\n",
        "loaded_h5_model = tf.keras.models.load_model(\"/content/best_model_HDF5_format.h5\")\n",
        "loaded_h5_model.summary()"
      ],
      "metadata": {
        "colab": {
          "base_uri": "https://localhost:8080/"
        },
        "id": "fQ17wRqymU3y",
        "outputId": "e6b4cc1f-5d2c-4a88-d47c-7385b8c60d59"
      },
      "execution_count": null,
      "outputs": [
        {
          "output_type": "stream",
          "name": "stdout",
          "text": [
            "Model: \"sequential_4\"\n",
            "_________________________________________________________________\n",
            " Layer (type)                Output Shape              Param #   \n",
            "=================================================================\n",
            " dense_10 (Dense)            (None, 1)                 2         \n",
            "                                                                 \n",
            "=================================================================\n",
            "Total params: 2\n",
            "Trainable params: 2\n",
            "Non-trainable params: 0\n",
            "_________________________________________________________________\n"
          ]
        }
      ]
    },
    {
      "cell_type": "code",
      "source": [
        "# Checando se o modelo original bate com o modelo salvo em HDF5\n",
        "model_1_preds = model_1.predict(X_test)\n",
        "loaded_h5_model_preds = loaded_h5_model.predict(X_test)\n",
        "model_1_preds == loaded_h5_model_preds"
      ],
      "metadata": {
        "colab": {
          "base_uri": "https://localhost:8080/"
        },
        "id": "bPE1IERWmvS2",
        "outputId": "5c6706ce-4a8c-47e3-c61c-fa16723a2481"
      },
      "execution_count": null,
      "outputs": [
        {
          "output_type": "stream",
          "name": "stdout",
          "text": [
            "1/1 [==============================] - 0s 24ms/step\n",
            "1/1 [==============================] - 0s 57ms/step\n"
          ]
        },
        {
          "output_type": "execute_result",
          "data": {
            "text/plain": [
              "array([[ True],\n",
              "       [ True],\n",
              "       [ True],\n",
              "       [ True],\n",
              "       [ True],\n",
              "       [ True],\n",
              "       [ True],\n",
              "       [ True],\n",
              "       [ True],\n",
              "       [ True]])"
            ]
          },
          "metadata": {},
          "execution_count": 55
        }
      ]
    },
    {
      "cell_type": "markdown",
      "source": [
        "## Download do modelo\n",
        "\n",
        "Caminho para DOWNLOAD:\n",
        "1. Ir em \"Arquivos\"(da barra lateral esquerda) e clique direito no arquivo que deseja e realizar o DOWNLOAD.\n",
        "2. Usar codigo!\n",
        "3. Salvando no Google Drive por conectar-lo e copiando lá"
      ],
      "metadata": {
        "id": "V7ChhGKSnv6K"
      }
    },
    {
      "cell_type": "code",
      "source": [
        "# Download de um arquivo do Google Colab\n",
        "from google.colab import files\n",
        "files.download(\"/content/best_model_HDF5_format.h5\")"
      ],
      "metadata": {
        "colab": {
          "base_uri": "https://localhost:8080/",
          "height": 17
        },
        "id": "ODnL7SWcn4ec",
        "outputId": "ae08cd24-1e68-4e7c-93dc-7d5239670fbd"
      },
      "execution_count": null,
      "outputs": [
        {
          "output_type": "display_data",
          "data": {
            "text/plain": [
              "<IPython.core.display.Javascript object>"
            ],
            "application/javascript": [
              "\n",
              "    async function download(id, filename, size) {\n",
              "      if (!google.colab.kernel.accessAllowed) {\n",
              "        return;\n",
              "      }\n",
              "      const div = document.createElement('div');\n",
              "      const label = document.createElement('label');\n",
              "      label.textContent = `Downloading \"${filename}\": `;\n",
              "      div.appendChild(label);\n",
              "      const progress = document.createElement('progress');\n",
              "      progress.max = size;\n",
              "      div.appendChild(progress);\n",
              "      document.body.appendChild(div);\n",
              "\n",
              "      const buffers = [];\n",
              "      let downloaded = 0;\n",
              "\n",
              "      const channel = await google.colab.kernel.comms.open(id);\n",
              "      // Send a message to notify the kernel that we're ready.\n",
              "      channel.send({})\n",
              "\n",
              "      for await (const message of channel.messages) {\n",
              "        // Send a message to notify the kernel that we're ready.\n",
              "        channel.send({})\n",
              "        if (message.buffers) {\n",
              "          for (const buffer of message.buffers) {\n",
              "            buffers.push(buffer);\n",
              "            downloaded += buffer.byteLength;\n",
              "            progress.value = downloaded;\n",
              "          }\n",
              "        }\n",
              "      }\n",
              "      const blob = new Blob(buffers, {type: 'application/binary'});\n",
              "      const a = document.createElement('a');\n",
              "      a.href = window.URL.createObjectURL(blob);\n",
              "      a.download = filename;\n",
              "      div.appendChild(a);\n",
              "      a.click();\n",
              "      div.remove();\n",
              "    }\n",
              "  "
            ]
          },
          "metadata": {}
        },
        {
          "output_type": "display_data",
          "data": {
            "text/plain": [
              "<IPython.core.display.Javascript object>"
            ],
            "application/javascript": [
              "download(\"download_6d6d8e70-eb1d-4d60-a7fc-99208a6c4422\", \"best_model_HDF5_format.h5\", 17600)"
            ]
          },
          "metadata": {}
        }
      ]
    },
    {
      "cell_type": "code",
      "source": [
        "# Salvando um arquivo do Google Colab para o Google Drive\n",
        "!cp /content/best_model_HDF5_format.h5 /content/drive/MyDrive/Colab_Notebooks"
      ],
      "metadata": {
        "id": "ILw3mQX3p7iU"
      },
      "execution_count": null,
      "outputs": []
    },
    {
      "cell_type": "code",
      "source": [
        "!ls /content/drive/MyDrive/Colab_Notebooks"
      ],
      "metadata": {
        "colab": {
          "base_uri": "https://localhost:8080/"
        },
        "id": "aQtQ0bXkqhZn",
        "outputId": "67222116-9891-410d-f08f-847521219c4d"
      },
      "execution_count": null,
      "outputs": [
        {
          "output_type": "stream",
          "name": "stdout",
          "text": [
            "00_tenserflow_fundamentals.ipynb\t\t  Untitled0.ipynb\n",
            "01_neural_network_regression_in_tensorflow.ipynb  Untitled1.ipynb\n",
            "best_model_HDF5_format.h5\n"
          ]
        }
      ]
    },
    {
      "cell_type": "markdown",
      "source": [
        "## Um exemplo maior"
      ],
      "metadata": {
        "id": "p6MP85iVqw5F"
      }
    },
    {
      "cell_type": "code",
      "source": [
        "# Importar a biblioteca requerida\n",
        "import tensorflow as tf\n",
        "import pandas as pd\n",
        "import matplotlib.pyplot as plt\n"
      ],
      "metadata": {
        "id": "RpiYpg4tq1Z_"
      },
      "execution_count": null,
      "outputs": []
    },
    {
      "cell_type": "code",
      "source": [
        "# Lendo o Dataset escolhido\n",
        "insurance = pd.read_csv(\"https://raw.githubusercontent.com/stedy/Machine-Learning-with-R-datasets/master/insurance.csv\")\n",
        "insurance"
      ],
      "metadata": {
        "colab": {
          "base_uri": "https://localhost:8080/",
          "height": 424
        },
        "id": "PjuYyvs3tFWo",
        "outputId": "b18589a4-39ff-4dbc-dda8-02cabcda51f4"
      },
      "execution_count": null,
      "outputs": [
        {
          "output_type": "execute_result",
          "data": {
            "text/plain": [
              "      age     sex     bmi  children smoker     region      charges\n",
              "0      19  female  27.900         0    yes  southwest  16884.92400\n",
              "1      18    male  33.770         1     no  southeast   1725.55230\n",
              "2      28    male  33.000         3     no  southeast   4449.46200\n",
              "3      33    male  22.705         0     no  northwest  21984.47061\n",
              "4      32    male  28.880         0     no  northwest   3866.85520\n",
              "...   ...     ...     ...       ...    ...        ...          ...\n",
              "1333   50    male  30.970         3     no  northwest  10600.54830\n",
              "1334   18  female  31.920         0     no  northeast   2205.98080\n",
              "1335   18  female  36.850         0     no  southeast   1629.83350\n",
              "1336   21  female  25.800         0     no  southwest   2007.94500\n",
              "1337   61  female  29.070         0    yes  northwest  29141.36030\n",
              "\n",
              "[1338 rows x 7 columns]"
            ],
            "text/html": [
              "\n",
              "  <div id=\"df-eece8924-b84d-4b20-95a2-6435a12ebbb1\">\n",
              "    <div class=\"colab-df-container\">\n",
              "      <div>\n",
              "<style scoped>\n",
              "    .dataframe tbody tr th:only-of-type {\n",
              "        vertical-align: middle;\n",
              "    }\n",
              "\n",
              "    .dataframe tbody tr th {\n",
              "        vertical-align: top;\n",
              "    }\n",
              "\n",
              "    .dataframe thead th {\n",
              "        text-align: right;\n",
              "    }\n",
              "</style>\n",
              "<table border=\"1\" class=\"dataframe\">\n",
              "  <thead>\n",
              "    <tr style=\"text-align: right;\">\n",
              "      <th></th>\n",
              "      <th>age</th>\n",
              "      <th>sex</th>\n",
              "      <th>bmi</th>\n",
              "      <th>children</th>\n",
              "      <th>smoker</th>\n",
              "      <th>region</th>\n",
              "      <th>charges</th>\n",
              "    </tr>\n",
              "  </thead>\n",
              "  <tbody>\n",
              "    <tr>\n",
              "      <th>0</th>\n",
              "      <td>19</td>\n",
              "      <td>female</td>\n",
              "      <td>27.900</td>\n",
              "      <td>0</td>\n",
              "      <td>yes</td>\n",
              "      <td>southwest</td>\n",
              "      <td>16884.92400</td>\n",
              "    </tr>\n",
              "    <tr>\n",
              "      <th>1</th>\n",
              "      <td>18</td>\n",
              "      <td>male</td>\n",
              "      <td>33.770</td>\n",
              "      <td>1</td>\n",
              "      <td>no</td>\n",
              "      <td>southeast</td>\n",
              "      <td>1725.55230</td>\n",
              "    </tr>\n",
              "    <tr>\n",
              "      <th>2</th>\n",
              "      <td>28</td>\n",
              "      <td>male</td>\n",
              "      <td>33.000</td>\n",
              "      <td>3</td>\n",
              "      <td>no</td>\n",
              "      <td>southeast</td>\n",
              "      <td>4449.46200</td>\n",
              "    </tr>\n",
              "    <tr>\n",
              "      <th>3</th>\n",
              "      <td>33</td>\n",
              "      <td>male</td>\n",
              "      <td>22.705</td>\n",
              "      <td>0</td>\n",
              "      <td>no</td>\n",
              "      <td>northwest</td>\n",
              "      <td>21984.47061</td>\n",
              "    </tr>\n",
              "    <tr>\n",
              "      <th>4</th>\n",
              "      <td>32</td>\n",
              "      <td>male</td>\n",
              "      <td>28.880</td>\n",
              "      <td>0</td>\n",
              "      <td>no</td>\n",
              "      <td>northwest</td>\n",
              "      <td>3866.85520</td>\n",
              "    </tr>\n",
              "    <tr>\n",
              "      <th>...</th>\n",
              "      <td>...</td>\n",
              "      <td>...</td>\n",
              "      <td>...</td>\n",
              "      <td>...</td>\n",
              "      <td>...</td>\n",
              "      <td>...</td>\n",
              "      <td>...</td>\n",
              "    </tr>\n",
              "    <tr>\n",
              "      <th>1333</th>\n",
              "      <td>50</td>\n",
              "      <td>male</td>\n",
              "      <td>30.970</td>\n",
              "      <td>3</td>\n",
              "      <td>no</td>\n",
              "      <td>northwest</td>\n",
              "      <td>10600.54830</td>\n",
              "    </tr>\n",
              "    <tr>\n",
              "      <th>1334</th>\n",
              "      <td>18</td>\n",
              "      <td>female</td>\n",
              "      <td>31.920</td>\n",
              "      <td>0</td>\n",
              "      <td>no</td>\n",
              "      <td>northeast</td>\n",
              "      <td>2205.98080</td>\n",
              "    </tr>\n",
              "    <tr>\n",
              "      <th>1335</th>\n",
              "      <td>18</td>\n",
              "      <td>female</td>\n",
              "      <td>36.850</td>\n",
              "      <td>0</td>\n",
              "      <td>no</td>\n",
              "      <td>southeast</td>\n",
              "      <td>1629.83350</td>\n",
              "    </tr>\n",
              "    <tr>\n",
              "      <th>1336</th>\n",
              "      <td>21</td>\n",
              "      <td>female</td>\n",
              "      <td>25.800</td>\n",
              "      <td>0</td>\n",
              "      <td>no</td>\n",
              "      <td>southwest</td>\n",
              "      <td>2007.94500</td>\n",
              "    </tr>\n",
              "    <tr>\n",
              "      <th>1337</th>\n",
              "      <td>61</td>\n",
              "      <td>female</td>\n",
              "      <td>29.070</td>\n",
              "      <td>0</td>\n",
              "      <td>yes</td>\n",
              "      <td>northwest</td>\n",
              "      <td>29141.36030</td>\n",
              "    </tr>\n",
              "  </tbody>\n",
              "</table>\n",
              "<p>1338 rows × 7 columns</p>\n",
              "</div>\n",
              "      <button class=\"colab-df-convert\" onclick=\"convertToInteractive('df-eece8924-b84d-4b20-95a2-6435a12ebbb1')\"\n",
              "              title=\"Convert this dataframe to an interactive table.\"\n",
              "              style=\"display:none;\">\n",
              "        \n",
              "  <svg xmlns=\"http://www.w3.org/2000/svg\" height=\"24px\"viewBox=\"0 0 24 24\"\n",
              "       width=\"24px\">\n",
              "    <path d=\"M0 0h24v24H0V0z\" fill=\"none\"/>\n",
              "    <path d=\"M18.56 5.44l.94 2.06.94-2.06 2.06-.94-2.06-.94-.94-2.06-.94 2.06-2.06.94zm-11 1L8.5 8.5l.94-2.06 2.06-.94-2.06-.94L8.5 2.5l-.94 2.06-2.06.94zm10 10l.94 2.06.94-2.06 2.06-.94-2.06-.94-.94-2.06-.94 2.06-2.06.94z\"/><path d=\"M17.41 7.96l-1.37-1.37c-.4-.4-.92-.59-1.43-.59-.52 0-1.04.2-1.43.59L10.3 9.45l-7.72 7.72c-.78.78-.78 2.05 0 2.83L4 21.41c.39.39.9.59 1.41.59.51 0 1.02-.2 1.41-.59l7.78-7.78 2.81-2.81c.8-.78.8-2.07 0-2.86zM5.41 20L4 18.59l7.72-7.72 1.47 1.35L5.41 20z\"/>\n",
              "  </svg>\n",
              "      </button>\n",
              "      \n",
              "  <style>\n",
              "    .colab-df-container {\n",
              "      display:flex;\n",
              "      flex-wrap:wrap;\n",
              "      gap: 12px;\n",
              "    }\n",
              "\n",
              "    .colab-df-convert {\n",
              "      background-color: #E8F0FE;\n",
              "      border: none;\n",
              "      border-radius: 50%;\n",
              "      cursor: pointer;\n",
              "      display: none;\n",
              "      fill: #1967D2;\n",
              "      height: 32px;\n",
              "      padding: 0 0 0 0;\n",
              "      width: 32px;\n",
              "    }\n",
              "\n",
              "    .colab-df-convert:hover {\n",
              "      background-color: #E2EBFA;\n",
              "      box-shadow: 0px 1px 2px rgba(60, 64, 67, 0.3), 0px 1px 3px 1px rgba(60, 64, 67, 0.15);\n",
              "      fill: #174EA6;\n",
              "    }\n",
              "\n",
              "    [theme=dark] .colab-df-convert {\n",
              "      background-color: #3B4455;\n",
              "      fill: #D2E3FC;\n",
              "    }\n",
              "\n",
              "    [theme=dark] .colab-df-convert:hover {\n",
              "      background-color: #434B5C;\n",
              "      box-shadow: 0px 1px 3px 1px rgba(0, 0, 0, 0.15);\n",
              "      filter: drop-shadow(0px 1px 2px rgba(0, 0, 0, 0.3));\n",
              "      fill: #FFFFFF;\n",
              "    }\n",
              "  </style>\n",
              "\n",
              "      <script>\n",
              "        const buttonEl =\n",
              "          document.querySelector('#df-eece8924-b84d-4b20-95a2-6435a12ebbb1 button.colab-df-convert');\n",
              "        buttonEl.style.display =\n",
              "          google.colab.kernel.accessAllowed ? 'block' : 'none';\n",
              "\n",
              "        async function convertToInteractive(key) {\n",
              "          const element = document.querySelector('#df-eece8924-b84d-4b20-95a2-6435a12ebbb1');\n",
              "          const dataTable =\n",
              "            await google.colab.kernel.invokeFunction('convertToInteractive',\n",
              "                                                     [key], {});\n",
              "          if (!dataTable) return;\n",
              "\n",
              "          const docLinkHtml = 'Like what you see? Visit the ' +\n",
              "            '<a target=\"_blank\" href=https://colab.research.google.com/notebooks/data_table.ipynb>data table notebook</a>'\n",
              "            + ' to learn more about interactive tables.';\n",
              "          element.innerHTML = '';\n",
              "          dataTable['output_type'] = 'display_data';\n",
              "          await google.colab.output.renderOutput(dataTable, element);\n",
              "          const docLink = document.createElement('div');\n",
              "          docLink.innerHTML = docLinkHtml;\n",
              "          element.appendChild(docLink);\n",
              "        }\n",
              "      </script>\n",
              "    </div>\n",
              "  </div>\n",
              "  "
            ]
          },
          "metadata": {},
          "execution_count": 60
        }
      ]
    },
    {
      "cell_type": "code",
      "source": [
        "# Vamos tentar One-Hot Encoding nosso DataFrame\n",
        "insurance_one_hot = pd.get_dummies(insurance)\n",
        "insurance_one_hot.head()"
      ],
      "metadata": {
        "colab": {
          "base_uri": "https://localhost:8080/",
          "height": 206
        },
        "id": "IaqC_kJpt3q-",
        "outputId": "8f23ea53-2d09-47cd-cecd-babf29618079"
      },
      "execution_count": null,
      "outputs": [
        {
          "output_type": "execute_result",
          "data": {
            "text/plain": [
              "   age     bmi  children      charges  sex_female  sex_male  smoker_no  \\\n",
              "0   19  27.900         0  16884.92400           1         0          0   \n",
              "1   18  33.770         1   1725.55230           0         1          1   \n",
              "2   28  33.000         3   4449.46200           0         1          1   \n",
              "3   33  22.705         0  21984.47061           0         1          1   \n",
              "4   32  28.880         0   3866.85520           0         1          1   \n",
              "\n",
              "   smoker_yes  region_northeast  region_northwest  region_southeast  \\\n",
              "0           1                 0                 0                 0   \n",
              "1           0                 0                 0                 1   \n",
              "2           0                 0                 0                 1   \n",
              "3           0                 0                 1                 0   \n",
              "4           0                 0                 1                 0   \n",
              "\n",
              "   region_southwest  \n",
              "0                 1  \n",
              "1                 0  \n",
              "2                 0  \n",
              "3                 0  \n",
              "4                 0  "
            ],
            "text/html": [
              "\n",
              "  <div id=\"df-0e5f8558-6141-40a9-8d77-16fc7743bb62\">\n",
              "    <div class=\"colab-df-container\">\n",
              "      <div>\n",
              "<style scoped>\n",
              "    .dataframe tbody tr th:only-of-type {\n",
              "        vertical-align: middle;\n",
              "    }\n",
              "\n",
              "    .dataframe tbody tr th {\n",
              "        vertical-align: top;\n",
              "    }\n",
              "\n",
              "    .dataframe thead th {\n",
              "        text-align: right;\n",
              "    }\n",
              "</style>\n",
              "<table border=\"1\" class=\"dataframe\">\n",
              "  <thead>\n",
              "    <tr style=\"text-align: right;\">\n",
              "      <th></th>\n",
              "      <th>age</th>\n",
              "      <th>bmi</th>\n",
              "      <th>children</th>\n",
              "      <th>charges</th>\n",
              "      <th>sex_female</th>\n",
              "      <th>sex_male</th>\n",
              "      <th>smoker_no</th>\n",
              "      <th>smoker_yes</th>\n",
              "      <th>region_northeast</th>\n",
              "      <th>region_northwest</th>\n",
              "      <th>region_southeast</th>\n",
              "      <th>region_southwest</th>\n",
              "    </tr>\n",
              "  </thead>\n",
              "  <tbody>\n",
              "    <tr>\n",
              "      <th>0</th>\n",
              "      <td>19</td>\n",
              "      <td>27.900</td>\n",
              "      <td>0</td>\n",
              "      <td>16884.92400</td>\n",
              "      <td>1</td>\n",
              "      <td>0</td>\n",
              "      <td>0</td>\n",
              "      <td>1</td>\n",
              "      <td>0</td>\n",
              "      <td>0</td>\n",
              "      <td>0</td>\n",
              "      <td>1</td>\n",
              "    </tr>\n",
              "    <tr>\n",
              "      <th>1</th>\n",
              "      <td>18</td>\n",
              "      <td>33.770</td>\n",
              "      <td>1</td>\n",
              "      <td>1725.55230</td>\n",
              "      <td>0</td>\n",
              "      <td>1</td>\n",
              "      <td>1</td>\n",
              "      <td>0</td>\n",
              "      <td>0</td>\n",
              "      <td>0</td>\n",
              "      <td>1</td>\n",
              "      <td>0</td>\n",
              "    </tr>\n",
              "    <tr>\n",
              "      <th>2</th>\n",
              "      <td>28</td>\n",
              "      <td>33.000</td>\n",
              "      <td>3</td>\n",
              "      <td>4449.46200</td>\n",
              "      <td>0</td>\n",
              "      <td>1</td>\n",
              "      <td>1</td>\n",
              "      <td>0</td>\n",
              "      <td>0</td>\n",
              "      <td>0</td>\n",
              "      <td>1</td>\n",
              "      <td>0</td>\n",
              "    </tr>\n",
              "    <tr>\n",
              "      <th>3</th>\n",
              "      <td>33</td>\n",
              "      <td>22.705</td>\n",
              "      <td>0</td>\n",
              "      <td>21984.47061</td>\n",
              "      <td>0</td>\n",
              "      <td>1</td>\n",
              "      <td>1</td>\n",
              "      <td>0</td>\n",
              "      <td>0</td>\n",
              "      <td>1</td>\n",
              "      <td>0</td>\n",
              "      <td>0</td>\n",
              "    </tr>\n",
              "    <tr>\n",
              "      <th>4</th>\n",
              "      <td>32</td>\n",
              "      <td>28.880</td>\n",
              "      <td>0</td>\n",
              "      <td>3866.85520</td>\n",
              "      <td>0</td>\n",
              "      <td>1</td>\n",
              "      <td>1</td>\n",
              "      <td>0</td>\n",
              "      <td>0</td>\n",
              "      <td>1</td>\n",
              "      <td>0</td>\n",
              "      <td>0</td>\n",
              "    </tr>\n",
              "  </tbody>\n",
              "</table>\n",
              "</div>\n",
              "      <button class=\"colab-df-convert\" onclick=\"convertToInteractive('df-0e5f8558-6141-40a9-8d77-16fc7743bb62')\"\n",
              "              title=\"Convert this dataframe to an interactive table.\"\n",
              "              style=\"display:none;\">\n",
              "        \n",
              "  <svg xmlns=\"http://www.w3.org/2000/svg\" height=\"24px\"viewBox=\"0 0 24 24\"\n",
              "       width=\"24px\">\n",
              "    <path d=\"M0 0h24v24H0V0z\" fill=\"none\"/>\n",
              "    <path d=\"M18.56 5.44l.94 2.06.94-2.06 2.06-.94-2.06-.94-.94-2.06-.94 2.06-2.06.94zm-11 1L8.5 8.5l.94-2.06 2.06-.94-2.06-.94L8.5 2.5l-.94 2.06-2.06.94zm10 10l.94 2.06.94-2.06 2.06-.94-2.06-.94-.94-2.06-.94 2.06-2.06.94z\"/><path d=\"M17.41 7.96l-1.37-1.37c-.4-.4-.92-.59-1.43-.59-.52 0-1.04.2-1.43.59L10.3 9.45l-7.72 7.72c-.78.78-.78 2.05 0 2.83L4 21.41c.39.39.9.59 1.41.59.51 0 1.02-.2 1.41-.59l7.78-7.78 2.81-2.81c.8-.78.8-2.07 0-2.86zM5.41 20L4 18.59l7.72-7.72 1.47 1.35L5.41 20z\"/>\n",
              "  </svg>\n",
              "      </button>\n",
              "      \n",
              "  <style>\n",
              "    .colab-df-container {\n",
              "      display:flex;\n",
              "      flex-wrap:wrap;\n",
              "      gap: 12px;\n",
              "    }\n",
              "\n",
              "    .colab-df-convert {\n",
              "      background-color: #E8F0FE;\n",
              "      border: none;\n",
              "      border-radius: 50%;\n",
              "      cursor: pointer;\n",
              "      display: none;\n",
              "      fill: #1967D2;\n",
              "      height: 32px;\n",
              "      padding: 0 0 0 0;\n",
              "      width: 32px;\n",
              "    }\n",
              "\n",
              "    .colab-df-convert:hover {\n",
              "      background-color: #E2EBFA;\n",
              "      box-shadow: 0px 1px 2px rgba(60, 64, 67, 0.3), 0px 1px 3px 1px rgba(60, 64, 67, 0.15);\n",
              "      fill: #174EA6;\n",
              "    }\n",
              "\n",
              "    [theme=dark] .colab-df-convert {\n",
              "      background-color: #3B4455;\n",
              "      fill: #D2E3FC;\n",
              "    }\n",
              "\n",
              "    [theme=dark] .colab-df-convert:hover {\n",
              "      background-color: #434B5C;\n",
              "      box-shadow: 0px 1px 3px 1px rgba(0, 0, 0, 0.15);\n",
              "      filter: drop-shadow(0px 1px 2px rgba(0, 0, 0, 0.3));\n",
              "      fill: #FFFFFF;\n",
              "    }\n",
              "  </style>\n",
              "\n",
              "      <script>\n",
              "        const buttonEl =\n",
              "          document.querySelector('#df-0e5f8558-6141-40a9-8d77-16fc7743bb62 button.colab-df-convert');\n",
              "        buttonEl.style.display =\n",
              "          google.colab.kernel.accessAllowed ? 'block' : 'none';\n",
              "\n",
              "        async function convertToInteractive(key) {\n",
              "          const element = document.querySelector('#df-0e5f8558-6141-40a9-8d77-16fc7743bb62');\n",
              "          const dataTable =\n",
              "            await google.colab.kernel.invokeFunction('convertToInteractive',\n",
              "                                                     [key], {});\n",
              "          if (!dataTable) return;\n",
              "\n",
              "          const docLinkHtml = 'Like what you see? Visit the ' +\n",
              "            '<a target=\"_blank\" href=https://colab.research.google.com/notebooks/data_table.ipynb>data table notebook</a>'\n",
              "            + ' to learn more about interactive tables.';\n",
              "          element.innerHTML = '';\n",
              "          dataTable['output_type'] = 'display_data';\n",
              "          await google.colab.output.renderOutput(dataTable, element);\n",
              "          const docLink = document.createElement('div');\n",
              "          docLink.innerHTML = docLinkHtml;\n",
              "          element.appendChild(docLink);\n",
              "        }\n",
              "      </script>\n",
              "    </div>\n",
              "  </div>\n",
              "  "
            ]
          },
          "metadata": {},
          "execution_count": 61
        }
      ]
    },
    {
      "cell_type": "code",
      "source": [
        "# Crie valores de X e Y (da equação linear)\n",
        "X = insurance_one_hot.drop(\"charges\", axis=1)\n",
        "Y = insurance_one_hot[\"charges\"]"
      ],
      "metadata": {
        "id": "K_WsaduLv0np"
      },
      "execution_count": null,
      "outputs": []
    },
    {
      "cell_type": "code",
      "source": [
        "# Ver X\n",
        "X.head()"
      ],
      "metadata": {
        "colab": {
          "base_uri": "https://localhost:8080/",
          "height": 206
        },
        "id": "IO9O3wGYEw7S",
        "outputId": "6c765608-2dea-4af9-8077-a262b043bace"
      },
      "execution_count": null,
      "outputs": [
        {
          "output_type": "execute_result",
          "data": {
            "text/plain": [
              "   age     bmi  children  sex_female  sex_male  smoker_no  smoker_yes  \\\n",
              "0   19  27.900         0           1         0          0           1   \n",
              "1   18  33.770         1           0         1          1           0   \n",
              "2   28  33.000         3           0         1          1           0   \n",
              "3   33  22.705         0           0         1          1           0   \n",
              "4   32  28.880         0           0         1          1           0   \n",
              "\n",
              "   region_northeast  region_northwest  region_southeast  region_southwest  \n",
              "0                 0                 0                 0                 1  \n",
              "1                 0                 0                 1                 0  \n",
              "2                 0                 0                 1                 0  \n",
              "3                 0                 1                 0                 0  \n",
              "4                 0                 1                 0                 0  "
            ],
            "text/html": [
              "\n",
              "  <div id=\"df-26386534-473f-4e65-9b1d-f1c9ba4a525f\">\n",
              "    <div class=\"colab-df-container\">\n",
              "      <div>\n",
              "<style scoped>\n",
              "    .dataframe tbody tr th:only-of-type {\n",
              "        vertical-align: middle;\n",
              "    }\n",
              "\n",
              "    .dataframe tbody tr th {\n",
              "        vertical-align: top;\n",
              "    }\n",
              "\n",
              "    .dataframe thead th {\n",
              "        text-align: right;\n",
              "    }\n",
              "</style>\n",
              "<table border=\"1\" class=\"dataframe\">\n",
              "  <thead>\n",
              "    <tr style=\"text-align: right;\">\n",
              "      <th></th>\n",
              "      <th>age</th>\n",
              "      <th>bmi</th>\n",
              "      <th>children</th>\n",
              "      <th>sex_female</th>\n",
              "      <th>sex_male</th>\n",
              "      <th>smoker_no</th>\n",
              "      <th>smoker_yes</th>\n",
              "      <th>region_northeast</th>\n",
              "      <th>region_northwest</th>\n",
              "      <th>region_southeast</th>\n",
              "      <th>region_southwest</th>\n",
              "    </tr>\n",
              "  </thead>\n",
              "  <tbody>\n",
              "    <tr>\n",
              "      <th>0</th>\n",
              "      <td>19</td>\n",
              "      <td>27.900</td>\n",
              "      <td>0</td>\n",
              "      <td>1</td>\n",
              "      <td>0</td>\n",
              "      <td>0</td>\n",
              "      <td>1</td>\n",
              "      <td>0</td>\n",
              "      <td>0</td>\n",
              "      <td>0</td>\n",
              "      <td>1</td>\n",
              "    </tr>\n",
              "    <tr>\n",
              "      <th>1</th>\n",
              "      <td>18</td>\n",
              "      <td>33.770</td>\n",
              "      <td>1</td>\n",
              "      <td>0</td>\n",
              "      <td>1</td>\n",
              "      <td>1</td>\n",
              "      <td>0</td>\n",
              "      <td>0</td>\n",
              "      <td>0</td>\n",
              "      <td>1</td>\n",
              "      <td>0</td>\n",
              "    </tr>\n",
              "    <tr>\n",
              "      <th>2</th>\n",
              "      <td>28</td>\n",
              "      <td>33.000</td>\n",
              "      <td>3</td>\n",
              "      <td>0</td>\n",
              "      <td>1</td>\n",
              "      <td>1</td>\n",
              "      <td>0</td>\n",
              "      <td>0</td>\n",
              "      <td>0</td>\n",
              "      <td>1</td>\n",
              "      <td>0</td>\n",
              "    </tr>\n",
              "    <tr>\n",
              "      <th>3</th>\n",
              "      <td>33</td>\n",
              "      <td>22.705</td>\n",
              "      <td>0</td>\n",
              "      <td>0</td>\n",
              "      <td>1</td>\n",
              "      <td>1</td>\n",
              "      <td>0</td>\n",
              "      <td>0</td>\n",
              "      <td>1</td>\n",
              "      <td>0</td>\n",
              "      <td>0</td>\n",
              "    </tr>\n",
              "    <tr>\n",
              "      <th>4</th>\n",
              "      <td>32</td>\n",
              "      <td>28.880</td>\n",
              "      <td>0</td>\n",
              "      <td>0</td>\n",
              "      <td>1</td>\n",
              "      <td>1</td>\n",
              "      <td>0</td>\n",
              "      <td>0</td>\n",
              "      <td>1</td>\n",
              "      <td>0</td>\n",
              "      <td>0</td>\n",
              "    </tr>\n",
              "  </tbody>\n",
              "</table>\n",
              "</div>\n",
              "      <button class=\"colab-df-convert\" onclick=\"convertToInteractive('df-26386534-473f-4e65-9b1d-f1c9ba4a525f')\"\n",
              "              title=\"Convert this dataframe to an interactive table.\"\n",
              "              style=\"display:none;\">\n",
              "        \n",
              "  <svg xmlns=\"http://www.w3.org/2000/svg\" height=\"24px\"viewBox=\"0 0 24 24\"\n",
              "       width=\"24px\">\n",
              "    <path d=\"M0 0h24v24H0V0z\" fill=\"none\"/>\n",
              "    <path d=\"M18.56 5.44l.94 2.06.94-2.06 2.06-.94-2.06-.94-.94-2.06-.94 2.06-2.06.94zm-11 1L8.5 8.5l.94-2.06 2.06-.94-2.06-.94L8.5 2.5l-.94 2.06-2.06.94zm10 10l.94 2.06.94-2.06 2.06-.94-2.06-.94-.94-2.06-.94 2.06-2.06.94z\"/><path d=\"M17.41 7.96l-1.37-1.37c-.4-.4-.92-.59-1.43-.59-.52 0-1.04.2-1.43.59L10.3 9.45l-7.72 7.72c-.78.78-.78 2.05 0 2.83L4 21.41c.39.39.9.59 1.41.59.51 0 1.02-.2 1.41-.59l7.78-7.78 2.81-2.81c.8-.78.8-2.07 0-2.86zM5.41 20L4 18.59l7.72-7.72 1.47 1.35L5.41 20z\"/>\n",
              "  </svg>\n",
              "      </button>\n",
              "      \n",
              "  <style>\n",
              "    .colab-df-container {\n",
              "      display:flex;\n",
              "      flex-wrap:wrap;\n",
              "      gap: 12px;\n",
              "    }\n",
              "\n",
              "    .colab-df-convert {\n",
              "      background-color: #E8F0FE;\n",
              "      border: none;\n",
              "      border-radius: 50%;\n",
              "      cursor: pointer;\n",
              "      display: none;\n",
              "      fill: #1967D2;\n",
              "      height: 32px;\n",
              "      padding: 0 0 0 0;\n",
              "      width: 32px;\n",
              "    }\n",
              "\n",
              "    .colab-df-convert:hover {\n",
              "      background-color: #E2EBFA;\n",
              "      box-shadow: 0px 1px 2px rgba(60, 64, 67, 0.3), 0px 1px 3px 1px rgba(60, 64, 67, 0.15);\n",
              "      fill: #174EA6;\n",
              "    }\n",
              "\n",
              "    [theme=dark] .colab-df-convert {\n",
              "      background-color: #3B4455;\n",
              "      fill: #D2E3FC;\n",
              "    }\n",
              "\n",
              "    [theme=dark] .colab-df-convert:hover {\n",
              "      background-color: #434B5C;\n",
              "      box-shadow: 0px 1px 3px 1px rgba(0, 0, 0, 0.15);\n",
              "      filter: drop-shadow(0px 1px 2px rgba(0, 0, 0, 0.3));\n",
              "      fill: #FFFFFF;\n",
              "    }\n",
              "  </style>\n",
              "\n",
              "      <script>\n",
              "        const buttonEl =\n",
              "          document.querySelector('#df-26386534-473f-4e65-9b1d-f1c9ba4a525f button.colab-df-convert');\n",
              "        buttonEl.style.display =\n",
              "          google.colab.kernel.accessAllowed ? 'block' : 'none';\n",
              "\n",
              "        async function convertToInteractive(key) {\n",
              "          const element = document.querySelector('#df-26386534-473f-4e65-9b1d-f1c9ba4a525f');\n",
              "          const dataTable =\n",
              "            await google.colab.kernel.invokeFunction('convertToInteractive',\n",
              "                                                     [key], {});\n",
              "          if (!dataTable) return;\n",
              "\n",
              "          const docLinkHtml = 'Like what you see? Visit the ' +\n",
              "            '<a target=\"_blank\" href=https://colab.research.google.com/notebooks/data_table.ipynb>data table notebook</a>'\n",
              "            + ' to learn more about interactive tables.';\n",
              "          element.innerHTML = '';\n",
              "          dataTable['output_type'] = 'display_data';\n",
              "          await google.colab.output.renderOutput(dataTable, element);\n",
              "          const docLink = document.createElement('div');\n",
              "          docLink.innerHTML = docLinkHtml;\n",
              "          element.appendChild(docLink);\n",
              "        }\n",
              "      </script>\n",
              "    </div>\n",
              "  </div>\n",
              "  "
            ]
          },
          "metadata": {},
          "execution_count": 63
        }
      ]
    },
    {
      "cell_type": "code",
      "source": [
        "# Ver Y\n",
        "Y.head()"
      ],
      "metadata": {
        "colab": {
          "base_uri": "https://localhost:8080/"
        },
        "id": "11-Z3gIvE3U1",
        "outputId": "269c1d21-5ad2-4803-d80d-33a4694b9db2"
      },
      "execution_count": null,
      "outputs": [
        {
          "output_type": "execute_result",
          "data": {
            "text/plain": [
              "0    16884.92400\n",
              "1     1725.55230\n",
              "2     4449.46200\n",
              "3    21984.47061\n",
              "4     3866.85520\n",
              "Name: charges, dtype: float64"
            ]
          },
          "metadata": {},
          "execution_count": 64
        }
      ]
    },
    {
      "cell_type": "code",
      "source": [
        "# Crie as amostras de treino e de teste\n",
        "from sklearn.model_selection import train_test_split\n",
        "X_train, X_test, Y_train, Y_test = train_test_split(X, Y, test_size=0.2, random_state=42)\n",
        "len(X), len(X_train), len(X_test)"
      ],
      "metadata": {
        "colab": {
          "base_uri": "https://localhost:8080/"
        },
        "id": "cEosoD4JEF3G",
        "outputId": "85f49c09-345a-41e6-a9d6-9e5dc240a928"
      },
      "execution_count": null,
      "outputs": [
        {
          "output_type": "execute_result",
          "data": {
            "text/plain": [
              "(1338, 1070, 268)"
            ]
          },
          "metadata": {},
          "execution_count": 65
        }
      ]
    },
    {
      "cell_type": "code",
      "source": [
        "# Construa uma rede neural\n",
        "insurance_model = tf.keras.Sequential([\n",
        "    tf.keras.layers.Dense(1),\n",
        "    tf.keras.layers.Dense(1)\n",
        "])\n",
        "\n",
        "insurance_model.compile(loss=tf.keras.losses.mae,\n",
        "              optimizer=tf.keras.optimizers.SGD(),\n",
        "              metrics=[\"mse\"])\n",
        "\n",
        "insurance_model.fit(tf.expand_dims(X_train, axis=-1), Y_train, epochs=100)"
      ],
      "metadata": {
        "colab": {
          "base_uri": "https://localhost:8080/"
        },
        "id": "Qyro5jl0EHq4",
        "outputId": "23ebc4f9-c132-40fb-919c-0be41205bdd5"
      },
      "execution_count": null,
      "outputs": [
        {
          "output_type": "stream",
          "name": "stdout",
          "text": [
            "Epoch 1/100\n",
            "34/34 [==============================] - 1s 4ms/step - loss: 13270.2158 - mse: 320318208.0000\n",
            "Epoch 2/100\n",
            "34/34 [==============================] - 0s 3ms/step - loss: 12369.2061 - mse: 295420224.0000\n",
            "Epoch 3/100\n",
            "34/34 [==============================] - 0s 4ms/step - loss: 12177.5264 - mse: 289027808.0000\n",
            "Epoch 4/100\n",
            "34/34 [==============================] - 0s 4ms/step - loss: 12104.4453 - mse: 287086496.0000\n",
            "Epoch 5/100\n",
            "34/34 [==============================] - 0s 4ms/step - loss: 11993.3477 - mse: 283667232.0000\n",
            "Epoch 6/100\n",
            "34/34 [==============================] - 0s 4ms/step - loss: 11813.7061 - mse: 279453632.0000\n",
            "Epoch 7/100\n",
            "34/34 [==============================] - 0s 4ms/step - loss: 11500.3320 - mse: 271534880.0000\n",
            "Epoch 8/100\n",
            "34/34 [==============================] - 0s 4ms/step - loss: 11000.1396 - mse: 258673648.0000\n",
            "Epoch 9/100\n",
            "34/34 [==============================] - 0s 4ms/step - loss: 10386.7773 - mse: 241639936.0000\n",
            "Epoch 10/100\n",
            "34/34 [==============================] - 0s 4ms/step - loss: 9741.2568 - mse: 222752784.0000\n",
            "Epoch 11/100\n",
            "34/34 [==============================] - 0s 3ms/step - loss: 9214.6963 - mse: 203914720.0000\n",
            "Epoch 12/100\n",
            "34/34 [==============================] - 0s 3ms/step - loss: 8858.6162 - mse: 190106528.0000\n",
            "Epoch 13/100\n",
            "34/34 [==============================] - 0s 6ms/step - loss: 8667.2520 - mse: 179537472.0000\n",
            "Epoch 14/100\n",
            "34/34 [==============================] - 0s 6ms/step - loss: 8600.0586 - mse: 172673328.0000\n",
            "Epoch 15/100\n",
            "34/34 [==============================] - 0s 5ms/step - loss: 8455.1865 - mse: 167425392.0000\n",
            "Epoch 16/100\n",
            "34/34 [==============================] - 0s 6ms/step - loss: 8466.1221 - mse: 165625968.0000\n",
            "Epoch 17/100\n",
            "34/34 [==============================] - 0s 6ms/step - loss: 8617.9766 - mse: 168486912.0000\n",
            "Epoch 18/100\n",
            "34/34 [==============================] - 0s 6ms/step - loss: 8529.8525 - mse: 165073024.0000\n",
            "Epoch 19/100\n",
            "34/34 [==============================] - 0s 5ms/step - loss: 8465.0996 - mse: 164650880.0000\n",
            "Epoch 20/100\n",
            "34/34 [==============================] - 0s 5ms/step - loss: 8560.3945 - mse: 164893488.0000\n",
            "Epoch 21/100\n",
            "34/34 [==============================] - 0s 6ms/step - loss: 8503.6318 - mse: 164906016.0000\n",
            "Epoch 22/100\n",
            "34/34 [==============================] - 0s 6ms/step - loss: 8615.5459 - mse: 166955280.0000\n",
            "Epoch 23/100\n",
            "34/34 [==============================] - 0s 5ms/step - loss: 8541.3447 - mse: 164527280.0000\n",
            "Epoch 24/100\n",
            "34/34 [==============================] - 0s 6ms/step - loss: 8490.6396 - mse: 163987424.0000\n",
            "Epoch 25/100\n",
            "34/34 [==============================] - 0s 5ms/step - loss: 8452.5283 - mse: 162457664.0000\n",
            "Epoch 26/100\n",
            "34/34 [==============================] - 0s 5ms/step - loss: 8389.2920 - mse: 161985472.0000\n",
            "Epoch 27/100\n",
            "34/34 [==============================] - 0s 6ms/step - loss: 8533.2656 - mse: 165205104.0000\n",
            "Epoch 28/100\n",
            "34/34 [==============================] - 0s 5ms/step - loss: 8425.9395 - mse: 162973456.0000\n",
            "Epoch 29/100\n",
            "34/34 [==============================] - 0s 6ms/step - loss: 8430.9541 - mse: 162237728.0000\n",
            "Epoch 30/100\n",
            "34/34 [==============================] - 0s 6ms/step - loss: 8499.1602 - mse: 163107104.0000\n",
            "Epoch 31/100\n",
            "34/34 [==============================] - 0s 5ms/step - loss: 8462.8779 - mse: 164213872.0000\n",
            "Epoch 32/100\n",
            "34/34 [==============================] - 0s 4ms/step - loss: 8467.4746 - mse: 163197648.0000\n",
            "Epoch 33/100\n",
            "34/34 [==============================] - 0s 4ms/step - loss: 8393.6543 - mse: 161940160.0000\n",
            "Epoch 34/100\n",
            "34/34 [==============================] - 0s 3ms/step - loss: 8440.6152 - mse: 162324592.0000\n",
            "Epoch 35/100\n",
            "34/34 [==============================] - 0s 3ms/step - loss: 8427.4033 - mse: 161463360.0000\n",
            "Epoch 36/100\n",
            "34/34 [==============================] - 0s 3ms/step - loss: 8405.9365 - mse: 161656112.0000\n",
            "Epoch 37/100\n",
            "34/34 [==============================] - 0s 4ms/step - loss: 8464.4590 - mse: 163446000.0000\n",
            "Epoch 38/100\n",
            "34/34 [==============================] - 0s 4ms/step - loss: 8400.9697 - mse: 161619792.0000\n",
            "Epoch 39/100\n",
            "34/34 [==============================] - 0s 4ms/step - loss: 8423.9219 - mse: 162566288.0000\n",
            "Epoch 40/100\n",
            "34/34 [==============================] - 0s 4ms/step - loss: 8357.9131 - mse: 160729712.0000\n",
            "Epoch 41/100\n",
            "34/34 [==============================] - 0s 4ms/step - loss: 8406.8389 - mse: 161639312.0000\n",
            "Epoch 42/100\n",
            "34/34 [==============================] - 0s 4ms/step - loss: 8406.5674 - mse: 161926816.0000\n",
            "Epoch 43/100\n",
            "34/34 [==============================] - 0s 4ms/step - loss: 8471.1934 - mse: 162365696.0000\n",
            "Epoch 44/100\n",
            "34/34 [==============================] - 0s 3ms/step - loss: 8372.6797 - mse: 161291424.0000\n",
            "Epoch 45/100\n",
            "34/34 [==============================] - 0s 4ms/step - loss: 8415.0264 - mse: 161225344.0000\n",
            "Epoch 46/100\n",
            "34/34 [==============================] - 0s 3ms/step - loss: 8398.4941 - mse: 161829280.0000\n",
            "Epoch 47/100\n",
            "34/34 [==============================] - 0s 4ms/step - loss: 8396.6104 - mse: 160494000.0000\n",
            "Epoch 48/100\n",
            "34/34 [==============================] - 0s 3ms/step - loss: 8368.1729 - mse: 160821520.0000\n",
            "Epoch 49/100\n",
            "34/34 [==============================] - 0s 4ms/step - loss: 8414.5400 - mse: 161364352.0000\n",
            "Epoch 50/100\n",
            "34/34 [==============================] - 0s 4ms/step - loss: 8390.8691 - mse: 161501520.0000\n",
            "Epoch 51/100\n",
            "34/34 [==============================] - 0s 3ms/step - loss: 8356.5205 - mse: 159906432.0000\n",
            "Epoch 52/100\n",
            "34/34 [==============================] - 0s 3ms/step - loss: 8371.8428 - mse: 161957792.0000\n",
            "Epoch 53/100\n",
            "34/34 [==============================] - 0s 4ms/step - loss: 8439.8125 - mse: 163479024.0000\n",
            "Epoch 54/100\n",
            "34/34 [==============================] - 0s 3ms/step - loss: 8395.5225 - mse: 160685488.0000\n",
            "Epoch 55/100\n",
            "34/34 [==============================] - 0s 3ms/step - loss: 8357.9121 - mse: 161562944.0000\n",
            "Epoch 56/100\n",
            "34/34 [==============================] - 0s 3ms/step - loss: 8378.7871 - mse: 160795072.0000\n",
            "Epoch 57/100\n",
            "34/34 [==============================] - 0s 4ms/step - loss: 8392.5791 - mse: 161834848.0000\n",
            "Epoch 58/100\n",
            "34/34 [==============================] - 0s 4ms/step - loss: 8345.0459 - mse: 160652336.0000\n",
            "Epoch 59/100\n",
            "34/34 [==============================] - 0s 3ms/step - loss: 8419.8857 - mse: 162186752.0000\n",
            "Epoch 60/100\n",
            "34/34 [==============================] - 0s 4ms/step - loss: 8435.4922 - mse: 162533344.0000\n",
            "Epoch 61/100\n",
            "34/34 [==============================] - 0s 4ms/step - loss: 8411.8457 - mse: 160800784.0000\n",
            "Epoch 62/100\n",
            "34/34 [==============================] - 0s 3ms/step - loss: 8347.6680 - mse: 161182896.0000\n",
            "Epoch 63/100\n",
            "34/34 [==============================] - 0s 4ms/step - loss: 8379.1455 - mse: 161297104.0000\n",
            "Epoch 64/100\n",
            "34/34 [==============================] - 0s 4ms/step - loss: 8394.3682 - mse: 161168528.0000\n",
            "Epoch 65/100\n",
            "34/34 [==============================] - 0s 4ms/step - loss: 8394.5117 - mse: 161930464.0000\n",
            "Epoch 66/100\n",
            "34/34 [==============================] - 0s 3ms/step - loss: 8379.8105 - mse: 160502112.0000\n",
            "Epoch 67/100\n",
            "34/34 [==============================] - 0s 3ms/step - loss: 8327.7314 - mse: 160112000.0000\n",
            "Epoch 68/100\n",
            "34/34 [==============================] - 0s 3ms/step - loss: 8332.8799 - mse: 160754032.0000\n",
            "Epoch 69/100\n",
            "34/34 [==============================] - 0s 3ms/step - loss: 8354.5449 - mse: 160916112.0000\n",
            "Epoch 70/100\n",
            "34/34 [==============================] - 0s 4ms/step - loss: 8411.7314 - mse: 163245808.0000\n",
            "Epoch 71/100\n",
            "34/34 [==============================] - 0s 3ms/step - loss: 8355.1396 - mse: 161007216.0000\n",
            "Epoch 72/100\n",
            "34/34 [==============================] - 0s 4ms/step - loss: 8366.6660 - mse: 160134096.0000\n",
            "Epoch 73/100\n",
            "34/34 [==============================] - 0s 4ms/step - loss: 8355.1572 - mse: 160469728.0000\n",
            "Epoch 74/100\n",
            "34/34 [==============================] - 0s 4ms/step - loss: 8365.5029 - mse: 161126720.0000\n",
            "Epoch 75/100\n",
            "34/34 [==============================] - 0s 4ms/step - loss: 8340.7217 - mse: 159521760.0000\n",
            "Epoch 76/100\n",
            "34/34 [==============================] - 0s 4ms/step - loss: 8342.9150 - mse: 161059568.0000\n",
            "Epoch 77/100\n",
            "34/34 [==============================] - 0s 4ms/step - loss: 8377.1211 - mse: 160802624.0000\n",
            "Epoch 78/100\n",
            "34/34 [==============================] - 0s 3ms/step - loss: 8360.7500 - mse: 160960672.0000\n",
            "Epoch 79/100\n",
            "34/34 [==============================] - 0s 4ms/step - loss: 8398.0195 - mse: 161398208.0000\n",
            "Epoch 80/100\n",
            "34/34 [==============================] - 0s 4ms/step - loss: 8324.7588 - mse: 159942864.0000\n",
            "Epoch 81/100\n",
            "34/34 [==============================] - 0s 4ms/step - loss: 8360.5195 - mse: 160307536.0000\n",
            "Epoch 82/100\n",
            "34/34 [==============================] - 0s 3ms/step - loss: 8347.8369 - mse: 158777936.0000\n",
            "Epoch 83/100\n",
            "34/34 [==============================] - 0s 3ms/step - loss: 8411.9268 - mse: 162208640.0000\n",
            "Epoch 84/100\n",
            "34/34 [==============================] - 0s 3ms/step - loss: 8348.7324 - mse: 160899616.0000\n",
            "Epoch 85/100\n",
            "34/34 [==============================] - 0s 3ms/step - loss: 8368.1729 - mse: 161083024.0000\n",
            "Epoch 86/100\n",
            "34/34 [==============================] - 0s 3ms/step - loss: 8363.6826 - mse: 160619808.0000\n",
            "Epoch 87/100\n",
            "34/34 [==============================] - 0s 3ms/step - loss: 8359.4443 - mse: 160864128.0000\n",
            "Epoch 88/100\n",
            "34/34 [==============================] - 0s 4ms/step - loss: 8363.7217 - mse: 160443008.0000\n",
            "Epoch 89/100\n",
            "34/34 [==============================] - 0s 4ms/step - loss: 8387.1846 - mse: 162135552.0000\n",
            "Epoch 90/100\n",
            "34/34 [==============================] - 0s 3ms/step - loss: 8328.2549 - mse: 158987952.0000\n",
            "Epoch 91/100\n",
            "34/34 [==============================] - 0s 4ms/step - loss: 8359.6924 - mse: 160958032.0000\n",
            "Epoch 92/100\n",
            "34/34 [==============================] - 0s 4ms/step - loss: 8376.0986 - mse: 160183696.0000\n",
            "Epoch 93/100\n",
            "34/34 [==============================] - 0s 4ms/step - loss: 8343.6123 - mse: 161091168.0000\n",
            "Epoch 94/100\n",
            "34/34 [==============================] - 0s 4ms/step - loss: 8316.9199 - mse: 160172672.0000\n",
            "Epoch 95/100\n",
            "34/34 [==============================] - 0s 4ms/step - loss: 8334.0234 - mse: 159984672.0000\n",
            "Epoch 96/100\n",
            "34/34 [==============================] - 0s 3ms/step - loss: 8347.6641 - mse: 160165536.0000\n",
            "Epoch 97/100\n",
            "34/34 [==============================] - 0s 4ms/step - loss: 8347.8574 - mse: 160115536.0000\n",
            "Epoch 98/100\n",
            "34/34 [==============================] - 0s 3ms/step - loss: 8348.9258 - mse: 161775472.0000\n",
            "Epoch 99/100\n",
            "34/34 [==============================] - 0s 3ms/step - loss: 8324.4463 - mse: 160090032.0000\n",
            "Epoch 100/100\n",
            "34/34 [==============================] - 0s 4ms/step - loss: 8343.4316 - mse: 160715168.0000\n"
          ]
        },
        {
          "output_type": "execute_result",
          "data": {
            "text/plain": [
              "<keras.callbacks.History at 0x7f3ebc5992d0>"
            ]
          },
          "metadata": {},
          "execution_count": 66
        }
      ]
    },
    {
      "cell_type": "code",
      "source": [
        "# Verificar o resultado do modelo\n",
        "insurance_model.evaluate(X_test, Y_test)"
      ],
      "metadata": {
        "colab": {
          "base_uri": "https://localhost:8080/"
        },
        "id": "xa93xBdBI5G7",
        "outputId": "fae41b50-ebe6-4de5-8363-7b9b5b5522b7"
      },
      "execution_count": null,
      "outputs": [
        {
          "output_type": "stream",
          "name": "stdout",
          "text": [
            "9/9 [==============================] - 0s 3ms/step - loss: 8982.6787 - mse: 165086768.0000\n"
          ]
        },
        {
          "output_type": "execute_result",
          "data": {
            "text/plain": [
              "[8982.6787109375, 165086768.0]"
            ]
          },
          "metadata": {},
          "execution_count": 67
        }
      ]
    },
    {
      "cell_type": "code",
      "source": [
        "Y_train.median(), Y_train.mean()"
      ],
      "metadata": {
        "colab": {
          "base_uri": "https://localhost:8080/"
        },
        "id": "UN8UiZUBJXO3",
        "outputId": "a95640d2-d9ce-409c-f4b5-679c01b088ed"
      },
      "execution_count": null,
      "outputs": [
        {
          "output_type": "execute_result",
          "data": {
            "text/plain": [
              "(9575.4421, 13346.089736364485)"
            ]
          },
          "metadata": {},
          "execution_count": 68
        }
      ]
    },
    {
      "cell_type": "code",
      "source": [
        "from keras.engine.training import optimizer\n",
        "tf.random.set_seed(42)\n",
        "\n",
        "insurance_model_2 = tf.keras.Sequential([\n",
        "    tf.keras.layers.Dense(100),\n",
        "    tf.keras.layers.Dense(10),\n",
        "    tf.keras.layers.Dense(1),\n",
        "])\n",
        "\n",
        "insurance_model_2.compile(loss=tf.keras.losses.mae,\n",
        "                          optimizer=tf.keras.optimizers.Adam(),\n",
        "                          metrics=[\"mae\"])\n",
        "\n",
        "history = insurance_model_2.fit(tf.expand_dims(X_train, axis=-1), Y_train, epochs=200)"
      ],
      "metadata": {
        "colab": {
          "base_uri": "https://localhost:8080/"
        },
        "id": "Wg8E2dwzJwc4",
        "outputId": "04f9db66-4d93-4bbd-e689-473fc84a99dc"
      },
      "execution_count": null,
      "outputs": [
        {
          "output_type": "stream",
          "name": "stdout",
          "text": [
            "Epoch 1/200\n",
            "34/34 [==============================] - 2s 4ms/step - loss: 13338.9160 - mae: 13338.9160\n",
            "Epoch 2/200\n",
            "34/34 [==============================] - 0s 4ms/step - loss: 13321.1621 - mae: 13321.1621\n",
            "Epoch 3/200\n",
            "34/34 [==============================] - 0s 4ms/step - loss: 13284.3574 - mae: 13284.3574\n",
            "Epoch 4/200\n",
            "34/34 [==============================] - 0s 4ms/step - loss: 13213.2881 - mae: 13213.2881\n",
            "Epoch 5/200\n",
            "34/34 [==============================] - 0s 5ms/step - loss: 13092.3604 - mae: 13092.3604\n",
            "Epoch 6/200\n",
            "34/34 [==============================] - 0s 4ms/step - loss: 12909.8047 - mae: 12909.8047\n",
            "Epoch 7/200\n",
            "34/34 [==============================] - 0s 4ms/step - loss: 12672.6846 - mae: 12672.6846\n",
            "Epoch 8/200\n",
            "34/34 [==============================] - 0s 4ms/step - loss: 12413.9600 - mae: 12413.9600\n",
            "Epoch 9/200\n",
            "34/34 [==============================] - 0s 4ms/step - loss: 12202.6455 - mae: 12202.6455\n",
            "Epoch 10/200\n",
            "34/34 [==============================] - 0s 4ms/step - loss: 12112.0996 - mae: 12112.0996\n",
            "Epoch 11/200\n",
            "34/34 [==============================] - 0s 4ms/step - loss: 12084.4023 - mae: 12084.4023\n",
            "Epoch 12/200\n",
            "34/34 [==============================] - 0s 4ms/step - loss: 12062.6182 - mae: 12062.6182\n",
            "Epoch 13/200\n",
            "34/34 [==============================] - 0s 4ms/step - loss: 12041.4746 - mae: 12041.4746\n",
            "Epoch 14/200\n",
            "34/34 [==============================] - 0s 4ms/step - loss: 12019.3037 - mae: 12019.3037\n",
            "Epoch 15/200\n",
            "34/34 [==============================] - 0s 4ms/step - loss: 11996.0469 - mae: 11996.0469\n",
            "Epoch 16/200\n",
            "34/34 [==============================] - 0s 4ms/step - loss: 11970.7061 - mae: 11970.7061\n",
            "Epoch 17/200\n",
            "34/34 [==============================] - 0s 4ms/step - loss: 11943.2891 - mae: 11943.2891\n",
            "Epoch 18/200\n",
            "34/34 [==============================] - 0s 4ms/step - loss: 11913.0713 - mae: 11913.0713\n",
            "Epoch 19/200\n",
            "34/34 [==============================] - 0s 4ms/step - loss: 11879.5303 - mae: 11879.5303\n",
            "Epoch 20/200\n",
            "34/34 [==============================] - 0s 4ms/step - loss: 11841.1826 - mae: 11841.1826\n",
            "Epoch 21/200\n",
            "34/34 [==============================] - 0s 4ms/step - loss: 11797.7461 - mae: 11797.7461\n",
            "Epoch 22/200\n",
            "34/34 [==============================] - 0s 4ms/step - loss: 11747.4561 - mae: 11747.4561\n",
            "Epoch 23/200\n",
            "34/34 [==============================] - 0s 4ms/step - loss: 11688.8369 - mae: 11688.8369\n",
            "Epoch 24/200\n",
            "34/34 [==============================] - 0s 4ms/step - loss: 11619.9004 - mae: 11619.9004\n",
            "Epoch 25/200\n",
            "34/34 [==============================] - 0s 4ms/step - loss: 11539.0713 - mae: 11539.0713\n",
            "Epoch 26/200\n",
            "34/34 [==============================] - 0s 4ms/step - loss: 11441.1475 - mae: 11441.1475\n",
            "Epoch 27/200\n",
            "34/34 [==============================] - 0s 4ms/step - loss: 11326.7383 - mae: 11326.7383\n",
            "Epoch 28/200\n",
            "34/34 [==============================] - 0s 4ms/step - loss: 11193.5586 - mae: 11193.5586\n",
            "Epoch 29/200\n",
            "34/34 [==============================] - 0s 4ms/step - loss: 11040.5586 - mae: 11040.5586\n",
            "Epoch 30/200\n",
            "34/34 [==============================] - 0s 4ms/step - loss: 10873.3262 - mae: 10873.3262\n",
            "Epoch 31/200\n",
            "34/34 [==============================] - 0s 4ms/step - loss: 10696.8926 - mae: 10696.8926\n",
            "Epoch 32/200\n",
            "34/34 [==============================] - 0s 4ms/step - loss: 10515.2383 - mae: 10515.2383\n",
            "Epoch 33/200\n",
            "34/34 [==============================] - 0s 4ms/step - loss: 10331.0479 - mae: 10331.0479\n",
            "Epoch 34/200\n",
            "34/34 [==============================] - 0s 4ms/step - loss: 10146.5596 - mae: 10146.5596\n",
            "Epoch 35/200\n",
            "34/34 [==============================] - 0s 4ms/step - loss: 9953.0205 - mae: 9953.0205\n",
            "Epoch 36/200\n",
            "34/34 [==============================] - 0s 4ms/step - loss: 9762.9326 - mae: 9762.9326\n",
            "Epoch 37/200\n",
            "34/34 [==============================] - 0s 4ms/step - loss: 9576.5889 - mae: 9576.5889\n",
            "Epoch 38/200\n",
            "34/34 [==============================] - 0s 5ms/step - loss: 9398.8721 - mae: 9398.8721\n",
            "Epoch 39/200\n",
            "34/34 [==============================] - 0s 6ms/step - loss: 9233.3164 - mae: 9233.3164\n",
            "Epoch 40/200\n",
            "34/34 [==============================] - 0s 6ms/step - loss: 9085.2070 - mae: 9085.2070\n",
            "Epoch 41/200\n",
            "34/34 [==============================] - 0s 6ms/step - loss: 8953.0449 - mae: 8953.0449\n",
            "Epoch 42/200\n",
            "34/34 [==============================] - 0s 6ms/step - loss: 8832.6143 - mae: 8832.6143\n",
            "Epoch 43/200\n",
            "34/34 [==============================] - 0s 6ms/step - loss: 8723.9609 - mae: 8723.9609\n",
            "Epoch 44/200\n",
            "34/34 [==============================] - 0s 6ms/step - loss: 8620.3115 - mae: 8620.3115\n",
            "Epoch 45/200\n",
            "34/34 [==============================] - 0s 6ms/step - loss: 8546.3789 - mae: 8546.3789\n",
            "Epoch 46/200\n",
            "34/34 [==============================] - 0s 6ms/step - loss: 8480.8359 - mae: 8480.8359\n",
            "Epoch 47/200\n",
            "34/34 [==============================] - 0s 6ms/step - loss: 8439.0234 - mae: 8439.0234\n",
            "Epoch 48/200\n",
            "34/34 [==============================] - 0s 6ms/step - loss: 8394.9961 - mae: 8394.9961\n",
            "Epoch 49/200\n",
            "34/34 [==============================] - 0s 6ms/step - loss: 8366.4795 - mae: 8366.4795\n",
            "Epoch 50/200\n",
            "34/34 [==============================] - 0s 6ms/step - loss: 8340.9209 - mae: 8340.9209\n",
            "Epoch 51/200\n",
            "34/34 [==============================] - 0s 6ms/step - loss: 8324.3428 - mae: 8324.3428\n",
            "Epoch 52/200\n",
            "34/34 [==============================] - 0s 6ms/step - loss: 8315.1621 - mae: 8315.1621\n",
            "Epoch 53/200\n",
            "34/34 [==============================] - 0s 7ms/step - loss: 8297.1338 - mae: 8297.1338\n",
            "Epoch 54/200\n",
            "34/34 [==============================] - 0s 7ms/step - loss: 8290.4668 - mae: 8290.4668\n",
            "Epoch 55/200\n",
            "34/34 [==============================] - 0s 4ms/step - loss: 8287.7959 - mae: 8287.7959\n",
            "Epoch 56/200\n",
            "34/34 [==============================] - 0s 4ms/step - loss: 8283.1504 - mae: 8283.1504\n",
            "Epoch 57/200\n",
            "34/34 [==============================] - 0s 4ms/step - loss: 8280.4014 - mae: 8280.4014\n",
            "Epoch 58/200\n",
            "34/34 [==============================] - 0s 4ms/step - loss: 8278.4365 - mae: 8278.4365\n",
            "Epoch 59/200\n",
            "34/34 [==============================] - 0s 4ms/step - loss: 8278.5732 - mae: 8278.5732\n",
            "Epoch 60/200\n",
            "34/34 [==============================] - 0s 4ms/step - loss: 8280.3506 - mae: 8280.3506\n",
            "Epoch 61/200\n",
            "34/34 [==============================] - 0s 4ms/step - loss: 8278.3867 - mae: 8278.3867\n",
            "Epoch 62/200\n",
            "34/34 [==============================] - 0s 4ms/step - loss: 8275.1797 - mae: 8275.1797\n",
            "Epoch 63/200\n",
            "34/34 [==============================] - 0s 4ms/step - loss: 8275.9346 - mae: 8275.9346\n",
            "Epoch 64/200\n",
            "34/34 [==============================] - 0s 4ms/step - loss: 8274.6934 - mae: 8274.6934\n",
            "Epoch 65/200\n",
            "34/34 [==============================] - 0s 4ms/step - loss: 8274.2295 - mae: 8274.2295\n",
            "Epoch 66/200\n",
            "34/34 [==============================] - 0s 4ms/step - loss: 8273.6143 - mae: 8273.6143\n",
            "Epoch 67/200\n",
            "34/34 [==============================] - 0s 4ms/step - loss: 8276.8604 - mae: 8276.8604\n",
            "Epoch 68/200\n",
            "34/34 [==============================] - 0s 4ms/step - loss: 8274.4912 - mae: 8274.4912\n",
            "Epoch 69/200\n",
            "34/34 [==============================] - 0s 4ms/step - loss: 8274.3242 - mae: 8274.3242\n",
            "Epoch 70/200\n",
            "34/34 [==============================] - 0s 4ms/step - loss: 8276.9707 - mae: 8276.9707\n",
            "Epoch 71/200\n",
            "34/34 [==============================] - 0s 4ms/step - loss: 8275.5586 - mae: 8275.5586\n",
            "Epoch 72/200\n",
            "34/34 [==============================] - 0s 4ms/step - loss: 8275.9902 - mae: 8275.9902\n",
            "Epoch 73/200\n",
            "34/34 [==============================] - 0s 4ms/step - loss: 8274.3750 - mae: 8274.3750\n",
            "Epoch 74/200\n",
            "34/34 [==============================] - 0s 4ms/step - loss: 8273.6807 - mae: 8273.6807\n",
            "Epoch 75/200\n",
            "34/34 [==============================] - 0s 4ms/step - loss: 8273.7451 - mae: 8273.7451\n",
            "Epoch 76/200\n",
            "34/34 [==============================] - 0s 4ms/step - loss: 8276.5332 - mae: 8276.5332\n",
            "Epoch 77/200\n",
            "34/34 [==============================] - 0s 4ms/step - loss: 8273.1709 - mae: 8273.1709\n",
            "Epoch 78/200\n",
            "34/34 [==============================] - 0s 4ms/step - loss: 8274.1982 - mae: 8274.1982\n",
            "Epoch 79/200\n",
            "34/34 [==============================] - 0s 4ms/step - loss: 8275.2158 - mae: 8275.2158\n",
            "Epoch 80/200\n",
            "34/34 [==============================] - 0s 4ms/step - loss: 8273.0752 - mae: 8273.0752\n",
            "Epoch 81/200\n",
            "34/34 [==============================] - 0s 4ms/step - loss: 8274.0518 - mae: 8274.0518\n",
            "Epoch 82/200\n",
            "34/34 [==============================] - 0s 4ms/step - loss: 8275.0840 - mae: 8275.0840\n",
            "Epoch 83/200\n",
            "34/34 [==============================] - 0s 4ms/step - loss: 8279.0498 - mae: 8279.0498\n",
            "Epoch 84/200\n",
            "34/34 [==============================] - 0s 4ms/step - loss: 8273.3408 - mae: 8273.3408\n",
            "Epoch 85/200\n",
            "34/34 [==============================] - 0s 4ms/step - loss: 8277.4316 - mae: 8277.4316\n",
            "Epoch 86/200\n",
            "34/34 [==============================] - 0s 4ms/step - loss: 8275.0342 - mae: 8275.0342\n",
            "Epoch 87/200\n",
            "34/34 [==============================] - 0s 4ms/step - loss: 8275.8750 - mae: 8275.8750\n",
            "Epoch 88/200\n",
            "34/34 [==============================] - 0s 4ms/step - loss: 8273.7529 - mae: 8273.7529\n",
            "Epoch 89/200\n",
            "34/34 [==============================] - 0s 4ms/step - loss: 8273.5059 - mae: 8273.5059\n",
            "Epoch 90/200\n",
            "34/34 [==============================] - 0s 5ms/step - loss: 8275.4971 - mae: 8275.4971\n",
            "Epoch 91/200\n",
            "34/34 [==============================] - 0s 4ms/step - loss: 8273.6562 - mae: 8273.6562\n",
            "Epoch 92/200\n",
            "34/34 [==============================] - 0s 4ms/step - loss: 8274.7510 - mae: 8274.7510\n",
            "Epoch 93/200\n",
            "34/34 [==============================] - 0s 4ms/step - loss: 8274.6377 - mae: 8274.6377\n",
            "Epoch 94/200\n",
            "34/34 [==============================] - 0s 4ms/step - loss: 8275.4434 - mae: 8275.4434\n",
            "Epoch 95/200\n",
            "34/34 [==============================] - 0s 4ms/step - loss: 8274.9023 - mae: 8274.9023\n",
            "Epoch 96/200\n",
            "34/34 [==============================] - 0s 4ms/step - loss: 8274.2920 - mae: 8274.2920\n",
            "Epoch 97/200\n",
            "34/34 [==============================] - 0s 4ms/step - loss: 8276.7568 - mae: 8276.7568\n",
            "Epoch 98/200\n",
            "34/34 [==============================] - 0s 4ms/step - loss: 8273.8008 - mae: 8273.8008\n",
            "Epoch 99/200\n",
            "34/34 [==============================] - 0s 4ms/step - loss: 8274.2236 - mae: 8274.2236\n",
            "Epoch 100/200\n",
            "34/34 [==============================] - 0s 4ms/step - loss: 8273.7695 - mae: 8273.7695\n",
            "Epoch 101/200\n",
            "34/34 [==============================] - 0s 4ms/step - loss: 8275.9678 - mae: 8275.9678\n",
            "Epoch 102/200\n",
            "34/34 [==============================] - 0s 4ms/step - loss: 8275.9355 - mae: 8275.9355\n",
            "Epoch 103/200\n",
            "34/34 [==============================] - 0s 4ms/step - loss: 8274.6025 - mae: 8274.6025\n",
            "Epoch 104/200\n",
            "34/34 [==============================] - 0s 5ms/step - loss: 8273.5635 - mae: 8273.5635\n",
            "Epoch 105/200\n",
            "34/34 [==============================] - 0s 4ms/step - loss: 8273.9971 - mae: 8273.9971\n",
            "Epoch 106/200\n",
            "34/34 [==============================] - 0s 4ms/step - loss: 8273.5322 - mae: 8273.5322\n",
            "Epoch 107/200\n",
            "34/34 [==============================] - 0s 4ms/step - loss: 8275.9355 - mae: 8275.9355\n",
            "Epoch 108/200\n",
            "34/34 [==============================] - 0s 4ms/step - loss: 8278.7246 - mae: 8278.7246\n",
            "Epoch 109/200\n",
            "34/34 [==============================] - 0s 4ms/step - loss: 8275.2598 - mae: 8275.2598\n",
            "Epoch 110/200\n",
            "34/34 [==============================] - 0s 4ms/step - loss: 8276.5840 - mae: 8276.5840\n",
            "Epoch 111/200\n",
            "34/34 [==============================] - 0s 5ms/step - loss: 8276.3281 - mae: 8276.3281\n",
            "Epoch 112/200\n",
            "34/34 [==============================] - 0s 4ms/step - loss: 8273.4434 - mae: 8273.4434\n",
            "Epoch 113/200\n",
            "34/34 [==============================] - 0s 4ms/step - loss: 8273.8242 - mae: 8273.8242\n",
            "Epoch 114/200\n",
            "34/34 [==============================] - 0s 4ms/step - loss: 8273.9297 - mae: 8273.9297\n",
            "Epoch 115/200\n",
            "34/34 [==============================] - 0s 4ms/step - loss: 8275.4775 - mae: 8275.4775\n",
            "Epoch 116/200\n",
            "34/34 [==============================] - 0s 4ms/step - loss: 8275.2559 - mae: 8275.2559\n",
            "Epoch 117/200\n",
            "34/34 [==============================] - 0s 4ms/step - loss: 8275.4590 - mae: 8275.4590\n",
            "Epoch 118/200\n",
            "34/34 [==============================] - 0s 5ms/step - loss: 8274.5840 - mae: 8274.5840\n",
            "Epoch 119/200\n",
            "34/34 [==============================] - 0s 4ms/step - loss: 8276.0547 - mae: 8276.0547\n",
            "Epoch 120/200\n",
            "34/34 [==============================] - 0s 4ms/step - loss: 8273.6758 - mae: 8273.6758\n",
            "Epoch 121/200\n",
            "34/34 [==============================] - 0s 4ms/step - loss: 8273.8770 - mae: 8273.8770\n",
            "Epoch 122/200\n",
            "34/34 [==============================] - 0s 4ms/step - loss: 8273.7246 - mae: 8273.7246\n",
            "Epoch 123/200\n",
            "34/34 [==============================] - 0s 4ms/step - loss: 8274.2627 - mae: 8274.2627\n",
            "Epoch 124/200\n",
            "34/34 [==============================] - 0s 6ms/step - loss: 8274.0605 - mae: 8274.0605\n",
            "Epoch 125/200\n",
            "34/34 [==============================] - 0s 7ms/step - loss: 8275.5049 - mae: 8275.5049\n",
            "Epoch 126/200\n",
            "34/34 [==============================] - 0s 6ms/step - loss: 8275.6436 - mae: 8275.6436\n",
            "Epoch 127/200\n",
            "34/34 [==============================] - 0s 6ms/step - loss: 8274.6455 - mae: 8274.6455\n",
            "Epoch 128/200\n",
            "34/34 [==============================] - 0s 6ms/step - loss: 8274.6621 - mae: 8274.6621\n",
            "Epoch 129/200\n",
            "34/34 [==============================] - 0s 6ms/step - loss: 8275.1064 - mae: 8275.1064\n",
            "Epoch 130/200\n",
            "34/34 [==============================] - 0s 6ms/step - loss: 8274.7197 - mae: 8274.7197\n",
            "Epoch 131/200\n",
            "34/34 [==============================] - 0s 6ms/step - loss: 8276.8008 - mae: 8276.8008\n",
            "Epoch 132/200\n",
            "34/34 [==============================] - 0s 6ms/step - loss: 8276.2842 - mae: 8276.2842\n",
            "Epoch 133/200\n",
            "34/34 [==============================] - 0s 6ms/step - loss: 8275.1006 - mae: 8275.1006\n",
            "Epoch 134/200\n",
            "34/34 [==============================] - 0s 7ms/step - loss: 8273.4980 - mae: 8273.4980\n",
            "Epoch 135/200\n",
            "34/34 [==============================] - 0s 7ms/step - loss: 8273.8945 - mae: 8273.8945\n",
            "Epoch 136/200\n",
            "34/34 [==============================] - 0s 6ms/step - loss: 8273.7285 - mae: 8273.7285\n",
            "Epoch 137/200\n",
            "34/34 [==============================] - 0s 6ms/step - loss: 8274.0771 - mae: 8274.0771\n",
            "Epoch 138/200\n",
            "34/34 [==============================] - 0s 6ms/step - loss: 8274.3447 - mae: 8274.3447\n",
            "Epoch 139/200\n",
            "34/34 [==============================] - 0s 6ms/step - loss: 8274.4268 - mae: 8274.4268\n",
            "Epoch 140/200\n",
            "34/34 [==============================] - 0s 6ms/step - loss: 8273.7520 - mae: 8273.7520\n",
            "Epoch 141/200\n",
            "34/34 [==============================] - 0s 5ms/step - loss: 8274.2998 - mae: 8274.2998\n",
            "Epoch 142/200\n",
            "34/34 [==============================] - 0s 4ms/step - loss: 8276.5830 - mae: 8276.5830\n",
            "Epoch 143/200\n",
            "34/34 [==============================] - 0s 4ms/step - loss: 8276.5586 - mae: 8276.5586\n",
            "Epoch 144/200\n",
            "34/34 [==============================] - 0s 4ms/step - loss: 8278.9883 - mae: 8278.9883\n",
            "Epoch 145/200\n",
            "34/34 [==============================] - 0s 4ms/step - loss: 8275.0273 - mae: 8275.0273\n",
            "Epoch 146/200\n",
            "34/34 [==============================] - 0s 4ms/step - loss: 8275.6611 - mae: 8275.6611\n",
            "Epoch 147/200\n",
            "34/34 [==============================] - 0s 4ms/step - loss: 8275.8828 - mae: 8275.8828\n",
            "Epoch 148/200\n",
            "34/34 [==============================] - 0s 4ms/step - loss: 8275.1875 - mae: 8275.1875\n",
            "Epoch 149/200\n",
            "34/34 [==============================] - 0s 4ms/step - loss: 8274.8682 - mae: 8274.8682\n",
            "Epoch 150/200\n",
            "34/34 [==============================] - 0s 4ms/step - loss: 8273.7500 - mae: 8273.7500\n",
            "Epoch 151/200\n",
            "34/34 [==============================] - 0s 4ms/step - loss: 8274.3711 - mae: 8274.3711\n",
            "Epoch 152/200\n",
            "34/34 [==============================] - 0s 4ms/step - loss: 8274.0391 - mae: 8274.0391\n",
            "Epoch 153/200\n",
            "34/34 [==============================] - 0s 4ms/step - loss: 8277.0674 - mae: 8277.0674\n",
            "Epoch 154/200\n",
            "34/34 [==============================] - 0s 4ms/step - loss: 8276.4375 - mae: 8276.4375\n",
            "Epoch 155/200\n",
            "34/34 [==============================] - 0s 4ms/step - loss: 8274.1543 - mae: 8274.1543\n",
            "Epoch 156/200\n",
            "34/34 [==============================] - 0s 4ms/step - loss: 8273.6523 - mae: 8273.6523\n",
            "Epoch 157/200\n",
            "34/34 [==============================] - 0s 4ms/step - loss: 8275.7334 - mae: 8275.7334\n",
            "Epoch 158/200\n",
            "34/34 [==============================] - 0s 4ms/step - loss: 8274.5049 - mae: 8274.5049\n",
            "Epoch 159/200\n",
            "34/34 [==============================] - 0s 4ms/step - loss: 8273.4844 - mae: 8273.4844\n",
            "Epoch 160/200\n",
            "34/34 [==============================] - 0s 4ms/step - loss: 8274.8711 - mae: 8274.8711\n",
            "Epoch 161/200\n",
            "34/34 [==============================] - 0s 4ms/step - loss: 8273.6377 - mae: 8273.6377\n",
            "Epoch 162/200\n",
            "34/34 [==============================] - 0s 4ms/step - loss: 8274.6025 - mae: 8274.6025\n",
            "Epoch 163/200\n",
            "34/34 [==============================] - 0s 4ms/step - loss: 8274.2559 - mae: 8274.2559\n",
            "Epoch 164/200\n",
            "34/34 [==============================] - 0s 4ms/step - loss: 8273.9043 - mae: 8273.9043\n",
            "Epoch 165/200\n",
            "34/34 [==============================] - 0s 4ms/step - loss: 8276.5088 - mae: 8276.5088\n",
            "Epoch 166/200\n",
            "34/34 [==============================] - 0s 4ms/step - loss: 8275.6055 - mae: 8275.6055\n",
            "Epoch 167/200\n",
            "34/34 [==============================] - 0s 4ms/step - loss: 8274.3887 - mae: 8274.3887\n",
            "Epoch 168/200\n",
            "34/34 [==============================] - 0s 4ms/step - loss: 8274.1953 - mae: 8274.1953\n",
            "Epoch 169/200\n",
            "34/34 [==============================] - 0s 4ms/step - loss: 8273.6494 - mae: 8273.6494\n",
            "Epoch 170/200\n",
            "34/34 [==============================] - 0s 4ms/step - loss: 8275.2217 - mae: 8275.2217\n",
            "Epoch 171/200\n",
            "34/34 [==============================] - 0s 4ms/step - loss: 8274.4023 - mae: 8274.4023\n",
            "Epoch 172/200\n",
            "34/34 [==============================] - 0s 4ms/step - loss: 8275.2725 - mae: 8275.2725\n",
            "Epoch 173/200\n",
            "34/34 [==============================] - 0s 4ms/step - loss: 8274.9795 - mae: 8274.9795\n",
            "Epoch 174/200\n",
            "34/34 [==============================] - 0s 4ms/step - loss: 8274.3154 - mae: 8274.3154\n",
            "Epoch 175/200\n",
            "34/34 [==============================] - 0s 4ms/step - loss: 8275.6992 - mae: 8275.6992\n",
            "Epoch 176/200\n",
            "34/34 [==============================] - 0s 4ms/step - loss: 8275.7793 - mae: 8275.7793\n",
            "Epoch 177/200\n",
            "34/34 [==============================] - 0s 4ms/step - loss: 8274.1523 - mae: 8274.1523\n",
            "Epoch 178/200\n",
            "34/34 [==============================] - 0s 4ms/step - loss: 8274.1396 - mae: 8274.1396\n",
            "Epoch 179/200\n",
            "34/34 [==============================] - 0s 4ms/step - loss: 8274.1875 - mae: 8274.1875\n",
            "Epoch 180/200\n",
            "34/34 [==============================] - 0s 4ms/step - loss: 8274.6816 - mae: 8274.6816\n",
            "Epoch 181/200\n",
            "34/34 [==============================] - 0s 4ms/step - loss: 8274.6055 - mae: 8274.6055\n",
            "Epoch 182/200\n",
            "34/34 [==============================] - 0s 4ms/step - loss: 8273.6836 - mae: 8273.6836\n",
            "Epoch 183/200\n",
            "34/34 [==============================] - 0s 4ms/step - loss: 8274.5078 - mae: 8274.5078\n",
            "Epoch 184/200\n",
            "34/34 [==============================] - 0s 4ms/step - loss: 8276.7686 - mae: 8276.7686\n",
            "Epoch 185/200\n",
            "34/34 [==============================] - 0s 4ms/step - loss: 8276.4346 - mae: 8276.4346\n",
            "Epoch 186/200\n",
            "34/34 [==============================] - 0s 4ms/step - loss: 8275.6807 - mae: 8275.6807\n",
            "Epoch 187/200\n",
            "34/34 [==============================] - 0s 4ms/step - loss: 8276.9951 - mae: 8276.9951\n",
            "Epoch 188/200\n",
            "34/34 [==============================] - 0s 4ms/step - loss: 8273.4727 - mae: 8273.4727\n",
            "Epoch 189/200\n",
            "34/34 [==============================] - 0s 4ms/step - loss: 8275.1494 - mae: 8275.1494\n",
            "Epoch 190/200\n",
            "34/34 [==============================] - 0s 5ms/step - loss: 8276.3086 - mae: 8276.3086\n",
            "Epoch 191/200\n",
            "34/34 [==============================] - 0s 4ms/step - loss: 8273.7061 - mae: 8273.7061\n",
            "Epoch 192/200\n",
            "34/34 [==============================] - 0s 4ms/step - loss: 8273.9766 - mae: 8273.9766\n",
            "Epoch 193/200\n",
            "34/34 [==============================] - 0s 4ms/step - loss: 8275.5713 - mae: 8275.5713\n",
            "Epoch 194/200\n",
            "34/34 [==============================] - 0s 4ms/step - loss: 8273.6416 - mae: 8273.6416\n",
            "Epoch 195/200\n",
            "34/34 [==============================] - 0s 4ms/step - loss: 8274.8496 - mae: 8274.8496\n",
            "Epoch 196/200\n",
            "34/34 [==============================] - 0s 4ms/step - loss: 8274.9482 - mae: 8274.9482\n",
            "Epoch 197/200\n",
            "34/34 [==============================] - 0s 4ms/step - loss: 8274.8975 - mae: 8274.8975\n",
            "Epoch 198/200\n",
            "34/34 [==============================] - 0s 4ms/step - loss: 8274.8184 - mae: 8274.8184\n",
            "Epoch 199/200\n",
            "34/34 [==============================] - 0s 4ms/step - loss: 8273.7822 - mae: 8273.7822\n",
            "Epoch 200/200\n",
            "34/34 [==============================] - 0s 4ms/step - loss: 8276.9717 - mae: 8276.9717\n"
          ]
        }
      ]
    },
    {
      "cell_type": "code",
      "source": [
        "insurance_model_2.evaluate(X_test, Y_test)"
      ],
      "metadata": {
        "colab": {
          "base_uri": "https://localhost:8080/"
        },
        "id": "M26yDeYJQ9gU",
        "outputId": "16cbde71-b7d7-4080-ef9f-873919a54da5"
      },
      "execution_count": null,
      "outputs": [
        {
          "output_type": "stream",
          "name": "stdout",
          "text": [
            "9/9 [==============================] - 0s 4ms/step - loss: 8632.2236 - mae: 8632.2236\n"
          ]
        },
        {
          "output_type": "execute_result",
          "data": {
            "text/plain": [
              "[8632.2236328125, 8632.2236328125]"
            ]
          },
          "metadata": {},
          "execution_count": 70
        }
      ]
    },
    {
      "cell_type": "code",
      "source": [
        "# Plot o history (conhecido como curva de erros ou curva de treino)\n",
        "pd.DataFrame(history.history).plot()\n",
        "plt.ylabel(\"loss\")\n",
        "plt.xlabel(\"epochs\")"
      ],
      "metadata": {
        "colab": {
          "base_uri": "https://localhost:8080/",
          "height": 466
        },
        "id": "LgS8JQKBS6_b",
        "outputId": "69cb3000-674f-453d-d5ec-046fb9daedab"
      },
      "execution_count": null,
      "outputs": [
        {
          "output_type": "execute_result",
          "data": {
            "text/plain": [
              "Text(0.5, 0, 'epochs')"
            ]
          },
          "metadata": {},
          "execution_count": 71
        },
        {
          "output_type": "display_data",
          "data": {
            "text/plain": [
              "<Figure size 640x480 with 1 Axes>"
            ],
            "image/png": "[encoded data removed]"
          },
          "metadata": {}
        }
      ]
    },
    {
      "cell_type": "markdown",
      "source": [
        "## Pré-processando dados (normalização e padronização)\n",
        "\n",
        "Em termo de valores escalaveis, redes neurais tendem a preferir a NORMALIZAÇÃO de dados. Pois a PADRONIZAÇÃO afeta a influência dos OUTLAYERS.\n",
        "\n"
      ],
      "metadata": {
        "id": "Nr_Rq1PK9Wpk"
      }
    },
    {
      "cell_type": "code",
      "source": [
        "import pandas as pd\n",
        "import matplotlib.pyplot as plt\n",
        "import tensorflow as tf\n",
        "\n",
        "# Ler a base de dados de insurance\n",
        "insurance = pd.read_csv(\"https://raw.githubusercontent.com/stedy/Machine-Learning-with-R-datasets/master/insurance.csv\")\n",
        "insurance"
      ],
      "metadata": {
        "colab": {
          "base_uri": "https://localhost:8080/",
          "height": 424
        },
        "id": "Q_m9PnM-A96s",
        "outputId": "d4059a03-ab64-4831-b678-cfc4e8e6fa29"
      },
      "execution_count": null,
      "outputs": [
        {
          "output_type": "execute_result",
          "data": {
            "text/plain": [
              "      age     sex     bmi  children smoker     region      charges\n",
              "0      19  female  27.900         0    yes  southwest  16884.92400\n",
              "1      18    male  33.770         1     no  southeast   1725.55230\n",
              "2      28    male  33.000         3     no  southeast   4449.46200\n",
              "3      33    male  22.705         0     no  northwest  21984.47061\n",
              "4      32    male  28.880         0     no  northwest   3866.85520\n",
              "...   ...     ...     ...       ...    ...        ...          ...\n",
              "1333   50    male  30.970         3     no  northwest  10600.54830\n",
              "1334   18  female  31.920         0     no  northeast   2205.98080\n",
              "1335   18  female  36.850         0     no  southeast   1629.83350\n",
              "1336   21  female  25.800         0     no  southwest   2007.94500\n",
              "1337   61  female  29.070         0    yes  northwest  29141.36030\n",
              "\n",
              "[1338 rows x 7 columns]"
            ],
            "text/html": [
              "\n",
              "  <div id=\"df-a46ff210-7ff8-4b1e-a6b2-b9b91c262fbb\">\n",
              "    <div class=\"colab-df-container\">\n",
              "      <div>\n",
              "<style scoped>\n",
              "    .dataframe tbody tr th:only-of-type {\n",
              "        vertical-align: middle;\n",
              "    }\n",
              "\n",
              "    .dataframe tbody tr th {\n",
              "        vertical-align: top;\n",
              "    }\n",
              "\n",
              "    .dataframe thead th {\n",
              "        text-align: right;\n",
              "    }\n",
              "</style>\n",
              "<table border=\"1\" class=\"dataframe\">\n",
              "  <thead>\n",
              "    <tr style=\"text-align: right;\">\n",
              "      <th></th>\n",
              "      <th>age</th>\n",
              "      <th>sex</th>\n",
              "      <th>bmi</th>\n",
              "      <th>children</th>\n",
              "      <th>smoker</th>\n",
              "      <th>region</th>\n",
              "      <th>charges</th>\n",
              "    </tr>\n",
              "  </thead>\n",
              "  <tbody>\n",
              "    <tr>\n",
              "      <th>0</th>\n",
              "      <td>19</td>\n",
              "      <td>female</td>\n",
              "      <td>27.900</td>\n",
              "      <td>0</td>\n",
              "      <td>yes</td>\n",
              "      <td>southwest</td>\n",
              "      <td>16884.92400</td>\n",
              "    </tr>\n",
              "    <tr>\n",
              "      <th>1</th>\n",
              "      <td>18</td>\n",
              "      <td>male</td>\n",
              "      <td>33.770</td>\n",
              "      <td>1</td>\n",
              "      <td>no</td>\n",
              "      <td>southeast</td>\n",
              "      <td>1725.55230</td>\n",
              "    </tr>\n",
              "    <tr>\n",
              "      <th>2</th>\n",
              "      <td>28</td>\n",
              "      <td>male</td>\n",
              "      <td>33.000</td>\n",
              "      <td>3</td>\n",
              "      <td>no</td>\n",
              "      <td>southeast</td>\n",
              "      <td>4449.46200</td>\n",
              "    </tr>\n",
              "    <tr>\n",
              "      <th>3</th>\n",
              "      <td>33</td>\n",
              "      <td>male</td>\n",
              "      <td>22.705</td>\n",
              "      <td>0</td>\n",
              "      <td>no</td>\n",
              "      <td>northwest</td>\n",
              "      <td>21984.47061</td>\n",
              "    </tr>\n",
              "    <tr>\n",
              "      <th>4</th>\n",
              "      <td>32</td>\n",
              "      <td>male</td>\n",
              "      <td>28.880</td>\n",
              "      <td>0</td>\n",
              "      <td>no</td>\n",
              "      <td>northwest</td>\n",
              "      <td>3866.85520</td>\n",
              "    </tr>\n",
              "    <tr>\n",
              "      <th>...</th>\n",
              "      <td>...</td>\n",
              "      <td>...</td>\n",
              "      <td>...</td>\n",
              "      <td>...</td>\n",
              "      <td>...</td>\n",
              "      <td>...</td>\n",
              "      <td>...</td>\n",
              "    </tr>\n",
              "    <tr>\n",
              "      <th>1333</th>\n",
              "      <td>50</td>\n",
              "      <td>male</td>\n",
              "      <td>30.970</td>\n",
              "      <td>3</td>\n",
              "      <td>no</td>\n",
              "      <td>northwest</td>\n",
              "      <td>10600.54830</td>\n",
              "    </tr>\n",
              "    <tr>\n",
              "      <th>1334</th>\n",
              "      <td>18</td>\n",
              "      <td>female</td>\n",
              "      <td>31.920</td>\n",
              "      <td>0</td>\n",
              "      <td>no</td>\n",
              "      <td>northeast</td>\n",
              "      <td>2205.98080</td>\n",
              "    </tr>\n",
              "    <tr>\n",
              "      <th>1335</th>\n",
              "      <td>18</td>\n",
              "      <td>female</td>\n",
              "      <td>36.850</td>\n",
              "      <td>0</td>\n",
              "      <td>no</td>\n",
              "      <td>southeast</td>\n",
              "      <td>1629.83350</td>\n",
              "    </tr>\n",
              "    <tr>\n",
              "      <th>1336</th>\n",
              "      <td>21</td>\n",
              "      <td>female</td>\n",
              "      <td>25.800</td>\n",
              "      <td>0</td>\n",
              "      <td>no</td>\n",
              "      <td>southwest</td>\n",
              "      <td>2007.94500</td>\n",
              "    </tr>\n",
              "    <tr>\n",
              "      <th>1337</th>\n",
              "      <td>61</td>\n",
              "      <td>female</td>\n",
              "      <td>29.070</td>\n",
              "      <td>0</td>\n",
              "      <td>yes</td>\n",
              "      <td>northwest</td>\n",
              "      <td>29141.36030</td>\n",
              "    </tr>\n",
              "  </tbody>\n",
              "</table>\n",
              "<p>1338 rows × 7 columns</p>\n",
              "</div>\n",
              "      <button class=\"colab-df-convert\" onclick=\"convertToInteractive('df-a46ff210-7ff8-4b1e-a6b2-b9b91c262fbb')\"\n",
              "              title=\"Convert this dataframe to an interactive table.\"\n",
              "              style=\"display:none;\">\n",
              "        \n",
              "  <svg xmlns=\"http://www.w3.org/2000/svg\" height=\"24px\"viewBox=\"0 0 24 24\"\n",
              "       width=\"24px\">\n",
              "    <path d=\"M0 0h24v24H0V0z\" fill=\"none\"/>\n",
              "    <path d=\"M18.56 5.44l.94 2.06.94-2.06 2.06-.94-2.06-.94-.94-2.06-.94 2.06-2.06.94zm-11 1L8.5 8.5l.94-2.06 2.06-.94-2.06-.94L8.5 2.5l-.94 2.06-2.06.94zm10 10l.94 2.06.94-2.06 2.06-.94-2.06-.94-.94-2.06-.94 2.06-2.06.94z\"/><path d=\"M17.41 7.96l-1.37-1.37c-.4-.4-.92-.59-1.43-.59-.52 0-1.04.2-1.43.59L10.3 9.45l-7.72 7.72c-.78.78-.78 2.05 0 2.83L4 21.41c.39.39.9.59 1.41.59.51 0 1.02-.2 1.41-.59l7.78-7.78 2.81-2.81c.8-.78.8-2.07 0-2.86zM5.41 20L4 18.59l7.72-7.72 1.47 1.35L5.41 20z\"/>\n",
              "  </svg>\n",
              "      </button>\n",
              "      \n",
              "  <style>\n",
              "    .colab-df-container {\n",
              "      display:flex;\n",
              "      flex-wrap:wrap;\n",
              "      gap: 12px;\n",
              "    }\n",
              "\n",
              "    .colab-df-convert {\n",
              "      background-color: #E8F0FE;\n",
              "      border: none;\n",
              "      border-radius: 50%;\n",
              "      cursor: pointer;\n",
              "      display: none;\n",
              "      fill: #1967D2;\n",
              "      height: 32px;\n",
              "      padding: 0 0 0 0;\n",
              "      width: 32px;\n",
              "    }\n",
              "\n",
              "    .colab-df-convert:hover {\n",
              "      background-color: #E2EBFA;\n",
              "      box-shadow: 0px 1px 2px rgba(60, 64, 67, 0.3), 0px 1px 3px 1px rgba(60, 64, 67, 0.15);\n",
              "      fill: #174EA6;\n",
              "    }\n",
              "\n",
              "    [theme=dark] .colab-df-convert {\n",
              "      background-color: #3B4455;\n",
              "      fill: #D2E3FC;\n",
              "    }\n",
              "\n",
              "    [theme=dark] .colab-df-convert:hover {\n",
              "      background-color: #434B5C;\n",
              "      box-shadow: 0px 1px 3px 1px rgba(0, 0, 0, 0.15);\n",
              "      filter: drop-shadow(0px 1px 2px rgba(0, 0, 0, 0.3));\n",
              "      fill: #FFFFFF;\n",
              "    }\n",
              "  </style>\n",
              "\n",
              "      <script>\n",
              "        const buttonEl =\n",
              "          document.querySelector('#df-a46ff210-7ff8-4b1e-a6b2-b9b91c262fbb button.colab-df-convert');\n",
              "        buttonEl.style.display =\n",
              "          google.colab.kernel.accessAllowed ? 'block' : 'none';\n",
              "\n",
              "        async function convertToInteractive(key) {\n",
              "          const element = document.querySelector('#df-a46ff210-7ff8-4b1e-a6b2-b9b91c262fbb');\n",
              "          const dataTable =\n",
              "            await google.colab.kernel.invokeFunction('convertToInteractive',\n",
              "                                                     [key], {});\n",
              "          if (!dataTable) return;\n",
              "\n",
              "          const docLinkHtml = 'Like what you see? Visit the ' +\n",
              "            '<a target=\"_blank\" href=https://colab.research.google.com/notebooks/data_table.ipynb>data table notebook</a>'\n",
              "            + ' to learn more about interactive tables.';\n",
              "          element.innerHTML = '';\n",
              "          dataTable['output_type'] = 'display_data';\n",
              "          await google.colab.output.renderOutput(dataTable, element);\n",
              "          const docLink = document.createElement('div');\n",
              "          docLink.innerHTML = docLinkHtml;\n",
              "          element.appendChild(docLink);\n",
              "        }\n",
              "      </script>\n",
              "    </div>\n",
              "  </div>\n",
              "  "
            ]
          },
          "metadata": {},
          "execution_count": 72
        }
      ]
    },
    {
      "cell_type": "markdown",
      "source": [
        "Para preparar nossos dados, nós temos que pegar algumas classes do Scikit-Learn."
      ],
      "metadata": {
        "id": "RQ1CWl5XBPdT"
      }
    },
    {
      "cell_type": "code",
      "source": [
        "from sklearn.compose import make_column_transformer\n",
        "from sklearn.preprocessing import MinMaxScaler, OneHotEncoder\n",
        "from sklearn.model_selection import train_test_split\n",
        "\n",
        "# Criar uma coluna transformada\n",
        "ct = make_column_transformer(\n",
        "    (MinMaxScaler(),[\"age\", \"bmi\", \"children\"]), #transformar todos os valores nessas colunas em 0s e 1s\n",
        "    (OneHotEncoder(handle_unknown=\"ignore\"), [\"sex\", \"smoker\", \"region\"])\n",
        ")\n",
        "\n",
        "# Criar X e Y\n",
        "X = insurance.drop(\"charges\", axis=1)\n",
        "Y = insurance[\"charges\"]\n",
        "\n",
        "# Construir nossos dados de treino e de teste\n",
        "X_train, X_test, Y_train, Y_test = train_test_split(X, Y, test_size=0.2, random_state=42)\n",
        "\n",
        "# Vamos FIT (moldar) para nosso dado de treino\n",
        "ct.fit(X_train)\n",
        "\n",
        "# Transformar nosso dado de treino e de test como normalização e OneHotEncoder\n",
        "X_train_normal = ct.transform(X_train)\n",
        "X_test_normal = ct.transform(X_test)"
      ],
      "metadata": {
        "id": "artfYyTVFUdp"
      },
      "execution_count": null,
      "outputs": []
    },
    {
      "cell_type": "code",
      "source": [
        "# Como nossos dados se parecem agora?\n",
        "X_train.loc[0]"
      ],
      "metadata": {
        "colab": {
          "base_uri": "https://localhost:8080/"
        },
        "id": "78KfUg2IFV6-",
        "outputId": "a76e7b61-a225-4eb8-914c-89e4013ebbe8"
      },
      "execution_count": null,
      "outputs": [
        {
          "output_type": "execute_result",
          "data": {
            "text/plain": [
              "age                19\n",
              "sex            female\n",
              "bmi              27.9\n",
              "children            0\n",
              "smoker            yes\n",
              "region      southwest\n",
              "Name: 0, dtype: object"
            ]
          },
          "metadata": {},
          "execution_count": 74
        }
      ]
    },
    {
      "cell_type": "code",
      "source": [
        "X_train_normal[0]"
      ],
      "metadata": {
        "colab": {
          "base_uri": "https://localhost:8080/"
        },
        "id": "-182ti7aFfTX",
        "outputId": "63914fb0-1343-41b0-f8d9-09a570626382"
      },
      "execution_count": null,
      "outputs": [
        {
          "output_type": "execute_result",
          "data": {
            "text/plain": [
              "array([0.60869565, 0.10734463, 0.4       , 1.        , 0.        ,\n",
              "       1.        , 0.        , 0.        , 1.        , 0.        ,\n",
              "       0.        ])"
            ]
          },
          "metadata": {},
          "execution_count": 75
        }
      ]
    },
    {
      "cell_type": "code",
      "source": [
        "X_train.shape, X_train_normal.shape"
      ],
      "metadata": {
        "colab": {
          "base_uri": "https://localhost:8080/"
        },
        "id": "VShAmY58FzZW",
        "outputId": "4510dbd8-2b97-419a-f360-b89c639684a4"
      },
      "execution_count": null,
      "outputs": [
        {
          "output_type": "execute_result",
          "data": {
            "text/plain": [
              "((1070, 6), (1070, 11))"
            ]
          },
          "metadata": {},
          "execution_count": 76
        }
      ]
    },
    {
      "cell_type": "markdown",
      "source": [
        "Lindo! Nossos dados foram normalizados e OneHotENcoded.\n",
        "\n",
        "Agora vamos construir um modelo de rede neural com eles."
      ],
      "metadata": {
        "id": "RxufGw7gGDM8"
      }
    },
    {
      "cell_type": "code",
      "source": [
        "tf.random.set_seed(42)\n",
        "\n",
        "model = tf.keras.Sequential([\n",
        "    tf.keras.layers.Dense(100),\n",
        "    tf.keras.layers.Dense(10),\n",
        "    tf.keras.layers.Dense(1),\n",
        "])\n",
        "\n",
        "model.compile(loss=tf.keras.losses.mae,\n",
        "              optimizer=tf.keras.optimizers.Adam(lr=0.01),\n",
        "              metrics=[\"mae\"])\n",
        "\n",
        "model.fit(tf.expand_dims(X_train_normal, axis=-1), Y_train, epochs=100)"
      ],
      "metadata": {
        "colab": {
          "base_uri": "https://localhost:8080/"
        },
        "id": "Pz3ovZIvGazE",
        "outputId": "ad2c4863-8136-4d96-d497-54f567daa5bc"
      },
      "execution_count": null,
      "outputs": [
        {
          "output_type": "stream",
          "name": "stderr",
          "text": [
            "WARNING:absl:`lr` is deprecated in Keras optimizer, please use `learning_rate` or use the legacy optimizer, e.g.,tf.keras.optimizers.legacy.Adam.\n"
          ]
        },
        {
          "output_type": "stream",
          "name": "stdout",
          "text": [
            "Epoch 1/100\n",
            "34/34 [==============================] - 2s 7ms/step - loss: 13345.3193 - mae: 13345.3193\n",
            "Epoch 2/100\n",
            "34/34 [==============================] - 0s 6ms/step - loss: 13342.5635 - mae: 13342.5635\n",
            "Epoch 3/100\n",
            "34/34 [==============================] - 0s 7ms/step - loss: 13336.4736 - mae: 13336.4736\n",
            "Epoch 4/100\n",
            "34/34 [==============================] - 0s 6ms/step - loss: 13324.1367 - mae: 13324.1367\n",
            "Epoch 5/100\n",
            "34/34 [==============================] - 0s 6ms/step - loss: 13302.2051 - mae: 13302.2051\n",
            "Epoch 6/100\n",
            "34/34 [==============================] - 0s 6ms/step - loss: 13267.4893 - mae: 13267.4893\n",
            "Epoch 7/100\n",
            "34/34 [==============================] - 0s 7ms/step - loss: 13217.0996 - mae: 13217.0996\n",
            "Epoch 8/100\n",
            "34/34 [==============================] - 0s 6ms/step - loss: 13148.2432 - mae: 13148.2432\n",
            "Epoch 9/100\n",
            "34/34 [==============================] - 0s 6ms/step - loss: 13058.2344 - mae: 13058.2344\n",
            "Epoch 10/100\n",
            "34/34 [==============================] - 0s 7ms/step - loss: 12944.5615 - mae: 12944.5615\n",
            "Epoch 11/100\n",
            "34/34 [==============================] - 0s 5ms/step - loss: 12804.7305 - mae: 12804.7305\n",
            "Epoch 12/100\n",
            "34/34 [==============================] - 0s 4ms/step - loss: 12636.3555 - mae: 12636.3555\n",
            "Epoch 13/100\n",
            "34/34 [==============================] - 0s 4ms/step - loss: 12439.4307 - mae: 12439.4307\n",
            "Epoch 14/100\n",
            "34/34 [==============================] - 0s 4ms/step - loss: 12214.0371 - mae: 12214.0371\n",
            "Epoch 15/100\n",
            "34/34 [==============================] - 0s 4ms/step - loss: 11967.1377 - mae: 11967.1377\n",
            "Epoch 16/100\n",
            "34/34 [==============================] - 0s 4ms/step - loss: 11703.3809 - mae: 11703.3809\n",
            "Epoch 17/100\n",
            "34/34 [==============================] - 0s 4ms/step - loss: 11427.0879 - mae: 11427.0879\n",
            "Epoch 18/100\n",
            "34/34 [==============================] - 0s 4ms/step - loss: 11139.0898 - mae: 11139.0898\n",
            "Epoch 19/100\n",
            "34/34 [==============================] - 0s 4ms/step - loss: 10851.3594 - mae: 10851.3594\n",
            "Epoch 20/100\n",
            "34/34 [==============================] - 0s 4ms/step - loss: 10573.6484 - mae: 10573.6484\n",
            "Epoch 21/100\n",
            "34/34 [==============================] - 0s 4ms/step - loss: 10307.3643 - mae: 10307.3643\n",
            "Epoch 22/100\n",
            "34/34 [==============================] - 0s 4ms/step - loss: 10056.1104 - mae: 10056.1104\n",
            "Epoch 23/100\n",
            "34/34 [==============================] - 0s 4ms/step - loss: 9818.0381 - mae: 9818.0381\n",
            "Epoch 24/100\n",
            "34/34 [==============================] - 0s 4ms/step - loss: 9593.8906 - mae: 9593.8906\n",
            "Epoch 25/100\n",
            "34/34 [==============================] - 0s 4ms/step - loss: 9404.2812 - mae: 9404.2812\n",
            "Epoch 26/100\n",
            "34/34 [==============================] - 0s 4ms/step - loss: 9226.8926 - mae: 9226.8926\n",
            "Epoch 27/100\n",
            "34/34 [==============================] - 0s 4ms/step - loss: 9081.1553 - mae: 9081.1553\n",
            "Epoch 28/100\n",
            "34/34 [==============================] - 0s 4ms/step - loss: 8960.3682 - mae: 8960.3682\n",
            "Epoch 29/100\n",
            "34/34 [==============================] - 0s 4ms/step - loss: 8861.4756 - mae: 8861.4756\n",
            "Epoch 30/100\n",
            "34/34 [==============================] - 0s 4ms/step - loss: 8783.3232 - mae: 8783.3232\n",
            "Epoch 31/100\n",
            "34/34 [==============================] - 0s 4ms/step - loss: 8721.0664 - mae: 8721.0664\n",
            "Epoch 32/100\n",
            "34/34 [==============================] - 0s 4ms/step - loss: 8675.3574 - mae: 8675.3574\n",
            "Epoch 33/100\n",
            "34/34 [==============================] - 0s 4ms/step - loss: 8638.1699 - mae: 8638.1699\n",
            "Epoch 34/100\n",
            "34/34 [==============================] - 0s 4ms/step - loss: 8610.2939 - mae: 8610.2939\n",
            "Epoch 35/100\n",
            "34/34 [==============================] - 0s 4ms/step - loss: 8586.9775 - mae: 8586.9775\n",
            "Epoch 36/100\n",
            "34/34 [==============================] - 0s 4ms/step - loss: 8568.1191 - mae: 8568.1191\n",
            "Epoch 37/100\n",
            "34/34 [==============================] - 0s 4ms/step - loss: 8553.0527 - mae: 8553.0527\n",
            "Epoch 38/100\n",
            "34/34 [==============================] - 0s 4ms/step - loss: 8540.1162 - mae: 8540.1162\n",
            "Epoch 39/100\n",
            "34/34 [==============================] - 0s 4ms/step - loss: 8527.6650 - mae: 8527.6650\n",
            "Epoch 40/100\n",
            "34/34 [==============================] - 0s 4ms/step - loss: 8516.7148 - mae: 8516.7148\n",
            "Epoch 41/100\n",
            "34/34 [==============================] - 0s 4ms/step - loss: 8506.9648 - mae: 8506.9648\n",
            "Epoch 42/100\n",
            "34/34 [==============================] - 0s 4ms/step - loss: 8497.3477 - mae: 8497.3477\n",
            "Epoch 43/100\n",
            "34/34 [==============================] - 0s 4ms/step - loss: 8487.9141 - mae: 8487.9141\n",
            "Epoch 44/100\n",
            "34/34 [==============================] - 0s 4ms/step - loss: 8478.5420 - mae: 8478.5420\n",
            "Epoch 45/100\n",
            "34/34 [==============================] - 0s 4ms/step - loss: 8470.4287 - mae: 8470.4287\n",
            "Epoch 46/100\n",
            "34/34 [==============================] - 0s 4ms/step - loss: 8461.9785 - mae: 8461.9785\n",
            "Epoch 47/100\n",
            "34/34 [==============================] - 0s 4ms/step - loss: 8455.1611 - mae: 8455.1611\n",
            "Epoch 48/100\n",
            "34/34 [==============================] - 0s 4ms/step - loss: 8445.6797 - mae: 8445.6797\n",
            "Epoch 49/100\n",
            "34/34 [==============================] - 0s 4ms/step - loss: 8438.7129 - mae: 8438.7129\n",
            "Epoch 50/100\n",
            "34/34 [==============================] - 0s 4ms/step - loss: 8430.9863 - mae: 8430.9863\n",
            "Epoch 51/100\n",
            "34/34 [==============================] - 0s 4ms/step - loss: 8426.1621 - mae: 8426.1621\n",
            "Epoch 52/100\n",
            "34/34 [==============================] - 0s 4ms/step - loss: 8417.8955 - mae: 8417.8955\n",
            "Epoch 53/100\n",
            "34/34 [==============================] - 0s 4ms/step - loss: 8412.0078 - mae: 8412.0078\n",
            "Epoch 54/100\n",
            "34/34 [==============================] - 0s 4ms/step - loss: 8406.0049 - mae: 8406.0049\n",
            "Epoch 55/100\n",
            "34/34 [==============================] - 0s 4ms/step - loss: 8400.1533 - mae: 8400.1533\n",
            "Epoch 56/100\n",
            "34/34 [==============================] - 0s 4ms/step - loss: 8394.2012 - mae: 8394.2012\n",
            "Epoch 57/100\n",
            "34/34 [==============================] - 0s 4ms/step - loss: 8388.7354 - mae: 8388.7354\n",
            "Epoch 58/100\n",
            "34/34 [==============================] - 0s 4ms/step - loss: 8383.6211 - mae: 8383.6211\n",
            "Epoch 59/100\n",
            "34/34 [==============================] - 0s 4ms/step - loss: 8379.4531 - mae: 8379.4531\n",
            "Epoch 60/100\n",
            "34/34 [==============================] - 0s 6ms/step - loss: 8373.9277 - mae: 8373.9277\n",
            "Epoch 61/100\n",
            "34/34 [==============================] - 0s 9ms/step - loss: 8369.6348 - mae: 8369.6348\n",
            "Epoch 62/100\n",
            "34/34 [==============================] - 0s 8ms/step - loss: 8364.5195 - mae: 8364.5195\n",
            "Epoch 63/100\n",
            "34/34 [==============================] - 0s 8ms/step - loss: 8360.6270 - mae: 8360.6270\n",
            "Epoch 64/100\n",
            "34/34 [==============================] - 0s 4ms/step - loss: 8356.2363 - mae: 8356.2363\n",
            "Epoch 65/100\n",
            "34/34 [==============================] - 0s 4ms/step - loss: 8352.4199 - mae: 8352.4199\n",
            "Epoch 66/100\n",
            "34/34 [==============================] - 0s 4ms/step - loss: 8348.7090 - mae: 8348.7090\n",
            "Epoch 67/100\n",
            "34/34 [==============================] - 0s 4ms/step - loss: 8345.0693 - mae: 8345.0693\n",
            "Epoch 68/100\n",
            "34/34 [==============================] - 0s 4ms/step - loss: 8341.3008 - mae: 8341.3008\n",
            "Epoch 69/100\n",
            "34/34 [==============================] - 0s 4ms/step - loss: 8337.7305 - mae: 8337.7305\n",
            "Epoch 70/100\n",
            "34/34 [==============================] - 0s 4ms/step - loss: 8334.8223 - mae: 8334.8223\n",
            "Epoch 71/100\n",
            "34/34 [==============================] - 0s 4ms/step - loss: 8330.9834 - mae: 8330.9834\n",
            "Epoch 72/100\n",
            "34/34 [==============================] - 0s 4ms/step - loss: 8328.0879 - mae: 8328.0879\n",
            "Epoch 73/100\n",
            "34/34 [==============================] - 0s 4ms/step - loss: 8324.6846 - mae: 8324.6846\n",
            "Epoch 74/100\n",
            "34/34 [==============================] - 0s 4ms/step - loss: 8321.8262 - mae: 8321.8262\n",
            "Epoch 75/100\n",
            "34/34 [==============================] - 0s 4ms/step - loss: 8318.9521 - mae: 8318.9521\n",
            "Epoch 76/100\n",
            "34/34 [==============================] - 0s 4ms/step - loss: 8316.9590 - mae: 8316.9590\n",
            "Epoch 77/100\n",
            "34/34 [==============================] - 0s 4ms/step - loss: 8313.9395 - mae: 8313.9395\n",
            "Epoch 78/100\n",
            "34/34 [==============================] - 0s 4ms/step - loss: 8311.8555 - mae: 8311.8555\n",
            "Epoch 79/100\n",
            "34/34 [==============================] - 0s 6ms/step - loss: 8309.2666 - mae: 8309.2666\n",
            "Epoch 80/100\n",
            "34/34 [==============================] - 0s 6ms/step - loss: 8307.0303 - mae: 8307.0303\n",
            "Epoch 81/100\n",
            "34/34 [==============================] - 0s 6ms/step - loss: 8305.0947 - mae: 8305.0947\n",
            "Epoch 82/100\n",
            "34/34 [==============================] - 0s 7ms/step - loss: 8306.2305 - mae: 8306.2305\n",
            "Epoch 83/100\n",
            "34/34 [==============================] - 0s 6ms/step - loss: 8302.2539 - mae: 8302.2539\n",
            "Epoch 84/100\n",
            "34/34 [==============================] - 0s 6ms/step - loss: 8299.5322 - mae: 8299.5322\n",
            "Epoch 85/100\n",
            "34/34 [==============================] - 0s 7ms/step - loss: 8299.4785 - mae: 8299.4785\n",
            "Epoch 86/100\n",
            "34/34 [==============================] - 0s 6ms/step - loss: 8297.0723 - mae: 8297.0723\n",
            "Epoch 87/100\n",
            "34/34 [==============================] - 0s 6ms/step - loss: 8296.1875 - mae: 8296.1875\n",
            "Epoch 88/100\n",
            "34/34 [==============================] - 0s 6ms/step - loss: 8294.4092 - mae: 8294.4092\n",
            "Epoch 89/100\n",
            "34/34 [==============================] - 0s 6ms/step - loss: 8293.1436 - mae: 8293.1436\n",
            "Epoch 90/100\n",
            "34/34 [==============================] - 0s 6ms/step - loss: 8293.4014 - mae: 8293.4014\n",
            "Epoch 91/100\n",
            "34/34 [==============================] - 0s 6ms/step - loss: 8291.1631 - mae: 8291.1631\n",
            "Epoch 92/100\n",
            "34/34 [==============================] - 0s 6ms/step - loss: 8291.1582 - mae: 8291.1582\n",
            "Epoch 93/100\n",
            "34/34 [==============================] - 0s 6ms/step - loss: 8289.9746 - mae: 8289.9746\n",
            "Epoch 94/100\n",
            "34/34 [==============================] - 0s 6ms/step - loss: 8289.8584 - mae: 8289.8584\n",
            "Epoch 95/100\n",
            "34/34 [==============================] - 0s 7ms/step - loss: 8289.1904 - mae: 8289.1904\n",
            "Epoch 96/100\n",
            "34/34 [==============================] - 0s 4ms/step - loss: 8287.6182 - mae: 8287.6182\n",
            "Epoch 97/100\n",
            "34/34 [==============================] - 0s 4ms/step - loss: 8287.9668 - mae: 8287.9668\n",
            "Epoch 98/100\n",
            "34/34 [==============================] - 0s 4ms/step - loss: 8286.6230 - mae: 8286.6230\n",
            "Epoch 99/100\n",
            "34/34 [==============================] - 0s 4ms/step - loss: 8286.6611 - mae: 8286.6611\n",
            "Epoch 100/100\n",
            "34/34 [==============================] - 0s 4ms/step - loss: 8285.6279 - mae: 8285.6279\n"
          ]
        },
        {
          "output_type": "execute_result",
          "data": {
            "text/plain": [
              "<keras.callbacks.History at 0x7f3eda984b80>"
            ]
          },
          "metadata": {},
          "execution_count": 77
        }
      ]
    },
    {
      "cell_type": "code",
      "source": [
        "# Avaliando o modelo\n",
        "model.evaluate(X_test_normal, Y_test)"
      ],
      "metadata": {
        "colab": {
          "base_uri": "https://localhost:8080/"
        },
        "id": "huWWGZ51IQG4",
        "outputId": "1f547acd-fdef-40b4-92e9-6457fcef3697"
      },
      "execution_count": null,
      "outputs": [
        {
          "output_type": "stream",
          "name": "stdout",
          "text": [
            "9/9 [==============================] - 0s 3ms/step - loss: 8621.9238 - mae: 8621.9238\n"
          ]
        },
        {
          "output_type": "execute_result",
          "data": {
            "text/plain": [
              "[8621.923828125, 8621.923828125]"
            ]
          },
          "metadata": {},
          "execution_count": 78
        }
      ]
    },
    {
      "cell_type": "code",
      "source": [
        "X[\"age\"].plot(kind=\"hist\")"
      ],
      "metadata": {
        "colab": {
          "base_uri": "https://localhost:8080/",
          "height": 447
        },
        "id": "XGRBcUjI-hrh",
        "outputId": "42815430-9a9f-46de-a8f0-9076381b13c6"
      },
      "execution_count": null,
      "outputs": [
        {
          "output_type": "execute_result",
          "data": {
            "text/plain": [
              "<Axes: ylabel='Frequency'>"
            ]
          },
          "metadata": {},
          "execution_count": 79
        },
        {
          "output_type": "display_data",
          "data": {
            "text/plain": [
              "<Figure size 640x480 with 1 Axes>"
            ],
            "image/png": "[encoded data removed]"
          },
          "metadata": {}
        }
      ]
    },
    {
      "cell_type": "code",
      "source": [
        "X[\"bmi\"].plot(kind=\"hist\")"
      ],
      "metadata": {
        "colab": {
          "base_uri": "https://localhost:8080/",
          "height": 447
        },
        "id": "ncOcN8zF-2Qt",
        "outputId": "dd9cbac2-432f-4b48-a3e8-b7852e1df354"
      },
      "execution_count": null,
      "outputs": [
        {
          "output_type": "execute_result",
          "data": {
            "text/plain": [
              "<Axes: ylabel='Frequency'>"
            ]
          },
          "metadata": {},
          "execution_count": 80
        },
        {
          "output_type": "display_data",
          "data": {
            "text/plain": [
              "<Figure size 640x480 with 1 Axes>"
            ],
            "image/png": "[encoded data removed]"
          },
          "metadata": {}
        }
      ]
    },
    {
      "cell_type": "code",
      "source": [
        "X[\"children\"].value_counts()"
      ],
      "metadata": {
        "colab": {
          "base_uri": "https://localhost:8080/"
        },
        "id": "y8frARWT-3Nj",
        "outputId": "9c56e8ce-5acb-443d-fa16-76a720f20a44"
      },
      "execution_count": null,
      "outputs": [
        {
          "output_type": "execute_result",
          "data": {
            "text/plain": [
              "0    574\n",
              "1    324\n",
              "2    240\n",
              "3    157\n",
              "4     25\n",
              "5     18\n",
              "Name: children, dtype: int64"
            ]
          },
          "metadata": {},
          "execution_count": 81
        }
      ]
    },
    {
      "cell_type": "markdown",
      "source": [
        "# 01. Neural network regression with TensorFlow Exercises\n",
        "1. Create your own regression dataset (or make the one we created in \"Create data to view and fit\" bigger) and build fit a model to it.\n",
        "2. Try building a neural network with 4 Dense layers and fitting it to your own regression dataset, how does it perform?\n",
        "3. Try and improve the results we got on the insurance dataset, some things you might want to try include:\n",
        "* Building a larger model (how does one with 4 dense layers go?).\n",
        "* Increasing the number of units in each layer.\n",
        "* Lookup the documentation of Adam and find out what the first parameter is, what happens if you increase it by 10x?\n",
        "* What happens if you train for longer (say 300 epochs instead of 200)?\n",
        "4. Import the Boston pricing dataset from TensorFlow tf.keras.datasets and model it.\n"
      ],
      "metadata": {
        "id": "lA4rWnV10wq2"
      }
    },
    {
      "cell_type": "code",
      "source": [
        "import pandas as pd\n",
        "import matplotlib.pyplot as plt\n",
        "import tensorflow as tf\n",
        "\n",
        "from sklearn.compose import make_column_transformer\n",
        "from sklearn.preprocessing import MinMaxScaler, OneHotEncoder\n",
        "from sklearn.model_selection import train_test_split\n",
        "\n",
        "(x_train, y_train), (x_test, y_test) = tf.keras.datasets.boston_housing.load_data(\n",
        "    path='boston_housing.npz', test_split=0.2, seed=113\n",
        ")\n",
        "\n",
        "model_bh = tf.keras.Sequential([\n",
        "    tf.keras.layers.Dense(50),\n",
        "    tf.keras.layers.Dense(20),\n",
        "    tf.keras.layers.Dense(10),\n",
        "    tf.keras.layers.Dense(1)\n",
        "])\n",
        "\n",
        "model_bh.compile(loss=tf.keras.losses.mae,\n",
        "                 optimizer=tf.keras.optimizers.Adam(lr=0.01),\n",
        "                 metrics=[\"mae\"])\n",
        "\n",
        "hist = model_bh.fit(tf.expand_dims(x_train, axis=-1), y_train, epochs=200)"
      ],
      "metadata": {
        "colab": {
          "base_uri": "https://localhost:8080/"
        },
        "id": "I136KMcl1I4r",
        "outputId": "efb75234-1abf-45d4-dc42-7cccd0bec3ac"
      },
      "execution_count": null,
      "outputs": [
        {
          "output_type": "stream",
          "name": "stdout",
          "text": [
            "Downloading data from https://storage.googleapis.com/tensorflow/tf-keras-datasets/boston_housing.npz\n",
            "57026/57026 [==============================] - 0s 0us/step\n"
          ]
        },
        {
          "output_type": "stream",
          "name": "stderr",
          "text": [
            "WARNING:absl:`lr` is deprecated in Keras optimizer, please use `learning_rate` or use the legacy optimizer, e.g.,tf.keras.optimizers.legacy.Adam.\n"
          ]
        },
        {
          "output_type": "stream",
          "name": "stdout",
          "text": [
            "Epoch 1/200\n",
            "13/13 [==============================] - 2s 4ms/step - loss: 25.0899 - mae: 25.0899\n",
            "Epoch 2/200\n",
            "13/13 [==============================] - 0s 4ms/step - loss: 20.4522 - mae: 20.4523\n",
            "Epoch 3/200\n",
            "13/13 [==============================] - 0s 4ms/step - loss: 19.3789 - mae: 19.3789\n",
            "Epoch 4/200\n",
            "13/13 [==============================] - 0s 5ms/step - loss: 19.0897 - mae: 19.0897\n",
            "Epoch 5/200\n",
            "13/13 [==============================] - 0s 5ms/step - loss: 18.8287 - mae: 18.8287\n",
            "Epoch 6/200\n",
            "13/13 [==============================] - 0s 4ms/step - loss: 18.5854 - mae: 18.5854\n",
            "Epoch 7/200\n",
            "13/13 [==============================] - 0s 4ms/step - loss: 18.3710 - mae: 18.3710\n",
            "Epoch 8/200\n",
            "13/13 [==============================] - 0s 5ms/step - loss: 18.1191 - mae: 18.1191\n",
            "Epoch 9/200\n",
            "13/13 [==============================] - 0s 4ms/step - loss: 17.9333 - mae: 17.9333\n",
            "Epoch 10/200\n",
            "13/13 [==============================] - 0s 4ms/step - loss: 17.6476 - mae: 17.6476\n",
            "Epoch 11/200\n",
            "13/13 [==============================] - 0s 4ms/step - loss: 17.1964 - mae: 17.1964\n",
            "Epoch 12/200\n",
            "13/13 [==============================] - 0s 5ms/step - loss: 16.6282 - mae: 16.6282\n",
            "Epoch 13/200\n",
            "13/13 [==============================] - 0s 4ms/step - loss: 16.1376 - mae: 16.1376\n",
            "Epoch 14/200\n",
            "13/13 [==============================] - 0s 6ms/step - loss: 15.4743 - mae: 15.4743\n",
            "Epoch 15/200\n",
            "13/13 [==============================] - 0s 5ms/step - loss: 14.6444 - mae: 14.6444\n",
            "Epoch 16/200\n",
            "13/13 [==============================] - 0s 5ms/step - loss: 13.6690 - mae: 13.6690\n",
            "Epoch 17/200\n",
            "13/13 [==============================] - 0s 5ms/step - loss: 12.5919 - mae: 12.5919\n",
            "Epoch 18/200\n",
            "13/13 [==============================] - 0s 4ms/step - loss: 11.3746 - mae: 11.3746\n",
            "Epoch 19/200\n",
            "13/13 [==============================] - 0s 6ms/step - loss: 10.0577 - mae: 10.0577\n",
            "Epoch 20/200\n",
            "13/13 [==============================] - 0s 5ms/step - loss: 8.5417 - mae: 8.5417\n",
            "Epoch 21/200\n",
            "13/13 [==============================] - 0s 4ms/step - loss: 7.6211 - mae: 7.6211\n",
            "Epoch 22/200\n",
            "13/13 [==============================] - 0s 4ms/step - loss: 7.4683 - mae: 7.4683\n",
            "Epoch 23/200\n",
            "13/13 [==============================] - 0s 4ms/step - loss: 7.3976 - mae: 7.3976\n",
            "Epoch 24/200\n",
            "13/13 [==============================] - 0s 4ms/step - loss: 6.9572 - mae: 6.9572\n",
            "Epoch 25/200\n",
            "13/13 [==============================] - 0s 5ms/step - loss: 6.7831 - mae: 6.7831\n",
            "Epoch 26/200\n",
            "13/13 [==============================] - 0s 5ms/step - loss: 6.8693 - mae: 6.8693\n",
            "Epoch 27/200\n",
            "13/13 [==============================] - 0s 4ms/step - loss: 6.9578 - mae: 6.9578\n",
            "Epoch 28/200\n",
            "13/13 [==============================] - 0s 4ms/step - loss: 7.1167 - mae: 7.1167\n",
            "Epoch 29/200\n",
            "13/13 [==============================] - 0s 4ms/step - loss: 6.9097 - mae: 6.9097\n",
            "Epoch 30/200\n",
            "13/13 [==============================] - 0s 5ms/step - loss: 7.4872 - mae: 7.4872\n",
            "Epoch 31/200\n",
            "13/13 [==============================] - 0s 4ms/step - loss: 6.9375 - mae: 6.9375\n",
            "Epoch 32/200\n",
            "13/13 [==============================] - 0s 4ms/step - loss: 6.8363 - mae: 6.8363\n",
            "Epoch 33/200\n",
            "13/13 [==============================] - 0s 4ms/step - loss: 6.6790 - mae: 6.6790\n",
            "Epoch 34/200\n",
            "13/13 [==============================] - 0s 5ms/step - loss: 6.5832 - mae: 6.5832\n",
            "Epoch 35/200\n",
            "13/13 [==============================] - 0s 4ms/step - loss: 6.7599 - mae: 6.7599\n",
            "Epoch 36/200\n",
            "13/13 [==============================] - 0s 4ms/step - loss: 6.6411 - mae: 6.6411\n",
            "Epoch 37/200\n",
            "13/13 [==============================] - 0s 5ms/step - loss: 6.6898 - mae: 6.6898\n",
            "Epoch 38/200\n",
            "13/13 [==============================] - 0s 4ms/step - loss: 6.6674 - mae: 6.6674\n",
            "Epoch 39/200\n",
            "13/13 [==============================] - 0s 4ms/step - loss: 6.8189 - mae: 6.8189\n",
            "Epoch 40/200\n",
            "13/13 [==============================] - 0s 4ms/step - loss: 6.6648 - mae: 6.6648\n",
            "Epoch 41/200\n",
            "13/13 [==============================] - 0s 5ms/step - loss: 6.5612 - mae: 6.5612\n",
            "Epoch 42/200\n",
            "13/13 [==============================] - 0s 5ms/step - loss: 6.6406 - mae: 6.6406\n",
            "Epoch 43/200\n",
            "13/13 [==============================] - 0s 5ms/step - loss: 6.7269 - mae: 6.7269\n",
            "Epoch 44/200\n",
            "13/13 [==============================] - 0s 5ms/step - loss: 6.8220 - mae: 6.8220\n",
            "Epoch 45/200\n",
            "13/13 [==============================] - 0s 5ms/step - loss: 7.0279 - mae: 7.0279\n",
            "Epoch 46/200\n",
            "13/13 [==============================] - 0s 6ms/step - loss: 6.7148 - mae: 6.7148\n",
            "Epoch 47/200\n",
            "13/13 [==============================] - 0s 4ms/step - loss: 6.5669 - mae: 6.5669\n",
            "Epoch 48/200\n",
            "13/13 [==============================] - 0s 5ms/step - loss: 6.7188 - mae: 6.7188\n",
            "Epoch 49/200\n",
            "13/13 [==============================] - 0s 6ms/step - loss: 6.6128 - mae: 6.6128\n",
            "Epoch 50/200\n",
            "13/13 [==============================] - 0s 5ms/step - loss: 6.5937 - mae: 6.5937\n",
            "Epoch 51/200\n",
            "13/13 [==============================] - 0s 5ms/step - loss: 6.6221 - mae: 6.6221\n",
            "Epoch 52/200\n",
            "13/13 [==============================] - 0s 6ms/step - loss: 6.5844 - mae: 6.5844\n",
            "Epoch 53/200\n",
            "13/13 [==============================] - 0s 5ms/step - loss: 6.8289 - mae: 6.8289\n",
            "Epoch 54/200\n",
            "13/13 [==============================] - 0s 4ms/step - loss: 6.7488 - mae: 6.7488\n",
            "Epoch 55/200\n",
            "13/13 [==============================] - 0s 5ms/step - loss: 6.7332 - mae: 6.7332\n",
            "Epoch 56/200\n",
            "13/13 [==============================] - 0s 4ms/step - loss: 6.6960 - mae: 6.6960\n",
            "Epoch 57/200\n",
            "13/13 [==============================] - 0s 5ms/step - loss: 6.7871 - mae: 6.7871\n",
            "Epoch 58/200\n",
            "13/13 [==============================] - 0s 4ms/step - loss: 6.6959 - mae: 6.6959\n",
            "Epoch 59/200\n",
            "13/13 [==============================] - 0s 4ms/step - loss: 6.8587 - mae: 6.8587\n",
            "Epoch 60/200\n",
            "13/13 [==============================] - 0s 5ms/step - loss: 6.6186 - mae: 6.6186\n",
            "Epoch 61/200\n",
            "13/13 [==============================] - 0s 8ms/step - loss: 6.6973 - mae: 6.6973\n",
            "Epoch 62/200\n",
            "13/13 [==============================] - 0s 7ms/step - loss: 6.6186 - mae: 6.6186\n",
            "Epoch 63/200\n",
            "13/13 [==============================] - 0s 7ms/step - loss: 6.6011 - mae: 6.6011\n",
            "Epoch 64/200\n",
            "13/13 [==============================] - 0s 8ms/step - loss: 6.7646 - mae: 6.7646\n",
            "Epoch 65/200\n",
            "13/13 [==============================] - 0s 7ms/step - loss: 6.8546 - mae: 6.8546\n",
            "Epoch 66/200\n",
            "13/13 [==============================] - 0s 7ms/step - loss: 7.0402 - mae: 7.0402\n",
            "Epoch 67/200\n",
            "13/13 [==============================] - 0s 7ms/step - loss: 6.7988 - mae: 6.7988\n",
            "Epoch 68/200\n",
            "13/13 [==============================] - 0s 7ms/step - loss: 6.6688 - mae: 6.6688\n",
            "Epoch 69/200\n",
            "13/13 [==============================] - 0s 7ms/step - loss: 6.5516 - mae: 6.5516\n",
            "Epoch 70/200\n",
            "13/13 [==============================] - 0s 7ms/step - loss: 6.6705 - mae: 6.6705\n",
            "Epoch 71/200\n",
            "13/13 [==============================] - 0s 8ms/step - loss: 6.7475 - mae: 6.7475\n",
            "Epoch 72/200\n",
            "13/13 [==============================] - 0s 7ms/step - loss: 6.7406 - mae: 6.7406\n",
            "Epoch 73/200\n",
            "13/13 [==============================] - 0s 7ms/step - loss: 6.8494 - mae: 6.8494\n",
            "Epoch 74/200\n",
            "13/13 [==============================] - 0s 7ms/step - loss: 6.6084 - mae: 6.6084\n",
            "Epoch 75/200\n",
            "13/13 [==============================] - 0s 7ms/step - loss: 6.5337 - mae: 6.5337\n",
            "Epoch 76/200\n",
            "13/13 [==============================] - 0s 7ms/step - loss: 6.6933 - mae: 6.6933\n",
            "Epoch 77/200\n",
            "13/13 [==============================] - 0s 7ms/step - loss: 6.8556 - mae: 6.8556\n",
            "Epoch 78/200\n",
            "13/13 [==============================] - 0s 7ms/step - loss: 7.6069 - mae: 7.6069\n",
            "Epoch 79/200\n",
            "13/13 [==============================] - 0s 7ms/step - loss: 7.7371 - mae: 7.7371\n",
            "Epoch 80/200\n",
            "13/13 [==============================] - 0s 7ms/step - loss: 6.6489 - mae: 6.6489\n",
            "Epoch 81/200\n",
            "13/13 [==============================] - 0s 7ms/step - loss: 6.7425 - mae: 6.7425\n",
            "Epoch 82/200\n",
            "13/13 [==============================] - 0s 7ms/step - loss: 6.5843 - mae: 6.5843\n",
            "Epoch 83/200\n",
            "13/13 [==============================] - 0s 7ms/step - loss: 6.6861 - mae: 6.6861\n",
            "Epoch 84/200\n",
            "13/13 [==============================] - 0s 7ms/step - loss: 6.7104 - mae: 6.7104\n",
            "Epoch 85/200\n",
            "13/13 [==============================] - 0s 7ms/step - loss: 6.7389 - mae: 6.7389\n",
            "Epoch 86/200\n",
            "13/13 [==============================] - 0s 7ms/step - loss: 6.9045 - mae: 6.9045\n",
            "Epoch 87/200\n",
            "13/13 [==============================] - 0s 7ms/step - loss: 6.8503 - mae: 6.8503\n",
            "Epoch 88/200\n",
            "13/13 [==============================] - 0s 7ms/step - loss: 6.6572 - mae: 6.6572\n",
            "Epoch 89/200\n",
            "13/13 [==============================] - 0s 7ms/step - loss: 6.6580 - mae: 6.6580\n",
            "Epoch 90/200\n",
            "13/13 [==============================] - 0s 7ms/step - loss: 6.5730 - mae: 6.5730\n",
            "Epoch 91/200\n",
            "13/13 [==============================] - 0s 7ms/step - loss: 6.7006 - mae: 6.7006\n",
            "Epoch 92/200\n",
            "13/13 [==============================] - 0s 7ms/step - loss: 6.5612 - mae: 6.5612\n",
            "Epoch 93/200\n",
            "13/13 [==============================] - 0s 7ms/step - loss: 6.6551 - mae: 6.6551\n",
            "Epoch 94/200\n",
            "13/13 [==============================] - 0s 7ms/step - loss: 6.6208 - mae: 6.6208\n",
            "Epoch 95/200\n",
            "13/13 [==============================] - 0s 7ms/step - loss: 6.6537 - mae: 6.6537\n",
            "Epoch 96/200\n",
            "13/13 [==============================] - 0s 7ms/step - loss: 6.5369 - mae: 6.5369\n",
            "Epoch 97/200\n",
            "13/13 [==============================] - 0s 7ms/step - loss: 6.5567 - mae: 6.5567\n",
            "Epoch 98/200\n",
            "13/13 [==============================] - 0s 8ms/step - loss: 6.7227 - mae: 6.7227\n",
            "Epoch 99/200\n",
            "13/13 [==============================] - 0s 9ms/step - loss: 6.5983 - mae: 6.5983\n",
            "Epoch 100/200\n",
            "13/13 [==============================] - 0s 5ms/step - loss: 6.7537 - mae: 6.7537\n",
            "Epoch 101/200\n",
            "13/13 [==============================] - 0s 5ms/step - loss: 6.8593 - mae: 6.8593\n",
            "Epoch 102/200\n",
            "13/13 [==============================] - 0s 5ms/step - loss: 6.6776 - mae: 6.6776\n",
            "Epoch 103/200\n",
            "13/13 [==============================] - 0s 5ms/step - loss: 6.7707 - mae: 6.7707\n",
            "Epoch 104/200\n",
            "13/13 [==============================] - 0s 5ms/step - loss: 6.6036 - mae: 6.6036\n",
            "Epoch 105/200\n",
            "13/13 [==============================] - 0s 4ms/step - loss: 6.6382 - mae: 6.6382\n",
            "Epoch 106/200\n",
            "13/13 [==============================] - 0s 5ms/step - loss: 6.5732 - mae: 6.5732\n",
            "Epoch 107/200\n",
            "13/13 [==============================] - 0s 5ms/step - loss: 6.7982 - mae: 6.7982\n",
            "Epoch 108/200\n",
            "13/13 [==============================] - 0s 5ms/step - loss: 6.7488 - mae: 6.7488\n",
            "Epoch 109/200\n",
            "13/13 [==============================] - 0s 5ms/step - loss: 6.5506 - mae: 6.5506\n",
            "Epoch 110/200\n",
            "13/13 [==============================] - 0s 5ms/step - loss: 6.6807 - mae: 6.6807\n",
            "Epoch 111/200\n",
            "13/13 [==============================] - 0s 5ms/step - loss: 6.5840 - mae: 6.5840\n",
            "Epoch 112/200\n",
            "13/13 [==============================] - 0s 5ms/step - loss: 6.7813 - mae: 6.7813\n",
            "Epoch 113/200\n",
            "13/13 [==============================] - 0s 5ms/step - loss: 6.7295 - mae: 6.7295\n",
            "Epoch 114/200\n",
            "13/13 [==============================] - 0s 5ms/step - loss: 6.6481 - mae: 6.6481\n",
            "Epoch 115/200\n",
            "13/13 [==============================] - 0s 5ms/step - loss: 6.6731 - mae: 6.6731\n",
            "Epoch 116/200\n",
            "13/13 [==============================] - 0s 5ms/step - loss: 6.5450 - mae: 6.5450\n",
            "Epoch 117/200\n",
            "13/13 [==============================] - 0s 5ms/step - loss: 6.5685 - mae: 6.5685\n",
            "Epoch 118/200\n",
            "13/13 [==============================] - 0s 7ms/step - loss: 6.5360 - mae: 6.5360\n",
            "Epoch 119/200\n",
            "13/13 [==============================] - 0s 5ms/step - loss: 6.6648 - mae: 6.6648\n",
            "Epoch 120/200\n",
            "13/13 [==============================] - 0s 4ms/step - loss: 6.7158 - mae: 6.7158\n",
            "Epoch 121/200\n",
            "13/13 [==============================] - 0s 5ms/step - loss: 6.6004 - mae: 6.6004\n",
            "Epoch 122/200\n",
            "13/13 [==============================] - 0s 5ms/step - loss: 6.6790 - mae: 6.6790\n",
            "Epoch 123/200\n",
            "13/13 [==============================] - 0s 5ms/step - loss: 6.6550 - mae: 6.6550\n",
            "Epoch 124/200\n",
            "13/13 [==============================] - 0s 4ms/step - loss: 6.7384 - mae: 6.7384\n",
            "Epoch 125/200\n",
            "13/13 [==============================] - 0s 5ms/step - loss: 6.7252 - mae: 6.7252\n",
            "Epoch 126/200\n",
            "13/13 [==============================] - 0s 5ms/step - loss: 6.8813 - mae: 6.8813\n",
            "Epoch 127/200\n",
            "13/13 [==============================] - 0s 5ms/step - loss: 6.6691 - mae: 6.6691\n",
            "Epoch 128/200\n",
            "13/13 [==============================] - 0s 5ms/step - loss: 6.7776 - mae: 6.7776\n",
            "Epoch 129/200\n",
            "13/13 [==============================] - 0s 5ms/step - loss: 6.5975 - mae: 6.5975\n",
            "Epoch 130/200\n",
            "13/13 [==============================] - 0s 5ms/step - loss: 6.6208 - mae: 6.6208\n",
            "Epoch 131/200\n",
            "13/13 [==============================] - 0s 5ms/step - loss: 6.6635 - mae: 6.6635\n",
            "Epoch 132/200\n",
            "13/13 [==============================] - 0s 5ms/step - loss: 6.7433 - mae: 6.7433\n",
            "Epoch 133/200\n",
            "13/13 [==============================] - 0s 5ms/step - loss: 6.9497 - mae: 6.9497\n",
            "Epoch 134/200\n",
            "13/13 [==============================] - 0s 5ms/step - loss: 6.7851 - mae: 6.7851\n",
            "Epoch 135/200\n",
            "13/13 [==============================] - 0s 4ms/step - loss: 6.7625 - mae: 6.7625\n",
            "Epoch 136/200\n",
            "13/13 [==============================] - 0s 4ms/step - loss: 6.5874 - mae: 6.5874\n",
            "Epoch 137/200\n",
            "13/13 [==============================] - 0s 5ms/step - loss: 6.6672 - mae: 6.6672\n",
            "Epoch 138/200\n",
            "13/13 [==============================] - 0s 4ms/step - loss: 6.8259 - mae: 6.8259\n",
            "Epoch 139/200\n",
            "13/13 [==============================] - 0s 5ms/step - loss: 6.7366 - mae: 6.7366\n",
            "Epoch 140/200\n",
            "13/13 [==============================] - 0s 5ms/step - loss: 6.5954 - mae: 6.5954\n",
            "Epoch 141/200\n",
            "13/13 [==============================] - 0s 6ms/step - loss: 6.7133 - mae: 6.7133\n",
            "Epoch 142/200\n",
            "13/13 [==============================] - 0s 5ms/step - loss: 6.6054 - mae: 6.6054\n",
            "Epoch 143/200\n",
            "13/13 [==============================] - 0s 5ms/step - loss: 6.6648 - mae: 6.6648\n",
            "Epoch 144/200\n",
            "13/13 [==============================] - 0s 6ms/step - loss: 6.6984 - mae: 6.6984\n",
            "Epoch 145/200\n",
            "13/13 [==============================] - 0s 4ms/step - loss: 6.5971 - mae: 6.5971\n",
            "Epoch 146/200\n",
            "13/13 [==============================] - 0s 5ms/step - loss: 6.5778 - mae: 6.5778\n",
            "Epoch 147/200\n",
            "13/13 [==============================] - 0s 6ms/step - loss: 6.7056 - mae: 6.7056\n",
            "Epoch 148/200\n",
            "13/13 [==============================] - 0s 4ms/step - loss: 6.5313 - mae: 6.5313\n",
            "Epoch 149/200\n",
            "13/13 [==============================] - 0s 5ms/step - loss: 6.5886 - mae: 6.5886\n",
            "Epoch 150/200\n",
            "13/13 [==============================] - 0s 4ms/step - loss: 6.6536 - mae: 6.6536\n",
            "Epoch 151/200\n",
            "13/13 [==============================] - 0s 5ms/step - loss: 6.6940 - mae: 6.6940\n",
            "Epoch 152/200\n",
            "13/13 [==============================] - 0s 5ms/step - loss: 6.6308 - mae: 6.6308\n",
            "Epoch 153/200\n",
            "13/13 [==============================] - 0s 5ms/step - loss: 6.7657 - mae: 6.7657\n",
            "Epoch 154/200\n",
            "13/13 [==============================] - 0s 5ms/step - loss: 6.9391 - mae: 6.9391\n",
            "Epoch 155/200\n",
            "13/13 [==============================] - 0s 5ms/step - loss: 6.5940 - mae: 6.5940\n",
            "Epoch 156/200\n",
            "13/13 [==============================] - 0s 5ms/step - loss: 6.5411 - mae: 6.5411\n",
            "Epoch 157/200\n",
            "13/13 [==============================] - 0s 4ms/step - loss: 6.8111 - mae: 6.8111\n",
            "Epoch 158/200\n",
            "13/13 [==============================] - 0s 4ms/step - loss: 6.6263 - mae: 6.6263\n",
            "Epoch 159/200\n",
            "13/13 [==============================] - 0s 4ms/step - loss: 6.6395 - mae: 6.6395\n",
            "Epoch 160/200\n",
            "13/13 [==============================] - 0s 6ms/step - loss: 6.5997 - mae: 6.5997\n",
            "Epoch 161/200\n",
            "13/13 [==============================] - 0s 5ms/step - loss: 6.6261 - mae: 6.6261\n",
            "Epoch 162/200\n",
            "13/13 [==============================] - 0s 6ms/step - loss: 6.5484 - mae: 6.5484\n",
            "Epoch 163/200\n",
            "13/13 [==============================] - 0s 5ms/step - loss: 6.7320 - mae: 6.7320\n",
            "Epoch 164/200\n",
            "13/13 [==============================] - 0s 5ms/step - loss: 6.8061 - mae: 6.8061\n",
            "Epoch 165/200\n",
            "13/13 [==============================] - 0s 5ms/step - loss: 6.6431 - mae: 6.6431\n",
            "Epoch 166/200\n",
            "13/13 [==============================] - 0s 5ms/step - loss: 6.7744 - mae: 6.7744\n",
            "Epoch 167/200\n",
            "13/13 [==============================] - 0s 5ms/step - loss: 6.6332 - mae: 6.6332\n",
            "Epoch 168/200\n",
            "13/13 [==============================] - 0s 5ms/step - loss: 6.6580 - mae: 6.6580\n",
            "Epoch 169/200\n",
            "13/13 [==============================] - 0s 5ms/step - loss: 6.6625 - mae: 6.6625\n",
            "Epoch 170/200\n",
            "13/13 [==============================] - 0s 4ms/step - loss: 6.5819 - mae: 6.5819\n",
            "Epoch 171/200\n",
            "13/13 [==============================] - 0s 5ms/step - loss: 6.6320 - mae: 6.6320\n",
            "Epoch 172/200\n",
            "13/13 [==============================] - 0s 4ms/step - loss: 6.5870 - mae: 6.5870\n",
            "Epoch 173/200\n",
            "13/13 [==============================] - 0s 4ms/step - loss: 6.5453 - mae: 6.5453\n",
            "Epoch 174/200\n",
            "13/13 [==============================] - 0s 5ms/step - loss: 6.6198 - mae: 6.6198\n",
            "Epoch 175/200\n",
            "13/13 [==============================] - 0s 6ms/step - loss: 6.6304 - mae: 6.6304\n",
            "Epoch 176/200\n",
            "13/13 [==============================] - 0s 6ms/step - loss: 6.5878 - mae: 6.5878\n",
            "Epoch 177/200\n",
            "13/13 [==============================] - 0s 4ms/step - loss: 6.7651 - mae: 6.7651\n",
            "Epoch 178/200\n",
            "13/13 [==============================] - 0s 5ms/step - loss: 6.7398 - mae: 6.7398\n",
            "Epoch 179/200\n",
            "13/13 [==============================] - 0s 4ms/step - loss: 6.6598 - mae: 6.6598\n",
            "Epoch 180/200\n",
            "13/13 [==============================] - 0s 5ms/step - loss: 6.7208 - mae: 6.7208\n",
            "Epoch 181/200\n",
            "13/13 [==============================] - 0s 5ms/step - loss: 6.6547 - mae: 6.6547\n",
            "Epoch 182/200\n",
            "13/13 [==============================] - 0s 5ms/step - loss: 6.5369 - mae: 6.5369\n",
            "Epoch 183/200\n",
            "13/13 [==============================] - 0s 5ms/step - loss: 6.5488 - mae: 6.5488\n",
            "Epoch 184/200\n",
            "13/13 [==============================] - 0s 5ms/step - loss: 6.6414 - mae: 6.6414\n",
            "Epoch 185/200\n",
            "13/13 [==============================] - 0s 5ms/step - loss: 6.6566 - mae: 6.6566\n",
            "Epoch 186/200\n",
            "13/13 [==============================] - 0s 4ms/step - loss: 6.7419 - mae: 6.7419\n",
            "Epoch 187/200\n",
            "13/13 [==============================] - 0s 4ms/step - loss: 6.8448 - mae: 6.8448\n",
            "Epoch 188/200\n",
            "13/13 [==============================] - 0s 5ms/step - loss: 6.6286 - mae: 6.6286\n",
            "Epoch 189/200\n",
            "13/13 [==============================] - 0s 5ms/step - loss: 6.5896 - mae: 6.5896\n",
            "Epoch 190/200\n",
            "13/13 [==============================] - 0s 4ms/step - loss: 6.5515 - mae: 6.5515\n",
            "Epoch 191/200\n",
            "13/13 [==============================] - 0s 5ms/step - loss: 6.5980 - mae: 6.5980\n",
            "Epoch 192/200\n",
            "13/13 [==============================] - 0s 5ms/step - loss: 6.5801 - mae: 6.5801\n",
            "Epoch 193/200\n",
            "13/13 [==============================] - 0s 5ms/step - loss: 6.6583 - mae: 6.6583\n",
            "Epoch 194/200\n",
            "13/13 [==============================] - 0s 5ms/step - loss: 6.5374 - mae: 6.5374\n",
            "Epoch 195/200\n",
            "13/13 [==============================] - 0s 4ms/step - loss: 6.6059 - mae: 6.6059\n",
            "Epoch 196/200\n",
            "13/13 [==============================] - 0s 5ms/step - loss: 6.5496 - mae: 6.5496\n",
            "Epoch 197/200\n",
            "13/13 [==============================] - 0s 5ms/step - loss: 6.5530 - mae: 6.5530\n",
            "Epoch 198/200\n",
            "13/13 [==============================] - 0s 5ms/step - loss: 6.5621 - mae: 6.5621\n",
            "Epoch 199/200\n",
            "13/13 [==============================] - 0s 5ms/step - loss: 6.5942 - mae: 6.5942\n",
            "Epoch 200/200\n",
            "13/13 [==============================] - 0s 5ms/step - loss: 6.6277 - mae: 6.6277\n"
          ]
        }
      ]
    },
    {
      "cell_type": "code",
      "source": [
        "model_bh.evaluate(x_test, y_test)"
      ],
      "metadata": {
        "colab": {
          "base_uri": "https://localhost:8080/"
        },
        "id": "9AXBCfiaH3mN",
        "outputId": "9f8d7cb8-3cf5-4f24-d4b9-21524158013e"
      },
      "execution_count": null,
      "outputs": [
        {
          "output_type": "stream",
          "name": "stdout",
          "text": [
            "4/4 [==============================] - 0s 6ms/step - loss: 6.6829 - mae: 6.6829\n"
          ]
        },
        {
          "output_type": "execute_result",
          "data": {
            "text/plain": [
              "[6.682858467102051, 6.682857513427734]"
            ]
          },
          "metadata": {},
          "execution_count": 83
        }
      ]
    },
    {
      "cell_type": "code",
      "source": [
        "pd.DataFrame(hist.history).plot()\n",
        "plt.ylabel(\"loss\")\n",
        "plt.xlabel(\"epochs\")"
      ],
      "metadata": {
        "colab": {
          "base_uri": "https://localhost:8080/",
          "height": 466
        },
        "id": "8yvX5MGeIgke",
        "outputId": "4ca7054b-01c1-4eaf-b930-f935584352ce"
      },
      "execution_count": null,
      "outputs": [
        {
          "output_type": "execute_result",
          "data": {
            "text/plain": [
              "Text(0.5, 0, 'epochs')"
            ]
          },
          "metadata": {},
          "execution_count": 84
        },
        {
          "output_type": "display_data",
          "data": {
            "text/plain": [
              "<Figure size 640x480 with 1 Axes>"
            ],
            "image/png": "[encoded data removed]"
          },
          "metadata": {}
        }
      ]
    }
  ]
}